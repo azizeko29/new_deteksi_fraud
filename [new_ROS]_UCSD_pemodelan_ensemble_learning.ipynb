{
  "nbformat": 4,
  "nbformat_minor": 0,
  "metadata": {
    "colab": {
      "name": "[new_ROS] UCSD_pemodelan_ensemble_learning.ipynb",
      "version": "0.3.2",
      "provenance": [],
      "collapsed_sections": [],
      "include_colab_link": true
    },
    "language_info": {
      "codemirror_mode": {
        "name": "ipython",
        "version": 3
      },
      "file_extension": ".py",
      "mimetype": "text/x-python",
      "name": "python",
      "nbconvert_exporter": "python",
      "pygments_lexer": "ipython3",
      "version": "3.7.2"
    },
    "kernelspec": {
      "display_name": "Python 3",
      "language": "python",
      "name": "python3"
    }
  },
  "cells": [
    {
      "cell_type": "markdown",
      "metadata": {
        "id": "view-in-github",
        "colab_type": "text"
      },
      "source": [
        "<a href=\"https://colab.research.google.com/github/azizeko29/new_deteksi_fraud/blob/master/%5Bnew_ROS%5D_UCSD_pemodelan_ensemble_learning.ipynb\" target=\"_parent\"><img src=\"https://colab.research.google.com/assets/colab-badge.svg\" alt=\"Open In Colab\"/></a>"
      ]
    },
    {
      "cell_type": "code",
      "metadata": {
        "_cell_guid": "b1076dfc-b9ad-4769-8c92-a6c4dae69d19",
        "_uuid": "8f2839f25d086af736a60e9eeb907d3b93b6e0e5",
        "id": "DA-5b8e13OZn",
        "colab_type": "code",
        "colab": {}
      },
      "source": [
        "# This Python 3 environment comes with many helpful analytics libraries installed\n",
        "# It is defined by the kaggle/python docker image: https://github.com/kaggle/docker-python\n",
        "# For example, here's several helpful packages to load in \n",
        "\n",
        "import numpy as np # linear algebra\n",
        "import pandas as pd # data processing, CSV file I/O (e.g. pd.read_csv)\n",
        "# import os\n",
        "import matplotlib.pyplot as plt\n",
        "import seaborn as sns; sns.set()\n",
        "import math\n",
        "import collections\n",
        "import time\n",
        "from scipy import stats"
      ],
      "execution_count": 0,
      "outputs": []
    },
    {
      "cell_type": "code",
      "metadata": {
        "_cell_guid": "79c7e3d0-c299-4dcb-8224-4455121ee9b0",
        "_uuid": "d629ff2d2480ee46fbb7e2d37f6b5fab8052498a",
        "id": "dlNO6PTS3OZr",
        "colab_type": "code",
        "colab": {
          "base_uri": "https://localhost:8080/",
          "height": 70
        },
        "outputId": "226920bc-d42d-4413-b99e-25a8f647f1f9"
      },
      "source": [
        "# %matplotlib inline\n",
        "# from IPython.display import display\n",
        "# from sklearn import metrics\n",
        "# from sklearn.model_selection import train_test_split\n",
        "# from sklearn.metrics import mean_squared_error\n",
        "# from statistics import stdev\n",
        "\n",
        "from sklearn import tree\n",
        "\n",
        "from IPython.display import Image  \n",
        "from sklearn.externals.six import StringIO  \n",
        "import pydotplus"
      ],
      "execution_count": 2,
      "outputs": [
        {
          "output_type": "stream",
          "text": [
            "/usr/local/lib/python3.6/dist-packages/sklearn/externals/six.py:31: DeprecationWarning: The module is deprecated in version 0.21 and will be removed in version 0.23 since we've dropped support for Python 2.7. Please rely on the official version of six (https://pypi.org/project/six/).\n",
            "  \"(https://pypi.org/project/six/).\", DeprecationWarning)\n"
          ],
          "name": "stderr"
        }
      ]
    },
    {
      "cell_type": "code",
      "metadata": {
        "id": "6nu2Fi203OZu",
        "colab_type": "code",
        "colab": {}
      },
      "source": [
        "# np.random.seed(1)"
      ],
      "execution_count": 0,
      "outputs": []
    },
    {
      "cell_type": "code",
      "metadata": {
        "id": "IXbdF63H3OZw",
        "colab_type": "code",
        "colab": {}
      },
      "source": [
        "def confussion_matrik(actual,predict):\n",
        "    TP,FP,FN,TN = 0,0,0,0\n",
        "    for i,val in enumerate(actual):\n",
        "        if val == 0:\n",
        "            if val == predict[i]:\n",
        "                TN += 1\n",
        "            else:\n",
        "                FP += 1\n",
        "        if val == 1:\n",
        "            if val == predict[i]:\n",
        "                TP += 1\n",
        "            else:\n",
        "                FN += 1\n",
        "    return TP,FP,FN,TN\n",
        " \n",
        "def acc_sens_spec(actual,predict):\n",
        "    TP,FP,FN,TN = confussion_matrik(actual,predict)\n",
        "# akurasi\n",
        "    if (TP+FP+FN+TN) == 0 :\n",
        "        accuracy = 0 \n",
        "    else :\n",
        "        accuracy = (TP+TN)/(TP+FP+FN+TN)\n",
        "        \n",
        "# sensitivity\n",
        "    if (TP+FN) == 0 :\n",
        "        sensitivity = 0\n",
        "    else :\n",
        "        sensitivity = TP/(TP+FN)\n",
        "        \n",
        "# specifity    \n",
        "    if (TN +FP) == 0 :\n",
        "        specifity = 0\n",
        "    else :\n",
        "        specifity = TN/(TN +FP)\n",
        "        \n",
        "# precision\n",
        "    if (TP+FP) == 0 :\n",
        "        precision = 0\n",
        "    else :\n",
        "        precision = TP/(TP+FP)\n",
        "\n",
        "# recall\n",
        "    recall = sensitivity\n",
        "\n",
        "# f1_score\n",
        "    if (precision+recall) == 0 :\n",
        "        f1_score = 0\n",
        "    else :\n",
        "        f1_score = 2*((precision*recall)/(precision+recall))  \n",
        "    \n",
        "    return accuracy,sensitivity,specifity,precision,recall,f1_score\n",
        "\n",
        "# Calculate accuracy percentage\n",
        "def accuracy_metric(actual, predicted):\n",
        "    #how many correct predictions?\n",
        "    correct = 0\n",
        "    #for each actual label\n",
        "    for i in range(len(actual)):\n",
        "        #if actual matches predicted label\n",
        "        if actual[i] == predicted[i]:\n",
        "            #add 1 to the correct iterator\n",
        "            correct += 1\n",
        "    #return percentage of predictions that were correct\n",
        "    return correct / float(len(actual)) * 100.0"
      ],
      "execution_count": 0,
      "outputs": []
    },
    {
      "cell_type": "code",
      "metadata": {
        "id": "PJRIgaWu3OZz",
        "colab_type": "code",
        "colab": {}
      },
      "source": [
        "# confussion_matrik(y,pred)"
      ],
      "execution_count": 0,
      "outputs": []
    },
    {
      "cell_type": "code",
      "metadata": {
        "id": "VjDccmJj3OZ3",
        "colab_type": "code",
        "colab": {}
      },
      "source": [
        "# accuracy,sensitivity,specifity = acc_sens_spec(y,pred)\n",
        "# print('acc',accuracy)\n",
        "# print('sens',sensitivity)\n",
        "# print('spec',specifity)"
      ],
      "execution_count": 0,
      "outputs": []
    },
    {
      "cell_type": "code",
      "metadata": {
        "scrolled": true,
        "id": "KJOxP5wX3OZ5",
        "colab_type": "code",
        "colab": {}
      },
      "source": [
        "# accuracy_metric(y,RF.predict(X))"
      ],
      "execution_count": 0,
      "outputs": []
    },
    {
      "cell_type": "code",
      "metadata": {
        "id": "4F9KdIWf3OZ8",
        "colab_type": "code",
        "colab": {}
      },
      "source": [
        "def cross_val_split(X,fold=2,seed=0):\n",
        "    np.random.seed(seed)\n",
        "    n_folds= fold\n",
        "    size = X.shape[0]/n_folds\n",
        "    X_idx = list(range(X.shape[0]))\n",
        "    folds_data= []\n",
        "    for i in range(n_folds):\n",
        "#         print(X_idx)\n",
        "        random_idx = list(np.random.choice(X_idx,int(size),replace=False))\n",
        "#         print(random_idx)\n",
        "        X_idx = [idx for idx in X_idx if idx not in random_idx]\n",
        "#         print(X_idx)\n",
        "\n",
        "        folds_data.append(random_idx)\n",
        "#         print(\"--\")\n",
        "    return folds_data\n",
        "\n",
        "def kfold_cross_validation(model,X,y, n_fold=2, n_seed=0):\n",
        "    folds = cross_val_split(X,fold=n_fold,seed=n_seed)\n",
        "    fold_result =[]\n",
        "    for i in range(len(folds)):\n",
        "    #     print(i)\n",
        "        train = []\n",
        "        for j in range(len(folds)):\n",
        "            if j != i:\n",
        "                train = train + folds[j]\n",
        "        test = folds[i]\n",
        "\n",
        "        X_train = X.iloc[train,:].reset_index(drop=True)\n",
        "        y_train = y[train].reset_index(drop=True)\n",
        "\n",
        "        X_test = X.iloc[test,:].reset_index(drop=True)\n",
        "        y_test = y[test].reset_index(drop=True)\n",
        "\n",
        "\n",
        "        t0 = time.time()\n",
        "        model.fit(X_train, y_train)\n",
        "        t1 = time.time()\n",
        "        waktu = t1 - t0\n",
        "\n",
        "        predict = model.predict(X_test)\n",
        "        accuracy,sensitivity,specifity,precision,recall,f1_score = acc_sens_spec(y_test,predict)\n",
        "\n",
        "        result = [accuracy,sensitivity,specifity,precision,recall,f1_score,waktu]\n",
        "        fold_result.append(result)\n",
        "        \n",
        "    return fold_result"
      ],
      "execution_count": 0,
      "outputs": []
    },
    {
      "cell_type": "code",
      "metadata": {
        "id": "ZiR9UJfnNnnm",
        "colab_type": "code",
        "colab": {}
      },
      "source": [
        "def testing(model,X_test,y_test):\n",
        "    result_ = []\n",
        "\n",
        "#       t0 = time.time()\n",
        "#       model.fit(X_train, y_train)\n",
        "#       t1 = time.time()\n",
        "#       waktu = t1 - t0\n",
        "    predict = model.predict(X_test)\n",
        "    accuracy,sensitivity,specifity,precision,recall,f1_score = acc_sens_spec(y_test,predict)\n",
        "\n",
        "    result = [accuracy,sensitivity,specifity,precision,recall,f1_score]\n",
        "        \n",
        "    result_.append(result)\n",
        "        \n",
        "    return result_"
      ],
      "execution_count": 0,
      "outputs": []
    },
    {
      "cell_type": "code",
      "metadata": {
        "id": "yXcyImFV3OZ_",
        "colab_type": "code",
        "colab": {}
      },
      "source": [
        "# from sklearn.decomposition import PCA\n",
        "# import pylab as pl\n",
        "# def plot_this(X_rs,y_rs,method):\n",
        "#   # Use principal component to condense the 10 features to 2 features\n",
        "#   pca = PCA(n_components=2).fit(X_rs)\n",
        "#   pca_2d = pca.transform(X_rs)\n",
        "#   # Assign colors\n",
        "#   for i in range(0, pca_2d.shape[0]):\n",
        "#     if y_rs[i] == 0:\n",
        "#       c1 = pl.scatter(pca_2d[i,0],pca_2d[i,1],c='r', marker='o')\n",
        "#     elif y_rs[i] == 1:\n",
        "#       c2 = pl.scatter(pca_2d[i,0],pca_2d[i,1],c='g', marker='*')  \n",
        "#   pl.legend([c1, c2], ['Class 1', 'Class 2'])\n",
        "#   pl.title(method)\n",
        "#   pl.axis([-4, 5, -4, 4])  # x axis (-4,5), y axis (-4,4)\n",
        "#   pl.show()\n",
        "    \n"
      ],
      "execution_count": 0,
      "outputs": []
    },
    {
      "cell_type": "markdown",
      "metadata": {
        "id": "EzoQL3J93OaC",
        "colab_type": "text"
      },
      "source": [
        "## ---------"
      ]
    },
    {
      "cell_type": "code",
      "metadata": {
        "id": "_MIdGmzb3OaC",
        "colab_type": "code",
        "colab": {}
      },
      "source": [
        "# ##read data\n",
        "\n",
        "# train = pd.read_csv('data/ucsd_fico_train.csv',sep=\",\")\n",
        "\n",
        "# test = pd.DataFrame({'0': [0]})\n",
        "# test_ = pd.read_csv('data/ucsd_fico_test.csv',sep=\",\")\n",
        "# test = test.append(test_)\n",
        "# test = test.reset_index(drop=True)\n",
        "\n",
        "# df = train.copy()\n",
        "# df['Class'] = test\n",
        "# # df = pd.read_csv('data/sample_data.csv',sep=\",\")\n",
        "\n",
        "# # df0 = df.copy()\n",
        "# # df.info()"
      ],
      "execution_count": 0,
      "outputs": []
    },
    {
      "cell_type": "code",
      "metadata": {
        "id": "4mSWZUgT8Llq",
        "colab_type": "code",
        "outputId": "7863d128-ba91-48e1-89c6-cebd517de410",
        "colab": {
          "base_uri": "https://localhost:8080/",
          "height": 33
        }
      },
      "source": [
        "# Code to read csv file into Colaboratory:\n",
        "!pip install -U -q PyDrive\n",
        "from pydrive.auth import GoogleAuth\n",
        "from pydrive.drive import GoogleDrive\n",
        "from google.colab import auth\n",
        "from oauth2client.client import GoogleCredentials\n",
        "# Authenticate and create the PyDrive client.\n",
        "auth.authenticate_user()\n",
        "gauth = GoogleAuth()\n",
        "gauth.credentials = GoogleCredentials.get_application_default()\n",
        "drive = GoogleDrive(gauth)\n",
        "\n",
        "link = 'https://drive.google.com/open?id=1FrxKcydTkUSbrgTSnnocnGQBtgZj3LKt' # The shareable link\n",
        "\n",
        "fluff, id = link.split('=')\n",
        "print (id) # Verify that you have everything after '='\n",
        "\n",
        "downloaded = drive.CreateFile({'id':id}) \n",
        "downloaded.GetContentFile('ucsd_fico_train.csv')  \n",
        "read_df = pd.read_csv('ucsd_fico_train.csv')\n"
      ],
      "execution_count": 11,
      "outputs": [
        {
          "output_type": "stream",
          "text": [
            "1FrxKcydTkUSbrgTSnnocnGQBtgZj3LKt\n"
          ],
          "name": "stdout"
        }
      ]
    },
    {
      "cell_type": "code",
      "metadata": {
        "id": "Npa7vaXf8Liv",
        "colab_type": "code",
        "outputId": "f35bac5a-e594-4af1-a2b6-428eaf46f281",
        "colab": {
          "base_uri": "https://localhost:8080/",
          "height": 33
        }
      },
      "source": [
        "\n",
        "link = 'https://drive.google.com/open?id=1D4CeWw7WRuTUQB7Zq4E2_-Wgin0y7luT' # The shareable link\n",
        "\n",
        "fluff, id = link.split('=')\n",
        "print (id) # Verify that you have everything after '='\n",
        "\n",
        "downloaded = drive.CreateFile({'id':id}) \n",
        "downloaded.GetContentFile('ucsd_fico_test.csv')  \n",
        "test_ = pd.read_csv('ucsd_fico_test.csv')\n",
        "# Dataset is now stored in a Pandas Dataframe\n",
        "# df.info()"
      ],
      "execution_count": 12,
      "outputs": [
        {
          "output_type": "stream",
          "text": [
            "1D4CeWw7WRuTUQB7Zq4E2_-Wgin0y7luT\n"
          ],
          "name": "stdout"
        }
      ]
    },
    {
      "cell_type": "code",
      "metadata": {
        "id": "IPssYEPr8LfQ",
        "colab_type": "code",
        "colab": {}
      },
      "source": [
        "test = pd.DataFrame({'0': [0]})\n",
        "test = test.append(test_)\n",
        "test = test.reset_index(drop=True)\n",
        "\n",
        "# df = read_df.copy()\n",
        "read_df['Class'] = test"
      ],
      "execution_count": 0,
      "outputs": []
    },
    {
      "cell_type": "code",
      "metadata": {
        "id": "qdJjLqe78Lbv",
        "colab_type": "code",
        "colab": {}
      },
      "source": [
        "df = read_df.copy()"
      ],
      "execution_count": 0,
      "outputs": []
    },
    {
      "cell_type": "code",
      "metadata": {
        "id": "Ahm3kLsp3OaP",
        "colab_type": "code",
        "colab": {}
      },
      "source": [
        "# df.head()"
      ],
      "execution_count": 0,
      "outputs": []
    },
    {
      "cell_type": "code",
      "metadata": {
        "id": "GDigin293OaS",
        "colab_type": "code",
        "outputId": "8f67a3ed-0dda-4abb-8885-e367d5efc0fd",
        "colab": {
          "base_uri": "https://localhost:8080/",
          "height": 211
        }
      },
      "source": [
        "df.tail()"
      ],
      "execution_count": 16,
      "outputs": [
        {
          "output_type": "execute_result",
          "data": {
            "text/html": [
              "<div>\n",
              "<style scoped>\n",
              "    .dataframe tbody tr th:only-of-type {\n",
              "        vertical-align: middle;\n",
              "    }\n",
              "\n",
              "    .dataframe tbody tr th {\n",
              "        vertical-align: top;\n",
              "    }\n",
              "\n",
              "    .dataframe thead th {\n",
              "        text-align: right;\n",
              "    }\n",
              "</style>\n",
              "<table border=\"1\" class=\"dataframe\">\n",
              "  <thead>\n",
              "    <tr style=\"text-align: right;\">\n",
              "      <th></th>\n",
              "      <th>amount</th>\n",
              "      <th>hour1</th>\n",
              "      <th>state1</th>\n",
              "      <th>zip1</th>\n",
              "      <th>custAttr1</th>\n",
              "      <th>field1</th>\n",
              "      <th>custAttr2</th>\n",
              "      <th>field2</th>\n",
              "      <th>hour2</th>\n",
              "      <th>flag1</th>\n",
              "      <th>total</th>\n",
              "      <th>field3</th>\n",
              "      <th>field4</th>\n",
              "      <th>indicator1</th>\n",
              "      <th>indicator2</th>\n",
              "      <th>flag2</th>\n",
              "      <th>flag3</th>\n",
              "      <th>flag4</th>\n",
              "      <th>flag5</th>\n",
              "      <th>Class</th>\n",
              "    </tr>\n",
              "  </thead>\n",
              "  <tbody>\n",
              "    <tr>\n",
              "      <th>99995</th>\n",
              "      <td>31.08</td>\n",
              "      <td>14</td>\n",
              "      <td>GA</td>\n",
              "      <td>313</td>\n",
              "      <td>1234567890197181</td>\n",
              "      <td>2</td>\n",
              "      <td>owdybxinfiqla@ucxhcpouwmc.net</td>\n",
              "      <td>0</td>\n",
              "      <td>14</td>\n",
              "      <td>1</td>\n",
              "      <td>31.08</td>\n",
              "      <td>-8044</td>\n",
              "      <td>10</td>\n",
              "      <td>0</td>\n",
              "      <td>0</td>\n",
              "      <td>0</td>\n",
              "      <td>0</td>\n",
              "      <td>0</td>\n",
              "      <td>1</td>\n",
              "      <td>0</td>\n",
              "    </tr>\n",
              "    <tr>\n",
              "      <th>99996</th>\n",
              "      <td>49.95</td>\n",
              "      <td>14</td>\n",
              "      <td>LA</td>\n",
              "      <td>704</td>\n",
              "      <td>1234567890197182</td>\n",
              "      <td>0</td>\n",
              "      <td>vnmhghmwnxhso@xnzysnub.com</td>\n",
              "      <td>0</td>\n",
              "      <td>14</td>\n",
              "      <td>0</td>\n",
              "      <td>49.95</td>\n",
              "      <td>393</td>\n",
              "      <td>18</td>\n",
              "      <td>1</td>\n",
              "      <td>0</td>\n",
              "      <td>1</td>\n",
              "      <td>0</td>\n",
              "      <td>0</td>\n",
              "      <td>1</td>\n",
              "      <td>0</td>\n",
              "    </tr>\n",
              "    <tr>\n",
              "      <th>99997</th>\n",
              "      <td>11.01</td>\n",
              "      <td>14</td>\n",
              "      <td>NY</td>\n",
              "      <td>117</td>\n",
              "      <td>1234567890196488</td>\n",
              "      <td>3</td>\n",
              "      <td>uphjcxjkubtrw@aol.com</td>\n",
              "      <td>1</td>\n",
              "      <td>14</td>\n",
              "      <td>1</td>\n",
              "      <td>11.01</td>\n",
              "      <td>4261</td>\n",
              "      <td>11</td>\n",
              "      <td>0</td>\n",
              "      <td>0</td>\n",
              "      <td>1</td>\n",
              "      <td>1</td>\n",
              "      <td>0</td>\n",
              "      <td>1</td>\n",
              "      <td>0</td>\n",
              "    </tr>\n",
              "    <tr>\n",
              "      <th>99998</th>\n",
              "      <td>12.95</td>\n",
              "      <td>14</td>\n",
              "      <td>VA</td>\n",
              "      <td>245</td>\n",
              "      <td>1234567890197183</td>\n",
              "      <td>3</td>\n",
              "      <td>sasmynlsqebdv65@aol.com</td>\n",
              "      <td>1</td>\n",
              "      <td>14</td>\n",
              "      <td>0</td>\n",
              "      <td>12.95</td>\n",
              "      <td>515</td>\n",
              "      <td>21</td>\n",
              "      <td>0</td>\n",
              "      <td>0</td>\n",
              "      <td>0</td>\n",
              "      <td>0</td>\n",
              "      <td>0</td>\n",
              "      <td>1</td>\n",
              "      <td>0</td>\n",
              "    </tr>\n",
              "    <tr>\n",
              "      <th>99999</th>\n",
              "      <td>12.95</td>\n",
              "      <td>14</td>\n",
              "      <td>TN</td>\n",
              "      <td>372</td>\n",
              "      <td>1234567890197184</td>\n",
              "      <td>3</td>\n",
              "      <td>kvclngihgwldo@yahoo.com</td>\n",
              "      <td>1</td>\n",
              "      <td>14</td>\n",
              "      <td>0</td>\n",
              "      <td>12.95</td>\n",
              "      <td>4229</td>\n",
              "      <td>22</td>\n",
              "      <td>0</td>\n",
              "      <td>0</td>\n",
              "      <td>0</td>\n",
              "      <td>1</td>\n",
              "      <td>0</td>\n",
              "      <td>1</td>\n",
              "      <td>0</td>\n",
              "    </tr>\n",
              "  </tbody>\n",
              "</table>\n",
              "</div>"
            ],
            "text/plain": [
              "       amount  hour1 state1  zip1  ...  flag3  flag4 flag5  Class\n",
              "99995   31.08     14     GA   313  ...      0      0     1      0\n",
              "99996   49.95     14     LA   704  ...      0      0     1      0\n",
              "99997   11.01     14     NY   117  ...      1      0     1      0\n",
              "99998   12.95     14     VA   245  ...      0      0     1      0\n",
              "99999   12.95     14     TN   372  ...      1      0     1      0\n",
              "\n",
              "[5 rows x 20 columns]"
            ]
          },
          "metadata": {
            "tags": []
          },
          "execution_count": 16
        }
      ]
    },
    {
      "cell_type": "code",
      "metadata": {
        "id": "jtkUib8U3OaV",
        "colab_type": "code",
        "outputId": "27ab3029-f1ca-4109-9a44-4465736d6ed6",
        "colab": {
          "base_uri": "https://localhost:8080/",
          "height": 423
        }
      },
      "source": [
        "df.info()"
      ],
      "execution_count": 17,
      "outputs": [
        {
          "output_type": "stream",
          "text": [
            "<class 'pandas.core.frame.DataFrame'>\n",
            "RangeIndex: 100000 entries, 0 to 99999\n",
            "Data columns (total 20 columns):\n",
            "amount        100000 non-null float64\n",
            "hour1         100000 non-null int64\n",
            "state1        99999 non-null object\n",
            "zip1          100000 non-null int64\n",
            "custAttr1     100000 non-null int64\n",
            "field1        100000 non-null int64\n",
            "custAttr2     100000 non-null object\n",
            "field2        100000 non-null int64\n",
            "hour2         100000 non-null int64\n",
            "flag1         100000 non-null int64\n",
            "total         100000 non-null float64\n",
            "field3        100000 non-null int64\n",
            "field4        100000 non-null int64\n",
            "indicator1    100000 non-null int64\n",
            "indicator2    100000 non-null int64\n",
            "flag2         100000 non-null int64\n",
            "flag3         100000 non-null int64\n",
            "flag4         100000 non-null int64\n",
            "flag5         100000 non-null int64\n",
            "Class         100000 non-null int64\n",
            "dtypes: float64(2), int64(16), object(2)\n",
            "memory usage: 15.3+ MB\n"
          ],
          "name": "stdout"
        }
      ]
    },
    {
      "cell_type": "code",
      "metadata": {
        "id": "H-DUYDez3OaY",
        "colab_type": "code",
        "outputId": "8d4f9b1d-0ee6-4bd0-bf09-df5caebd6c58",
        "colab": {
          "base_uri": "https://localhost:8080/",
          "height": 33
        }
      },
      "source": [
        "df.shape"
      ],
      "execution_count": 18,
      "outputs": [
        {
          "output_type": "execute_result",
          "data": {
            "text/plain": [
              "(100000, 20)"
            ]
          },
          "metadata": {
            "tags": []
          },
          "execution_count": 18
        }
      ]
    },
    {
      "cell_type": "code",
      "metadata": {
        "id": "t44UJQu13Oac",
        "colab_type": "code",
        "outputId": "b2bd061b-5010-4bb7-b834-9e7320f7dad8",
        "colab": {
          "base_uri": "https://localhost:8080/",
          "height": 66
        }
      },
      "source": [
        "df['Class'].value_counts()"
      ],
      "execution_count": 19,
      "outputs": [
        {
          "output_type": "execute_result",
          "data": {
            "text/plain": [
              "0    97346\n",
              "1     2654\n",
              "Name: Class, dtype: int64"
            ]
          },
          "metadata": {
            "tags": []
          },
          "execution_count": 19
        }
      ]
    },
    {
      "cell_type": "code",
      "metadata": {
        "id": "KylXqN4G3Oah",
        "colab_type": "code",
        "outputId": "7068a098-6d80-4674-98af-42a26fa9da85",
        "colab": {
          "base_uri": "https://localhost:8080/",
          "height": 428
        }
      },
      "source": [
        "plt.figure(1,figsize=(5, 5), dpi=80)\n",
        "plt.grid(color='b', linestyle='-', linewidth=0.2)\n",
        "plt.title('Class Distributions \\n (0: No Fraud || 1: Fraud)', fontsize=14)\n",
        "sns.countplot('Class', data=df,palette='Set2')\n"
      ],
      "execution_count": 20,
      "outputs": [
        {
          "output_type": "execute_result",
          "data": {
            "text/plain": [
              "<matplotlib.axes._subplots.AxesSubplot at 0x7f38912be208>"
            ]
          },
          "metadata": {
            "tags": []
          },
          "execution_count": 20
        },
        {
          "output_type": "display_data",
          "data": {
            "image/png": "[encoded data removed]",
            "text/plain": [
              "<Figure size 400x400 with 1 Axes>"
            ]
          },
          "metadata": {
            "tags": []
          }
        }
      ]
    },
    {
      "cell_type": "code",
      "metadata": {
        "id": "Z5XV5xug3Oal",
        "colab_type": "code",
        "outputId": "d050cb83-c5f8-4d6a-ee82-469081b9ad07",
        "colab": {
          "base_uri": "https://localhost:8080/",
          "height": 50
        }
      },
      "source": [
        "count = 0\n",
        "for a in df.columns:\n",
        "    if df[a].isnull().sum() > 0 :\n",
        "        print(a)\n",
        "        count+=1\n",
        "count"
      ],
      "execution_count": 21,
      "outputs": [
        {
          "output_type": "stream",
          "text": [
            "state1\n"
          ],
          "name": "stdout"
        },
        {
          "output_type": "execute_result",
          "data": {
            "text/plain": [
              "1"
            ]
          },
          "metadata": {
            "tags": []
          },
          "execution_count": 21
        }
      ]
    },
    {
      "cell_type": "code",
      "metadata": {
        "id": "zECVxGVf3Oar",
        "colab_type": "code",
        "outputId": "3187c47e-4048-4e41-864d-b2c54efb5d5e",
        "colab": {
          "base_uri": "https://localhost:8080/",
          "height": 115
        }
      },
      "source": [
        "df['state1'].unique()"
      ],
      "execution_count": 22,
      "outputs": [
        {
          "output_type": "execute_result",
          "data": {
            "text/plain": [
              "array(['WA', 'KY', 'CA', 'GA', 'AZ', 'MO', 'TX', 'IL', 'HI', 'UT', 'NC',\n",
              "       'NY', 'FL', 'MN', 'VA', 'MA', 'IN', 'LA', 'TN', 'MD', 'NJ', 'ID',\n",
              "       'OH', 'PA', 'SC', 'AL', 'MI', 'WI', 'DC', 'AR', 'CT', 'OR', 'OK',\n",
              "       'SD', 'NH', 'NM', 'NV', 'NE', 'MS', 'ND', 'CO', 'KS', 'WV', 'RI',\n",
              "       'ME', 'IA', 'MT', 'WY', 'AK', 'VT', 'DE', 'AP', 'AE', 'PR', nan],\n",
              "      dtype=object)"
            ]
          },
          "metadata": {
            "tags": []
          },
          "execution_count": 22
        }
      ]
    },
    {
      "cell_type": "code",
      "metadata": {
        "id": "iMmj4-cb3Oax",
        "colab_type": "code",
        "colab": {}
      },
      "source": [
        "df['state1'] =df['state1'].fillna('CA')"
      ],
      "execution_count": 0,
      "outputs": []
    },
    {
      "cell_type": "code",
      "metadata": {
        "id": "PJs4sHCM3Oa0",
        "colab_type": "code",
        "outputId": "93a06027-2618-4bc2-88a8-2533e3e50e94",
        "colab": {
          "base_uri": "https://localhost:8080/",
          "height": 96
        }
      },
      "source": [
        "df.iloc[80876:80877]"
      ],
      "execution_count": 24,
      "outputs": [
        {
          "output_type": "execute_result",
          "data": {
            "text/html": [
              "<div>\n",
              "<style scoped>\n",
              "    .dataframe tbody tr th:only-of-type {\n",
              "        vertical-align: middle;\n",
              "    }\n",
              "\n",
              "    .dataframe tbody tr th {\n",
              "        vertical-align: top;\n",
              "    }\n",
              "\n",
              "    .dataframe thead th {\n",
              "        text-align: right;\n",
              "    }\n",
              "</style>\n",
              "<table border=\"1\" class=\"dataframe\">\n",
              "  <thead>\n",
              "    <tr style=\"text-align: right;\">\n",
              "      <th></th>\n",
              "      <th>amount</th>\n",
              "      <th>hour1</th>\n",
              "      <th>state1</th>\n",
              "      <th>zip1</th>\n",
              "      <th>custAttr1</th>\n",
              "      <th>field1</th>\n",
              "      <th>custAttr2</th>\n",
              "      <th>field2</th>\n",
              "      <th>hour2</th>\n",
              "      <th>flag1</th>\n",
              "      <th>total</th>\n",
              "      <th>field3</th>\n",
              "      <th>field4</th>\n",
              "      <th>indicator1</th>\n",
              "      <th>indicator2</th>\n",
              "      <th>flag2</th>\n",
              "      <th>flag3</th>\n",
              "      <th>flag4</th>\n",
              "      <th>flag5</th>\n",
              "      <th>Class</th>\n",
              "    </tr>\n",
              "  </thead>\n",
              "  <tbody>\n",
              "    <tr>\n",
              "      <th>80876</th>\n",
              "      <td>49.95</td>\n",
              "      <td>20</td>\n",
              "      <td>CA</td>\n",
              "      <td>9</td>\n",
              "      <td>1234567890183719</td>\n",
              "      <td>3</td>\n",
              "      <td>womaeenhfvtfu@hotmail.com</td>\n",
              "      <td>0</td>\n",
              "      <td>20</td>\n",
              "      <td>0</td>\n",
              "      <td>49.95</td>\n",
              "      <td>3166</td>\n",
              "      <td>23</td>\n",
              "      <td>1</td>\n",
              "      <td>0</td>\n",
              "      <td>1</td>\n",
              "      <td>0</td>\n",
              "      <td>0</td>\n",
              "      <td>1</td>\n",
              "      <td>0</td>\n",
              "    </tr>\n",
              "  </tbody>\n",
              "</table>\n",
              "</div>"
            ],
            "text/plain": [
              "       amount  hour1 state1  zip1  ...  flag3  flag4 flag5  Class\n",
              "80876   49.95     20     CA     9  ...      0      0     1      0\n",
              "\n",
              "[1 rows x 20 columns]"
            ]
          },
          "metadata": {
            "tags": []
          },
          "execution_count": 24
        }
      ]
    },
    {
      "cell_type": "code",
      "metadata": {
        "id": "czp6xPTt3Oa3",
        "colab_type": "code",
        "outputId": "d795026d-295a-45e5-c6be-5cb694946e2d",
        "colab": {
          "base_uri": "https://localhost:8080/",
          "height": 33
        }
      },
      "source": [
        "len(df.columns)"
      ],
      "execution_count": 25,
      "outputs": [
        {
          "output_type": "execute_result",
          "data": {
            "text/plain": [
              "20"
            ]
          },
          "metadata": {
            "tags": []
          },
          "execution_count": 25
        }
      ]
    },
    {
      "cell_type": "markdown",
      "metadata": {
        "id": "MUDZ_6wN3Oa7",
        "colab_type": "text"
      },
      "source": [
        "3.2. Data Preprocessing\n",
        "The hard version of the dataset contains two sub datasets—training set and testing set. The training set is labeled and the testing set is unlabeled. We have used only the labeled training dataset. It contains 100000 transactions of 73729 customers spanning over a period of 98 days. The dataset contains 20 fields including class labels—amount, hour1, state1, zip1, custAttr1, field1, custAttr2, field2, hour2, flag1, total, field3, field4, indicator1, indicator2, flag2, flag3, flag4, flag5, and Class. It is found that custAttr1 is the account/card number and custAttr2 is e-mail id of the customer. Both these fields are unique to a particular customer and thus we decided to keep only custAttr1. The fields total and amount as well as hour1 and hour2 are found to be the same for each customer and thus we removed total and hour2. Similarly state1 and zip1 are also found to be representing the same information and thus we removed state1. All other fields are anonymized and therefore we decided to keep them as they are. Thus our final dataset contains 16 fields—amount, hour1, zip1, custAttr1, field1, field2, flag1, field3, field4, indicator1, indicator2, flag2, flag3, flag4, flag5, and Class."
      ]
    },
    {
      "cell_type": "code",
      "metadata": {
        "id": "vgPRaLbu3Oa8",
        "colab_type": "code",
        "outputId": "15bbbbb3-134d-4d87-8bc3-33c3a6d1d032",
        "colab": {
          "base_uri": "https://localhost:8080/",
          "height": 211
        }
      },
      "source": [
        "df.tail()"
      ],
      "execution_count": 26,
      "outputs": [
        {
          "output_type": "execute_result",
          "data": {
            "text/html": [
              "<div>\n",
              "<style scoped>\n",
              "    .dataframe tbody tr th:only-of-type {\n",
              "        vertical-align: middle;\n",
              "    }\n",
              "\n",
              "    .dataframe tbody tr th {\n",
              "        vertical-align: top;\n",
              "    }\n",
              "\n",
              "    .dataframe thead th {\n",
              "        text-align: right;\n",
              "    }\n",
              "</style>\n",
              "<table border=\"1\" class=\"dataframe\">\n",
              "  <thead>\n",
              "    <tr style=\"text-align: right;\">\n",
              "      <th></th>\n",
              "      <th>amount</th>\n",
              "      <th>hour1</th>\n",
              "      <th>state1</th>\n",
              "      <th>zip1</th>\n",
              "      <th>custAttr1</th>\n",
              "      <th>field1</th>\n",
              "      <th>custAttr2</th>\n",
              "      <th>field2</th>\n",
              "      <th>hour2</th>\n",
              "      <th>flag1</th>\n",
              "      <th>total</th>\n",
              "      <th>field3</th>\n",
              "      <th>field4</th>\n",
              "      <th>indicator1</th>\n",
              "      <th>indicator2</th>\n",
              "      <th>flag2</th>\n",
              "      <th>flag3</th>\n",
              "      <th>flag4</th>\n",
              "      <th>flag5</th>\n",
              "      <th>Class</th>\n",
              "    </tr>\n",
              "  </thead>\n",
              "  <tbody>\n",
              "    <tr>\n",
              "      <th>99995</th>\n",
              "      <td>31.08</td>\n",
              "      <td>14</td>\n",
              "      <td>GA</td>\n",
              "      <td>313</td>\n",
              "      <td>1234567890197181</td>\n",
              "      <td>2</td>\n",
              "      <td>owdybxinfiqla@ucxhcpouwmc.net</td>\n",
              "      <td>0</td>\n",
              "      <td>14</td>\n",
              "      <td>1</td>\n",
              "      <td>31.08</td>\n",
              "      <td>-8044</td>\n",
              "      <td>10</td>\n",
              "      <td>0</td>\n",
              "      <td>0</td>\n",
              "      <td>0</td>\n",
              "      <td>0</td>\n",
              "      <td>0</td>\n",
              "      <td>1</td>\n",
              "      <td>0</td>\n",
              "    </tr>\n",
              "    <tr>\n",
              "      <th>99996</th>\n",
              "      <td>49.95</td>\n",
              "      <td>14</td>\n",
              "      <td>LA</td>\n",
              "      <td>704</td>\n",
              "      <td>1234567890197182</td>\n",
              "      <td>0</td>\n",
              "      <td>vnmhghmwnxhso@xnzysnub.com</td>\n",
              "      <td>0</td>\n",
              "      <td>14</td>\n",
              "      <td>0</td>\n",
              "      <td>49.95</td>\n",
              "      <td>393</td>\n",
              "      <td>18</td>\n",
              "      <td>1</td>\n",
              "      <td>0</td>\n",
              "      <td>1</td>\n",
              "      <td>0</td>\n",
              "      <td>0</td>\n",
              "      <td>1</td>\n",
              "      <td>0</td>\n",
              "    </tr>\n",
              "    <tr>\n",
              "      <th>99997</th>\n",
              "      <td>11.01</td>\n",
              "      <td>14</td>\n",
              "      <td>NY</td>\n",
              "      <td>117</td>\n",
              "      <td>1234567890196488</td>\n",
              "      <td>3</td>\n",
              "      <td>uphjcxjkubtrw@aol.com</td>\n",
              "      <td>1</td>\n",
              "      <td>14</td>\n",
              "      <td>1</td>\n",
              "      <td>11.01</td>\n",
              "      <td>4261</td>\n",
              "      <td>11</td>\n",
              "      <td>0</td>\n",
              "      <td>0</td>\n",
              "      <td>1</td>\n",
              "      <td>1</td>\n",
              "      <td>0</td>\n",
              "      <td>1</td>\n",
              "      <td>0</td>\n",
              "    </tr>\n",
              "    <tr>\n",
              "      <th>99998</th>\n",
              "      <td>12.95</td>\n",
              "      <td>14</td>\n",
              "      <td>VA</td>\n",
              "      <td>245</td>\n",
              "      <td>1234567890197183</td>\n",
              "      <td>3</td>\n",
              "      <td>sasmynlsqebdv65@aol.com</td>\n",
              "      <td>1</td>\n",
              "      <td>14</td>\n",
              "      <td>0</td>\n",
              "      <td>12.95</td>\n",
              "      <td>515</td>\n",
              "      <td>21</td>\n",
              "      <td>0</td>\n",
              "      <td>0</td>\n",
              "      <td>0</td>\n",
              "      <td>0</td>\n",
              "      <td>0</td>\n",
              "      <td>1</td>\n",
              "      <td>0</td>\n",
              "    </tr>\n",
              "    <tr>\n",
              "      <th>99999</th>\n",
              "      <td>12.95</td>\n",
              "      <td>14</td>\n",
              "      <td>TN</td>\n",
              "      <td>372</td>\n",
              "      <td>1234567890197184</td>\n",
              "      <td>3</td>\n",
              "      <td>kvclngihgwldo@yahoo.com</td>\n",
              "      <td>1</td>\n",
              "      <td>14</td>\n",
              "      <td>0</td>\n",
              "      <td>12.95</td>\n",
              "      <td>4229</td>\n",
              "      <td>22</td>\n",
              "      <td>0</td>\n",
              "      <td>0</td>\n",
              "      <td>0</td>\n",
              "      <td>1</td>\n",
              "      <td>0</td>\n",
              "      <td>1</td>\n",
              "      <td>0</td>\n",
              "    </tr>\n",
              "  </tbody>\n",
              "</table>\n",
              "</div>"
            ],
            "text/plain": [
              "       amount  hour1 state1  zip1  ...  flag3  flag4 flag5  Class\n",
              "99995   31.08     14     GA   313  ...      0      0     1      0\n",
              "99996   49.95     14     LA   704  ...      0      0     1      0\n",
              "99997   11.01     14     NY   117  ...      1      0     1      0\n",
              "99998   12.95     14     VA   245  ...      0      0     1      0\n",
              "99999   12.95     14     TN   372  ...      1      0     1      0\n",
              "\n",
              "[5 rows x 20 columns]"
            ]
          },
          "metadata": {
            "tags": []
          },
          "execution_count": 26
        }
      ]
    },
    {
      "cell_type": "code",
      "metadata": {
        "id": "_pvqLrJW3Oa_",
        "colab_type": "code",
        "colab": {}
      },
      "source": [
        "df = df.drop(['custAttr2','total','hour2','state1',], axis=1)"
      ],
      "execution_count": 0,
      "outputs": []
    },
    {
      "cell_type": "code",
      "metadata": {
        "id": "NNTAj-fB3ObE",
        "colab_type": "code",
        "outputId": "8c14e280-54b1-47f1-8d42-4d1ff916d9d4",
        "colab": {
          "base_uri": "https://localhost:8080/",
          "height": 33
        }
      },
      "source": [
        "len(df.columns)"
      ],
      "execution_count": 28,
      "outputs": [
        {
          "output_type": "execute_result",
          "data": {
            "text/plain": [
              "16"
            ]
          },
          "metadata": {
            "tags": []
          },
          "execution_count": 28
        }
      ]
    },
    {
      "cell_type": "markdown",
      "metadata": {
        "id": "tuzuzCZ83ObH",
        "colab_type": "text"
      },
      "source": [
        "3.3. Training and Testing Dataset Creation\n",
        "The following procedures are used for creating training and testing datasets for evaluating our model.\n",
        "\n",
        "First, we removed the transactions corresponding to those customers who have only one transaction in dataset since it appears either in training or testing dataset only. Now the dataset has been reduced to 40918 transactions.\n",
        "\n",
        "Then we divided these 40918 transactions into two sets—training set with 21000 transactions and testing set with 19918 transactions.\n",
        "\n",
        "Again from the training dataset we removed the transactions corresponding to those customers who have only one transaction in the training dataset since it is hard to find a pattern from a single transaction. Now the training dataset has been reduced to 19165 transactions.\n",
        "\n",
        "From this dataset, we have randomly selected different groups of customers and their corresponding transactions in the training and testing dataset to create different training and testing datasets to evaluate the performance of FraudMiner with increasing number of transactions. The data distribution is shown in Table 1."
      ]
    },
    {
      "cell_type": "code",
      "metadata": {
        "id": "s1qfvQ6m3ObI",
        "colab_type": "code",
        "colab": {}
      },
      "source": [
        "df['frek'] = df.groupby('custAttr1')['custAttr1'].transform('count')\n",
        "# df['frek'].value_counts()"
      ],
      "execution_count": 0,
      "outputs": []
    },
    {
      "cell_type": "code",
      "metadata": {
        "id": "UZfCe9Il3ObL",
        "colab_type": "code",
        "outputId": "49cc9399-52f6-44b6-a8b7-30e616b58070",
        "colab": {
          "base_uri": "https://localhost:8080/",
          "height": 33
        }
      },
      "source": [
        "df.shape"
      ],
      "execution_count": 30,
      "outputs": [
        {
          "output_type": "execute_result",
          "data": {
            "text/plain": [
              "(100000, 17)"
            ]
          },
          "metadata": {
            "tags": []
          },
          "execution_count": 30
        }
      ]
    },
    {
      "cell_type": "code",
      "metadata": {
        "id": "LMyi25T_3ObQ",
        "colab_type": "code",
        "outputId": "63cddbd2-f625-406e-8eb8-81c0d51a8710",
        "colab": {
          "base_uri": "https://localhost:8080/",
          "height": 33
        }
      },
      "source": [
        "df = df[df['frek'] > 1]\n",
        "df.shape"
      ],
      "execution_count": 31,
      "outputs": [
        {
          "output_type": "execute_result",
          "data": {
            "text/plain": [
              "(40918, 17)"
            ]
          },
          "metadata": {
            "tags": []
          },
          "execution_count": 31
        }
      ]
    },
    {
      "cell_type": "code",
      "metadata": {
        "id": "aS1_yW6o3ObT",
        "colab_type": "code",
        "outputId": "124b9ce8-1045-49d9-87d8-b436bcc4f22e",
        "colab": {
          "base_uri": "https://localhost:8080/",
          "height": 211
        }
      },
      "source": [
        "df.tail()"
      ],
      "execution_count": 32,
      "outputs": [
        {
          "output_type": "execute_result",
          "data": {
            "text/html": [
              "<div>\n",
              "<style scoped>\n",
              "    .dataframe tbody tr th:only-of-type {\n",
              "        vertical-align: middle;\n",
              "    }\n",
              "\n",
              "    .dataframe tbody tr th {\n",
              "        vertical-align: top;\n",
              "    }\n",
              "\n",
              "    .dataframe thead th {\n",
              "        text-align: right;\n",
              "    }\n",
              "</style>\n",
              "<table border=\"1\" class=\"dataframe\">\n",
              "  <thead>\n",
              "    <tr style=\"text-align: right;\">\n",
              "      <th></th>\n",
              "      <th>amount</th>\n",
              "      <th>hour1</th>\n",
              "      <th>zip1</th>\n",
              "      <th>custAttr1</th>\n",
              "      <th>field1</th>\n",
              "      <th>field2</th>\n",
              "      <th>flag1</th>\n",
              "      <th>field3</th>\n",
              "      <th>field4</th>\n",
              "      <th>indicator1</th>\n",
              "      <th>indicator2</th>\n",
              "      <th>flag2</th>\n",
              "      <th>flag3</th>\n",
              "      <th>flag4</th>\n",
              "      <th>flag5</th>\n",
              "      <th>Class</th>\n",
              "      <th>frek</th>\n",
              "    </tr>\n",
              "  </thead>\n",
              "  <tbody>\n",
              "    <tr>\n",
              "      <th>99976</th>\n",
              "      <td>25.90</td>\n",
              "      <td>14</td>\n",
              "      <td>958</td>\n",
              "      <td>1234567890157691</td>\n",
              "      <td>3</td>\n",
              "      <td>0</td>\n",
              "      <td>1</td>\n",
              "      <td>2186</td>\n",
              "      <td>9</td>\n",
              "      <td>0</td>\n",
              "      <td>0</td>\n",
              "      <td>1</td>\n",
              "      <td>0</td>\n",
              "      <td>0</td>\n",
              "      <td>1</td>\n",
              "      <td>0</td>\n",
              "      <td>18</td>\n",
              "    </tr>\n",
              "    <tr>\n",
              "      <th>99981</th>\n",
              "      <td>33.67</td>\n",
              "      <td>14</td>\n",
              "      <td>366</td>\n",
              "      <td>1234567890197161</td>\n",
              "      <td>3</td>\n",
              "      <td>1</td>\n",
              "      <td>1</td>\n",
              "      <td>4177</td>\n",
              "      <td>6</td>\n",
              "      <td>0</td>\n",
              "      <td>0</td>\n",
              "      <td>1</td>\n",
              "      <td>1</td>\n",
              "      <td>0</td>\n",
              "      <td>2</td>\n",
              "      <td>0</td>\n",
              "      <td>2</td>\n",
              "    </tr>\n",
              "    <tr>\n",
              "      <th>99988</th>\n",
              "      <td>12.95</td>\n",
              "      <td>14</td>\n",
              "      <td>787</td>\n",
              "      <td>1234567890137953</td>\n",
              "      <td>3</td>\n",
              "      <td>0</td>\n",
              "      <td>1</td>\n",
              "      <td>3357</td>\n",
              "      <td>10</td>\n",
              "      <td>1</td>\n",
              "      <td>0</td>\n",
              "      <td>1</td>\n",
              "      <td>1</td>\n",
              "      <td>0</td>\n",
              "      <td>2</td>\n",
              "      <td>0</td>\n",
              "      <td>19</td>\n",
              "    </tr>\n",
              "    <tr>\n",
              "      <th>99992</th>\n",
              "      <td>10.36</td>\n",
              "      <td>14</td>\n",
              "      <td>953</td>\n",
              "      <td>1234567890194145</td>\n",
              "      <td>3</td>\n",
              "      <td>1</td>\n",
              "      <td>1</td>\n",
              "      <td>5169</td>\n",
              "      <td>8</td>\n",
              "      <td>0</td>\n",
              "      <td>0</td>\n",
              "      <td>0</td>\n",
              "      <td>0</td>\n",
              "      <td>0</td>\n",
              "      <td>1</td>\n",
              "      <td>0</td>\n",
              "      <td>2</td>\n",
              "    </tr>\n",
              "    <tr>\n",
              "      <th>99997</th>\n",
              "      <td>11.01</td>\n",
              "      <td>14</td>\n",
              "      <td>117</td>\n",
              "      <td>1234567890196488</td>\n",
              "      <td>3</td>\n",
              "      <td>1</td>\n",
              "      <td>1</td>\n",
              "      <td>4261</td>\n",
              "      <td>11</td>\n",
              "      <td>0</td>\n",
              "      <td>0</td>\n",
              "      <td>1</td>\n",
              "      <td>1</td>\n",
              "      <td>0</td>\n",
              "      <td>1</td>\n",
              "      <td>0</td>\n",
              "      <td>2</td>\n",
              "    </tr>\n",
              "  </tbody>\n",
              "</table>\n",
              "</div>"
            ],
            "text/plain": [
              "       amount  hour1  zip1         custAttr1  ...  flag4  flag5  Class  frek\n",
              "99976   25.90     14   958  1234567890157691  ...      0      1      0    18\n",
              "99981   33.67     14   366  1234567890197161  ...      0      2      0     2\n",
              "99988   12.95     14   787  1234567890137953  ...      0      2      0    19\n",
              "99992   10.36     14   953  1234567890194145  ...      0      1      0     2\n",
              "99997   11.01     14   117  1234567890196488  ...      0      1      0     2\n",
              "\n",
              "[5 rows x 17 columns]"
            ]
          },
          "metadata": {
            "tags": []
          },
          "execution_count": 32
        }
      ]
    },
    {
      "cell_type": "code",
      "metadata": {
        "id": "2Qck5hj93ObW",
        "colab_type": "code",
        "outputId": "ee62597c-be11-4b71-aa41-a1fe0cb8b37c",
        "colab": {
          "base_uri": "https://localhost:8080/",
          "height": 211
        }
      },
      "source": [
        "df = df.reset_index(drop=True)\n",
        "df.tail()"
      ],
      "execution_count": 33,
      "outputs": [
        {
          "output_type": "execute_result",
          "data": {
            "text/html": [
              "<div>\n",
              "<style scoped>\n",
              "    .dataframe tbody tr th:only-of-type {\n",
              "        vertical-align: middle;\n",
              "    }\n",
              "\n",
              "    .dataframe tbody tr th {\n",
              "        vertical-align: top;\n",
              "    }\n",
              "\n",
              "    .dataframe thead th {\n",
              "        text-align: right;\n",
              "    }\n",
              "</style>\n",
              "<table border=\"1\" class=\"dataframe\">\n",
              "  <thead>\n",
              "    <tr style=\"text-align: right;\">\n",
              "      <th></th>\n",
              "      <th>amount</th>\n",
              "      <th>hour1</th>\n",
              "      <th>zip1</th>\n",
              "      <th>custAttr1</th>\n",
              "      <th>field1</th>\n",
              "      <th>field2</th>\n",
              "      <th>flag1</th>\n",
              "      <th>field3</th>\n",
              "      <th>field4</th>\n",
              "      <th>indicator1</th>\n",
              "      <th>indicator2</th>\n",
              "      <th>flag2</th>\n",
              "      <th>flag3</th>\n",
              "      <th>flag4</th>\n",
              "      <th>flag5</th>\n",
              "      <th>Class</th>\n",
              "      <th>frek</th>\n",
              "    </tr>\n",
              "  </thead>\n",
              "  <tbody>\n",
              "    <tr>\n",
              "      <th>40913</th>\n",
              "      <td>25.90</td>\n",
              "      <td>14</td>\n",
              "      <td>958</td>\n",
              "      <td>1234567890157691</td>\n",
              "      <td>3</td>\n",
              "      <td>0</td>\n",
              "      <td>1</td>\n",
              "      <td>2186</td>\n",
              "      <td>9</td>\n",
              "      <td>0</td>\n",
              "      <td>0</td>\n",
              "      <td>1</td>\n",
              "      <td>0</td>\n",
              "      <td>0</td>\n",
              "      <td>1</td>\n",
              "      <td>0</td>\n",
              "      <td>18</td>\n",
              "    </tr>\n",
              "    <tr>\n",
              "      <th>40914</th>\n",
              "      <td>33.67</td>\n",
              "      <td>14</td>\n",
              "      <td>366</td>\n",
              "      <td>1234567890197161</td>\n",
              "      <td>3</td>\n",
              "      <td>1</td>\n",
              "      <td>1</td>\n",
              "      <td>4177</td>\n",
              "      <td>6</td>\n",
              "      <td>0</td>\n",
              "      <td>0</td>\n",
              "      <td>1</td>\n",
              "      <td>1</td>\n",
              "      <td>0</td>\n",
              "      <td>2</td>\n",
              "      <td>0</td>\n",
              "      <td>2</td>\n",
              "    </tr>\n",
              "    <tr>\n",
              "      <th>40915</th>\n",
              "      <td>12.95</td>\n",
              "      <td>14</td>\n",
              "      <td>787</td>\n",
              "      <td>1234567890137953</td>\n",
              "      <td>3</td>\n",
              "      <td>0</td>\n",
              "      <td>1</td>\n",
              "      <td>3357</td>\n",
              "      <td>10</td>\n",
              "      <td>1</td>\n",
              "      <td>0</td>\n",
              "      <td>1</td>\n",
              "      <td>1</td>\n",
              "      <td>0</td>\n",
              "      <td>2</td>\n",
              "      <td>0</td>\n",
              "      <td>19</td>\n",
              "    </tr>\n",
              "    <tr>\n",
              "      <th>40916</th>\n",
              "      <td>10.36</td>\n",
              "      <td>14</td>\n",
              "      <td>953</td>\n",
              "      <td>1234567890194145</td>\n",
              "      <td>3</td>\n",
              "      <td>1</td>\n",
              "      <td>1</td>\n",
              "      <td>5169</td>\n",
              "      <td>8</td>\n",
              "      <td>0</td>\n",
              "      <td>0</td>\n",
              "      <td>0</td>\n",
              "      <td>0</td>\n",
              "      <td>0</td>\n",
              "      <td>1</td>\n",
              "      <td>0</td>\n",
              "      <td>2</td>\n",
              "    </tr>\n",
              "    <tr>\n",
              "      <th>40917</th>\n",
              "      <td>11.01</td>\n",
              "      <td>14</td>\n",
              "      <td>117</td>\n",
              "      <td>1234567890196488</td>\n",
              "      <td>3</td>\n",
              "      <td>1</td>\n",
              "      <td>1</td>\n",
              "      <td>4261</td>\n",
              "      <td>11</td>\n",
              "      <td>0</td>\n",
              "      <td>0</td>\n",
              "      <td>1</td>\n",
              "      <td>1</td>\n",
              "      <td>0</td>\n",
              "      <td>1</td>\n",
              "      <td>0</td>\n",
              "      <td>2</td>\n",
              "    </tr>\n",
              "  </tbody>\n",
              "</table>\n",
              "</div>"
            ],
            "text/plain": [
              "       amount  hour1  zip1         custAttr1  ...  flag4  flag5  Class  frek\n",
              "40913   25.90     14   958  1234567890157691  ...      0      1      0    18\n",
              "40914   33.67     14   366  1234567890197161  ...      0      2      0     2\n",
              "40915   12.95     14   787  1234567890137953  ...      0      2      0    19\n",
              "40916   10.36     14   953  1234567890194145  ...      0      1      0     2\n",
              "40917   11.01     14   117  1234567890196488  ...      0      1      0     2\n",
              "\n",
              "[5 rows x 17 columns]"
            ]
          },
          "metadata": {
            "tags": []
          },
          "execution_count": 33
        }
      ]
    },
    {
      "cell_type": "code",
      "metadata": {
        "id": "145pEOh63ObZ",
        "colab_type": "code",
        "outputId": "92218e57-46e5-41cb-c7ab-6287c63bf4e9",
        "colab": {
          "base_uri": "https://localhost:8080/",
          "height": 66
        }
      },
      "source": [
        "df['Class'].value_counts()"
      ],
      "execution_count": 34,
      "outputs": [
        {
          "output_type": "execute_result",
          "data": {
            "text/plain": [
              "0    39722\n",
              "1     1196\n",
              "Name: Class, dtype: int64"
            ]
          },
          "metadata": {
            "tags": []
          },
          "execution_count": 34
        }
      ]
    },
    {
      "cell_type": "code",
      "metadata": {
        "id": "W8sqEaTe3Obc",
        "colab_type": "code",
        "colab": {}
      },
      "source": [
        "df = df.drop(['custAttr1'], axis=1)\n",
        "# df = df.drop(['frek'], axis=1)"
      ],
      "execution_count": 0,
      "outputs": []
    },
    {
      "cell_type": "code",
      "metadata": {
        "id": "724-RO_EOXgN",
        "colab_type": "code",
        "colab": {}
      },
      "source": [
        "X = df.drop('Class', axis=1)\n",
        "y = df['Class'].copy()"
      ],
      "execution_count": 0,
      "outputs": []
    },
    {
      "cell_type": "code",
      "metadata": {
        "id": "hrbFVss73Obe",
        "colab_type": "code",
        "colab": {}
      },
      "source": [
        "from sklearn.model_selection import train_test_split\n",
        "X_train, X_test, y_train, y_test = train_test_split(X, y, test_size=0.3, random_state=1, stratify=y)"
      ],
      "execution_count": 0,
      "outputs": []
    },
    {
      "cell_type": "code",
      "metadata": {
        "id": "EWa_LryqOUUd",
        "colab_type": "code",
        "outputId": "9d90ef76-c5de-40b1-c6b8-652dcd09f6b2",
        "colab": {
          "base_uri": "https://localhost:8080/",
          "height": 33
        }
      },
      "source": [
        "y_train.shape"
      ],
      "execution_count": 38,
      "outputs": [
        {
          "output_type": "execute_result",
          "data": {
            "text/plain": [
              "(28642,)"
            ]
          },
          "metadata": {
            "tags": []
          },
          "execution_count": 38
        }
      ]
    },
    {
      "cell_type": "code",
      "metadata": {
        "id": "RQH-sJkIOURk",
        "colab_type": "code",
        "outputId": "fdbd6d43-0cf1-4825-d435-5f1ae4af91a2",
        "colab": {
          "base_uri": "https://localhost:8080/",
          "height": 33
        }
      },
      "source": [
        "y_test.shape"
      ],
      "execution_count": 39,
      "outputs": [
        {
          "output_type": "execute_result",
          "data": {
            "text/plain": [
              "(12276,)"
            ]
          },
          "metadata": {
            "tags": []
          },
          "execution_count": 39
        }
      ]
    },
    {
      "cell_type": "code",
      "metadata": {
        "id": "uqe45c_NOUPW",
        "colab_type": "code",
        "outputId": "a9bb3bd0-2117-4969-f1b8-e36c736a9fea",
        "colab": {
          "base_uri": "https://localhost:8080/",
          "height": 66
        }
      },
      "source": [
        "y_train.value_counts()"
      ],
      "execution_count": 40,
      "outputs": [
        {
          "output_type": "execute_result",
          "data": {
            "text/plain": [
              "0    27805\n",
              "1      837\n",
              "Name: Class, dtype: int64"
            ]
          },
          "metadata": {
            "tags": []
          },
          "execution_count": 40
        }
      ]
    },
    {
      "cell_type": "code",
      "metadata": {
        "id": "Xtr8i08AOUMY",
        "colab_type": "code",
        "colab": {}
      },
      "source": [
        "df_train = X_train.copy()\n",
        "df_train['Class'] = y_train.copy()"
      ],
      "execution_count": 0,
      "outputs": []
    },
    {
      "cell_type": "code",
      "metadata": {
        "id": "ier7lKFS3Obg",
        "colab_type": "code",
        "colab": {}
      },
      "source": [
        "# # Since most of our data has already been scaled we should scale the columns that are left to scale (Amount and Time)\n",
        "# from sklearn.preprocessing import StandardScaler, RobustScaler, MinMaxScaler\n",
        "\n",
        "# # RobustScaler is less prone to outliers.\n",
        "\n",
        "# std_scaler = StandardScaler()\n",
        "# rob_scaler = RobustScaler()\n",
        "# minmax_scaler = MinMaxScaler()\n",
        "\n",
        "# # df['scaled_amount'] = rob_scaler.fit_transform(df['Amount'].values.reshape(-1,1))\n",
        "# # df['scaled_time'] = rob_scaler.fit_transform(df['Time'].values.reshape(-1,1))\n",
        "\n",
        "# df['scaled_amount'] = minmax_scaler.fit_transform(df['Amount'].values.reshape(-1,1))\n",
        "# df['scaled_time'] = minmax_scaler.fit_transform(df['Time'].values.reshape(-1,1))\n",
        "\n",
        "# df.drop(['Time','Amount'], axis=1, inplace=True)\n",
        "\n",
        "# scaled_amount = df['scaled_amount']\n",
        "# scaled_time = df['scaled_time']\n",
        "\n",
        "# df.drop(['scaled_amount', 'scaled_time'], axis=1, inplace=True)\n",
        "# df.insert(0, 'scaled_amount', scaled_amount)\n",
        "# df.insert(1, 'scaled_time', scaled_time)\n",
        "\n",
        "# # Amount and Time are Scaled!\n",
        "\n",
        "# df.head()"
      ],
      "execution_count": 0,
      "outputs": []
    },
    {
      "cell_type": "code",
      "metadata": {
        "id": "JTVhgNdV3Obi",
        "colab_type": "code",
        "outputId": "8c760c02-6919-4233-eca2-858d45a58638",
        "colab": {
          "base_uri": "https://localhost:8080/",
          "height": 211
        }
      },
      "source": [
        "# Since our classes are highly skewed we should make them equivalent in order to have a normal distribution of the classes.\n",
        "\n",
        "# Lets shuffle the data before creating the subsamples\n",
        "df_copy = df_train.copy()\n",
        "# df_copy = df_copy.sample(frac=1)\n",
        "\n",
        "fraud_df = df_copy.loc[df_copy['Class'] == 1]\n",
        "non_fraud_df = df_copy.loc[df_copy['Class'] == 0].sample(n=27805,random_state=1)\n",
        "\n",
        "normal_distributed_df = pd.concat([fraud_df, non_fraud_df])\n",
        "\n",
        "# Shuffle dataframe rows\n",
        "df_new = normal_distributed_df.sample(frac=1, random_state=1)\n",
        "df_new = df_new.reset_index()\n",
        "df_new = df_new.drop('index', axis=1)\n",
        "df_new.head()"
      ],
      "execution_count": 43,
      "outputs": [
        {
          "output_type": "execute_result",
          "data": {
            "text/html": [
              "<div>\n",
              "<style scoped>\n",
              "    .dataframe tbody tr th:only-of-type {\n",
              "        vertical-align: middle;\n",
              "    }\n",
              "\n",
              "    .dataframe tbody tr th {\n",
              "        vertical-align: top;\n",
              "    }\n",
              "\n",
              "    .dataframe thead th {\n",
              "        text-align: right;\n",
              "    }\n",
              "</style>\n",
              "<table border=\"1\" class=\"dataframe\">\n",
              "  <thead>\n",
              "    <tr style=\"text-align: right;\">\n",
              "      <th></th>\n",
              "      <th>amount</th>\n",
              "      <th>hour1</th>\n",
              "      <th>zip1</th>\n",
              "      <th>field1</th>\n",
              "      <th>field2</th>\n",
              "      <th>flag1</th>\n",
              "      <th>field3</th>\n",
              "      <th>field4</th>\n",
              "      <th>indicator1</th>\n",
              "      <th>indicator2</th>\n",
              "      <th>flag2</th>\n",
              "      <th>flag3</th>\n",
              "      <th>flag4</th>\n",
              "      <th>flag5</th>\n",
              "      <th>frek</th>\n",
              "      <th>Class</th>\n",
              "    </tr>\n",
              "  </thead>\n",
              "  <tbody>\n",
              "    <tr>\n",
              "      <th>0</th>\n",
              "      <td>25.90</td>\n",
              "      <td>0</td>\n",
              "      <td>325</td>\n",
              "      <td>3</td>\n",
              "      <td>1</td>\n",
              "      <td>1</td>\n",
              "      <td>3674</td>\n",
              "      <td>18</td>\n",
              "      <td>0</td>\n",
              "      <td>0</td>\n",
              "      <td>1</td>\n",
              "      <td>1</td>\n",
              "      <td>0</td>\n",
              "      <td>1</td>\n",
              "      <td>2</td>\n",
              "      <td>0</td>\n",
              "    </tr>\n",
              "    <tr>\n",
              "      <th>1</th>\n",
              "      <td>10.36</td>\n",
              "      <td>12</td>\n",
              "      <td>193</td>\n",
              "      <td>3</td>\n",
              "      <td>0</td>\n",
              "      <td>1</td>\n",
              "      <td>244</td>\n",
              "      <td>6</td>\n",
              "      <td>0</td>\n",
              "      <td>0</td>\n",
              "      <td>1</td>\n",
              "      <td>0</td>\n",
              "      <td>0</td>\n",
              "      <td>2</td>\n",
              "      <td>2</td>\n",
              "      <td>0</td>\n",
              "    </tr>\n",
              "    <tr>\n",
              "      <th>2</th>\n",
              "      <td>31.08</td>\n",
              "      <td>8</td>\n",
              "      <td>606</td>\n",
              "      <td>3</td>\n",
              "      <td>1</td>\n",
              "      <td>1</td>\n",
              "      <td>2379</td>\n",
              "      <td>10</td>\n",
              "      <td>0</td>\n",
              "      <td>0</td>\n",
              "      <td>1</td>\n",
              "      <td>1</td>\n",
              "      <td>0</td>\n",
              "      <td>3</td>\n",
              "      <td>3</td>\n",
              "      <td>0</td>\n",
              "    </tr>\n",
              "    <tr>\n",
              "      <th>3</th>\n",
              "      <td>12.95</td>\n",
              "      <td>12</td>\n",
              "      <td>925</td>\n",
              "      <td>3</td>\n",
              "      <td>0</td>\n",
              "      <td>0</td>\n",
              "      <td>-2070</td>\n",
              "      <td>22</td>\n",
              "      <td>0</td>\n",
              "      <td>0</td>\n",
              "      <td>1</td>\n",
              "      <td>0</td>\n",
              "      <td>0</td>\n",
              "      <td>1</td>\n",
              "      <td>2</td>\n",
              "      <td>0</td>\n",
              "    </tr>\n",
              "    <tr>\n",
              "      <th>4</th>\n",
              "      <td>25.90</td>\n",
              "      <td>7</td>\n",
              "      <td>760</td>\n",
              "      <td>2</td>\n",
              "      <td>1</td>\n",
              "      <td>0</td>\n",
              "      <td>1182</td>\n",
              "      <td>24</td>\n",
              "      <td>0</td>\n",
              "      <td>0</td>\n",
              "      <td>1</td>\n",
              "      <td>0</td>\n",
              "      <td>0</td>\n",
              "      <td>1</td>\n",
              "      <td>2</td>\n",
              "      <td>0</td>\n",
              "    </tr>\n",
              "  </tbody>\n",
              "</table>\n",
              "</div>"
            ],
            "text/plain": [
              "   amount  hour1  zip1  field1  field2  ...  flag3  flag4  flag5  frek  Class\n",
              "0   25.90      0   325       3       1  ...      1      0      1     2      0\n",
              "1   10.36     12   193       3       0  ...      0      0      2     2      0\n",
              "2   31.08      8   606       3       1  ...      1      0      3     3      0\n",
              "3   12.95     12   925       3       0  ...      0      0      1     2      0\n",
              "4   25.90      7   760       2       1  ...      0      0      1     2      0\n",
              "\n",
              "[5 rows x 16 columns]"
            ]
          },
          "metadata": {
            "tags": []
          },
          "execution_count": 43
        }
      ]
    },
    {
      "cell_type": "code",
      "metadata": {
        "id": "WklXsJVo3Obn",
        "colab_type": "code",
        "outputId": "df8f3d75-291c-4a96-bf8c-c4bace5ca005",
        "colab": {
          "base_uri": "https://localhost:8080/",
          "height": 428
        }
      },
      "source": [
        "plt.figure(1,figsize=(5, 5), dpi=80)\n",
        "plt.grid(color='b', linestyle='-', linewidth=0.2)\n",
        "plt.title('Class Distributions \\n (0: No Fraud || 1: Fraud)', fontsize=14)\n",
        "sns.countplot('Class', data=df_new,palette='Set2')"
      ],
      "execution_count": 44,
      "outputs": [
        {
          "output_type": "execute_result",
          "data": {
            "text/plain": [
              "<matplotlib.axes._subplots.AxesSubplot at 0x7f388e3aeef0>"
            ]
          },
          "metadata": {
            "tags": []
          },
          "execution_count": 44
        },
        {
          "output_type": "display_data",
          "data": {
            "image/png": "[encoded data removed]",
            "text/plain": [
              "<Figure size 400x400 with 1 Axes>"
            ]
          },
          "metadata": {
            "tags": []
          }
        }
      ]
    },
    {
      "cell_type": "code",
      "metadata": {
        "id": "D_6Q449d3Obp",
        "colab_type": "code",
        "colab": {}
      },
      "source": [
        ""
      ],
      "execution_count": 0,
      "outputs": []
    },
    {
      "cell_type": "code",
      "metadata": {
        "id": "8hB8iIvz3Obs",
        "colab_type": "code",
        "colab": {}
      },
      "source": [
        "# X = df.drop('Class', axis=1)\n",
        "# y = df['Class'].copy()"
      ],
      "execution_count": 0,
      "outputs": []
    },
    {
      "cell_type": "code",
      "metadata": {
        "id": "ttcCg9el3Obv",
        "colab_type": "code",
        "colab": {}
      },
      "source": [
        "X_new = df_new.drop('Class', axis=1)\n",
        "y_new = df_new['Class'].copy()"
      ],
      "execution_count": 0,
      "outputs": []
    },
    {
      "cell_type": "code",
      "metadata": {
        "id": "dFf0Y6hk3Oby",
        "colab_type": "code",
        "outputId": "b7d6bcb1-8db0-416a-834a-ccba0d39d65d",
        "colab": {
          "base_uri": "https://localhost:8080/",
          "height": 66
        }
      },
      "source": [
        "y_new.value_counts()"
      ],
      "execution_count": 47,
      "outputs": [
        {
          "output_type": "execute_result",
          "data": {
            "text/plain": [
              "0    27805\n",
              "1      837\n",
              "Name: Class, dtype: int64"
            ]
          },
          "metadata": {
            "tags": []
          },
          "execution_count": 47
        }
      ]
    },
    {
      "cell_type": "code",
      "metadata": {
        "id": "gvLTOgqn3Ob3",
        "colab_type": "code",
        "outputId": "4e78ed5b-4a36-46d0-b656-b294ebed2e3a",
        "colab": {
          "base_uri": "https://localhost:8080/",
          "height": 82
        }
      },
      "source": [
        "X_new.columns"
      ],
      "execution_count": 48,
      "outputs": [
        {
          "output_type": "execute_result",
          "data": {
            "text/plain": [
              "Index(['amount', 'hour1', 'zip1', 'field1', 'field2', 'flag1', 'field3',\n",
              "       'field4', 'indicator1', 'indicator2', 'flag2', 'flag3', 'flag4',\n",
              "       'flag5', 'frek'],\n",
              "      dtype='object')"
            ]
          },
          "metadata": {
            "tags": []
          },
          "execution_count": 48
        }
      ]
    },
    {
      "cell_type": "code",
      "metadata": {
        "id": "aSGKiU-W3Ob7",
        "colab_type": "code",
        "colab": {}
      },
      "source": [
        "# from sklearn.preprocessing import StandardScaler, RobustScaler, MinMaxScaler\n",
        "\n",
        "# # RobustScaler is less prone to outliers.\n",
        "\n",
        "# std_scaler = StandardScaler()\n",
        "# rob_scaler = RobustScaler()\n",
        "# minmax_scaler = MinMaxScaler()\n",
        "\n",
        "# X_neww = minmax_scaler.fit_transform(X_new)\n",
        "# X_new = pd.DataFrame(X_neww, columns=X_new.columns)\n",
        "# X_new.tail()"
      ],
      "execution_count": 0,
      "outputs": []
    },
    {
      "cell_type": "code",
      "metadata": {
        "id": "MCagyUAT3OcA",
        "colab_type": "code",
        "colab": {}
      },
      "source": [
        ""
      ],
      "execution_count": 0,
      "outputs": []
    },
    {
      "cell_type": "markdown",
      "metadata": {
        "id": "uhfc3c9v3OcC",
        "colab_type": "text"
      },
      "source": [
        "# # k-folds\n"
      ]
    },
    {
      "cell_type": "code",
      "metadata": {
        "id": "HRTIkHWU3OcD",
        "colab_type": "code",
        "colab": {}
      },
      "source": [
        "def validasi_model (clf,X,y,kfolds):\n",
        "    CV_SKLearn = kfold_cross_validation(clf,X,y,n_fold=kfolds,n_seed=1)\n",
        "    df_result = pd.DataFrame(data= CV_SKLearn, columns=['Akurasi','Sensitivity','Specifity','precision','recall','f1_score','Waktu'])\n",
        "\n",
        "    df_result.insert(loc=0, column='No', value=list(range(1,df_result.shape[0]+1)))\n",
        "    df_result = df_result.set_index('No')\n",
        "\n",
        "    del df_result.index.name\n",
        "\n",
        "    df_result = df_result.append(df_result.describe()[1:2])\n",
        "    \n",
        "    return df_result\n",
        "# result_SKLearn = result_SKLearn.append('')"
      ],
      "execution_count": 0,
      "outputs": []
    },
    {
      "cell_type": "code",
      "metadata": {
        "id": "qsNMZt1V3OcV",
        "colab_type": "code",
        "colab": {}
      },
      "source": [
        "# Classifier Libraries\n",
        "from sklearn.ensemble import RandomForestClassifier, AdaBoostClassifier\n",
        "from sklearn.ensemble import BaggingClassifier, ExtraTreesClassifier\n",
        "from sklearn.ensemble import GradientBoostingClassifier\n",
        "\n",
        "    \n",
        "clf_RF = RandomForestClassifier(random_state=1,n_estimators=100)\n",
        "clf_AB = AdaBoostClassifier(random_state=1,n_estimators=100)\n",
        "clf_B = BaggingClassifier(random_state=1,n_estimators=100)\n",
        "clf_ET = ExtraTreesClassifier(random_state=1,n_estimators=100)\n",
        "clf_GB = GradientBoostingClassifier(random_state=1,n_estimators=100)\n",
        "\n",
        "##skenario \n",
        "skenario_1 = {}\n",
        "skenario_1['1'] = clf_RF\n",
        "# skenario_1['2'] = clf_AB\n",
        "# skenario_1['3'] = clf_B\n",
        "# skenario_1['4'] = clf_ET\n",
        "skenario_1['5'] = clf_GB\n"
      ],
      "execution_count": 0,
      "outputs": []
    },
    {
      "cell_type": "code",
      "metadata": {
        "id": "OSQFMa4I8q6U",
        "colab_type": "code",
        "outputId": "4ea5ac2d-816a-41ce-ee46-bd5dbdb11533",
        "colab": {
          "base_uri": "https://localhost:8080/",
          "height": 105
        }
      },
      "source": [
        "result = {}\n",
        "for i in skenario_1:\n",
        "  \n",
        "    clf_skenario = skenario_1[i]\n",
        "    result[i] = validasi_model(clf_skenario,X_new,y_new,5)\n",
        "                \n",
        "\n",
        "df_result = pd.DataFrame()\n",
        "for i in skenario_1:\n",
        "    df_result = df_result.append(result[i].iloc[5:,:])\n",
        "    \n",
        "df_result.insert(loc=0, column='No', value=list(range(df_result.shape[0])))\n",
        "df_result = df_result.set_index('No')\n",
        "\n",
        "del df_result.index.name\n",
        "\n",
        "df_result"
      ],
      "execution_count": 52,
      "outputs": [
        {
          "output_type": "execute_result",
          "data": {
            "text/html": [
              "<div>\n",
              "<style scoped>\n",
              "    .dataframe tbody tr th:only-of-type {\n",
              "        vertical-align: middle;\n",
              "    }\n",
              "\n",
              "    .dataframe tbody tr th {\n",
              "        vertical-align: top;\n",
              "    }\n",
              "\n",
              "    .dataframe thead th {\n",
              "        text-align: right;\n",
              "    }\n",
              "</style>\n",
              "<table border=\"1\" class=\"dataframe\">\n",
              "  <thead>\n",
              "    <tr style=\"text-align: right;\">\n",
              "      <th></th>\n",
              "      <th>Akurasi</th>\n",
              "      <th>Sensitivity</th>\n",
              "      <th>Specifity</th>\n",
              "      <th>precision</th>\n",
              "      <th>recall</th>\n",
              "      <th>f1_score</th>\n",
              "      <th>Waktu</th>\n",
              "    </tr>\n",
              "  </thead>\n",
              "  <tbody>\n",
              "    <tr>\n",
              "      <th>0</th>\n",
              "      <td>0.978596</td>\n",
              "      <td>0.374230</td>\n",
              "      <td>0.996763</td>\n",
              "      <td>0.778269</td>\n",
              "      <td>0.374230</td>\n",
              "      <td>0.504013</td>\n",
              "      <td>3.026653</td>\n",
              "    </tr>\n",
              "    <tr>\n",
              "      <th>1</th>\n",
              "      <td>0.972870</td>\n",
              "      <td>0.100336</td>\n",
              "      <td>0.999137</td>\n",
              "      <td>0.778843</td>\n",
              "      <td>0.100336</td>\n",
              "      <td>0.177700</td>\n",
              "      <td>2.459370</td>\n",
              "    </tr>\n",
              "  </tbody>\n",
              "</table>\n",
              "</div>"
            ],
            "text/plain": [
              "    Akurasi  Sensitivity  Specifity  precision    recall  f1_score     Waktu\n",
              "0  0.978596     0.374230   0.996763   0.778269  0.374230  0.504013  3.026653\n",
              "1  0.972870     0.100336   0.999137   0.778843  0.100336  0.177700  2.459370"
            ]
          },
          "metadata": {
            "tags": []
          },
          "execution_count": 52
        }
      ]
    },
    {
      "cell_type": "code",
      "metadata": {
        "id": "tY88k9oH3Oce",
        "colab_type": "code",
        "colab": {}
      },
      "source": [
        "# importances = clf.feature_importances_\n",
        "# indices = np.argsort(importances)[::-1]\n",
        "# fitur_importance =[]\n",
        "# for f in range(X_new.shape[1]):\n",
        "#     if  importances[indices[f]] > 0 :\n",
        "#         fitur_importance.append([X_new.columns[indices[f]],importances[indices[f]]])\n",
        "#         print(\"%2d) %-*s %f\" % (f + 1, 30,\n",
        "#         X_new.columns[indices[f]],\n",
        "#         importances[indices[f]]))"
      ],
      "execution_count": 0,
      "outputs": []
    },
    {
      "cell_type": "code",
      "metadata": {
        "id": "-iieHLGD3Och",
        "colab_type": "code",
        "colab": {}
      },
      "source": [
        "# df_FI = pd.DataFrame(data=fitur_importance,columns=['fitur','value'])\n",
        "# # np.array(df_FI['fitur'])\n",
        "# df_FI"
      ],
      "execution_count": 0,
      "outputs": []
    },
    {
      "cell_type": "markdown",
      "metadata": {
        "id": "IyHMPoVTPP1l",
        "colab_type": "text"
      },
      "source": [
        "----"
      ]
    },
    {
      "cell_type": "markdown",
      "metadata": {
        "id": "r5ozIM9EPPxY",
        "colab_type": "text"
      },
      "source": [
        "## Testing"
      ]
    },
    {
      "cell_type": "code",
      "metadata": {
        "id": "u0Du8-1gPTv8",
        "colab_type": "code",
        "colab": {}
      },
      "source": [
        "def validasi_testing (clf,X,y):\n",
        "    testing_result = testing(clf,X,y)\n",
        "    df_result = pd.DataFrame(data= testing_result, columns=['Akurasi','Sensitivity','Specifity','precision','recall','f1_score'])\n",
        "\n",
        "    df_result.insert(loc=0, column='No', value=list(range(1,df_result.shape[0]+1)))\n",
        "    df_result = df_result.set_index('No')\n",
        "\n",
        "    del df_result.index.name\n",
        "\n",
        "#     df_result = df_result.append(df_result.describe()[1:2])\n",
        "    \n",
        "    return df_result\n",
        "# result_SKLearn = result_SKLearn.append('')"
      ],
      "execution_count": 0,
      "outputs": []
    },
    {
      "cell_type": "code",
      "metadata": {
        "id": "byPedOS4PTtZ",
        "colab_type": "code",
        "outputId": "c65a9bcd-4ceb-4d1e-dafc-0605bb8fb07d",
        "colab": {
          "base_uri": "https://localhost:8080/",
          "height": 131
        }
      },
      "source": [
        "from sklearn.ensemble import RandomForestClassifier\n",
        "n_tree = 100\n",
        "# clf_RF_ = RandomForestClassifier(random_state=1,n_estimators=n_tree, max_features='sqrt')\n",
        "clf_RF.fit(X_new,y_new)"
      ],
      "execution_count": 56,
      "outputs": [
        {
          "output_type": "execute_result",
          "data": {
            "text/plain": [
              "RandomForestClassifier(bootstrap=True, class_weight=None, criterion='gini',\n",
              "                       max_depth=None, max_features='auto', max_leaf_nodes=None,\n",
              "                       min_impurity_decrease=0.0, min_impurity_split=None,\n",
              "                       min_samples_leaf=1, min_samples_split=2,\n",
              "                       min_weight_fraction_leaf=0.0, n_estimators=100,\n",
              "                       n_jobs=None, oob_score=False, random_state=1, verbose=0,\n",
              "                       warm_start=False)"
            ]
          },
          "metadata": {
            "tags": []
          },
          "execution_count": 56
        }
      ]
    },
    {
      "cell_type": "code",
      "metadata": {
        "id": "Neu8gCbsPTq0",
        "colab_type": "code",
        "outputId": "e24f1e5f-f710-41b3-beca-f385826c737d",
        "colab": {
          "base_uri": "https://localhost:8080/",
          "height": 180
        }
      },
      "source": [
        "from sklearn.ensemble import GradientBoostingClassifier\n",
        "n_tree = 100\n",
        "# clf = RandomForestClassifier(random_state=1,n_estimators=n_tree, max_features='sqrt')\n",
        "clf_GB = GradientBoostingClassifier(random_state=1,n_estimators=50)\n",
        "\n",
        "clf_GB.fit(X_new,y_new)\n",
        "\n"
      ],
      "execution_count": 57,
      "outputs": [
        {
          "output_type": "execute_result",
          "data": {
            "text/plain": [
              "GradientBoostingClassifier(criterion='friedman_mse', init=None,\n",
              "                           learning_rate=0.1, loss='deviance', max_depth=3,\n",
              "                           max_features=None, max_leaf_nodes=None,\n",
              "                           min_impurity_decrease=0.0, min_impurity_split=None,\n",
              "                           min_samples_leaf=1, min_samples_split=2,\n",
              "                           min_weight_fraction_leaf=0.0, n_estimators=50,\n",
              "                           n_iter_no_change=None, presort='auto',\n",
              "                           random_state=1, subsample=1.0, tol=0.0001,\n",
              "                           validation_fraction=0.1, verbose=0,\n",
              "                           warm_start=False)"
            ]
          },
          "metadata": {
            "tags": []
          },
          "execution_count": 57
        }
      ]
    },
    {
      "cell_type": "code",
      "metadata": {
        "id": "oV9Pyow1PTod",
        "colab_type": "code",
        "outputId": "768ba98a-6268-4689-9f97-59dd0929a247",
        "colab": {
          "base_uri": "https://localhost:8080/",
          "height": 105
        }
      },
      "source": [
        "result = {}\n",
        "for i in skenario_1:\n",
        "  \n",
        "    clf_skenario = skenario_1[i]\n",
        "    result[i] = validasi_testing(clf_skenario,X_test,y_test)\n",
        "    \n",
        "                \n",
        "df_result = pd.DataFrame()\n",
        "for i in skenario_1:\n",
        "    df_result = df_result.append(result[i])\n",
        "    \n",
        "df_result.insert(loc=0, column='No', value=list(range(df_result.shape[0])))\n",
        "df_result = df_result.set_index('No')\n",
        "\n",
        "del df_result.index.name\n",
        "\n",
        "df_result"
      ],
      "execution_count": 58,
      "outputs": [
        {
          "output_type": "execute_result",
          "data": {
            "text/html": [
              "<div>\n",
              "<style scoped>\n",
              "    .dataframe tbody tr th:only-of-type {\n",
              "        vertical-align: middle;\n",
              "    }\n",
              "\n",
              "    .dataframe tbody tr th {\n",
              "        vertical-align: top;\n",
              "    }\n",
              "\n",
              "    .dataframe thead th {\n",
              "        text-align: right;\n",
              "    }\n",
              "</style>\n",
              "<table border=\"1\" class=\"dataframe\">\n",
              "  <thead>\n",
              "    <tr style=\"text-align: right;\">\n",
              "      <th></th>\n",
              "      <th>Akurasi</th>\n",
              "      <th>Sensitivity</th>\n",
              "      <th>Specifity</th>\n",
              "      <th>precision</th>\n",
              "      <th>recall</th>\n",
              "      <th>f1_score</th>\n",
              "    </tr>\n",
              "  </thead>\n",
              "  <tbody>\n",
              "    <tr>\n",
              "      <th>0</th>\n",
              "      <td>0.977599</td>\n",
              "      <td>0.337047</td>\n",
              "      <td>0.996895</td>\n",
              "      <td>0.765823</td>\n",
              "      <td>0.337047</td>\n",
              "      <td>0.468085</td>\n",
              "    </tr>\n",
              "    <tr>\n",
              "      <th>1</th>\n",
              "      <td>0.972141</td>\n",
              "      <td>0.083565</td>\n",
              "      <td>0.998909</td>\n",
              "      <td>0.697674</td>\n",
              "      <td>0.083565</td>\n",
              "      <td>0.149254</td>\n",
              "    </tr>\n",
              "  </tbody>\n",
              "</table>\n",
              "</div>"
            ],
            "text/plain": [
              "    Akurasi  Sensitivity  Specifity  precision    recall  f1_score\n",
              "0  0.977599     0.337047   0.996895   0.765823  0.337047  0.468085\n",
              "1  0.972141     0.083565   0.998909   0.697674  0.083565  0.149254"
            ]
          },
          "metadata": {
            "tags": []
          },
          "execution_count": 58
        }
      ]
    },
    {
      "cell_type": "code",
      "metadata": {
        "id": "OyB0euiSPTl2",
        "colab_type": "code",
        "outputId": "1ecedd8e-0145-4568-b32c-fbdf661fb2ec",
        "colab": {
          "base_uri": "https://localhost:8080/",
          "height": 66
        }
      },
      "source": [
        "y_test.value_counts()"
      ],
      "execution_count": 59,
      "outputs": [
        {
          "output_type": "execute_result",
          "data": {
            "text/plain": [
              "0    11917\n",
              "1      359\n",
              "Name: Class, dtype: int64"
            ]
          },
          "metadata": {
            "tags": []
          },
          "execution_count": 59
        }
      ]
    },
    {
      "cell_type": "code",
      "metadata": {
        "id": "buQNL5LjPTju",
        "colab_type": "code",
        "colab": {}
      },
      "source": [
        "df_test = X_test.copy()\n",
        "df_test['Class'] = y_test.copy()"
      ],
      "execution_count": 0,
      "outputs": []
    },
    {
      "cell_type": "code",
      "metadata": {
        "id": "iY5OndpePTgv",
        "colab_type": "code",
        "outputId": "1141eee7-ac6e-4ba5-b7a6-5e8e0bcdb5a0",
        "colab": {
          "base_uri": "https://localhost:8080/",
          "height": 211
        }
      },
      "source": [
        "# Since our classes are highly skewed we should make them equivalent in order to have a normal distribution of the classes.\n",
        "\n",
        "# Lets shuffle the data before creating the subsamples\n",
        "df_copy = df_test.copy()\n",
        "# df_copy = df_copy.sample(frac=1)\n",
        "\n",
        "fraud_df = df_copy.loc[df_copy['Class'] == 1]\n",
        "non_fraud_df = df_copy.loc[df_copy['Class'] == 0].sample(n=11917,random_state=1)\n",
        "\n",
        "normal_distributed_df = pd.concat([fraud_df, non_fraud_df])\n",
        "\n",
        "# Shuffle dataframe rows\n",
        "df_new = normal_distributed_df.sample(frac=1, random_state=1)\n",
        "df_new = df_new.reset_index()\n",
        "df_new = df_new.drop('index', axis=1)\n",
        "df_new.head()"
      ],
      "execution_count": 61,
      "outputs": [
        {
          "output_type": "execute_result",
          "data": {
            "text/html": [
              "<div>\n",
              "<style scoped>\n",
              "    .dataframe tbody tr th:only-of-type {\n",
              "        vertical-align: middle;\n",
              "    }\n",
              "\n",
              "    .dataframe tbody tr th {\n",
              "        vertical-align: top;\n",
              "    }\n",
              "\n",
              "    .dataframe thead th {\n",
              "        text-align: right;\n",
              "    }\n",
              "</style>\n",
              "<table border=\"1\" class=\"dataframe\">\n",
              "  <thead>\n",
              "    <tr style=\"text-align: right;\">\n",
              "      <th></th>\n",
              "      <th>amount</th>\n",
              "      <th>hour1</th>\n",
              "      <th>zip1</th>\n",
              "      <th>field1</th>\n",
              "      <th>field2</th>\n",
              "      <th>flag1</th>\n",
              "      <th>field3</th>\n",
              "      <th>field4</th>\n",
              "      <th>indicator1</th>\n",
              "      <th>indicator2</th>\n",
              "      <th>flag2</th>\n",
              "      <th>flag3</th>\n",
              "      <th>flag4</th>\n",
              "      <th>flag5</th>\n",
              "      <th>frek</th>\n",
              "      <th>Class</th>\n",
              "    </tr>\n",
              "  </thead>\n",
              "  <tbody>\n",
              "    <tr>\n",
              "      <th>0</th>\n",
              "      <td>12.95</td>\n",
              "      <td>5</td>\n",
              "      <td>347</td>\n",
              "      <td>0</td>\n",
              "      <td>1</td>\n",
              "      <td>1</td>\n",
              "      <td>-3551</td>\n",
              "      <td>11</td>\n",
              "      <td>0</td>\n",
              "      <td>0</td>\n",
              "      <td>1</td>\n",
              "      <td>1</td>\n",
              "      <td>0</td>\n",
              "      <td>1</td>\n",
              "      <td>2</td>\n",
              "      <td>0</td>\n",
              "    </tr>\n",
              "    <tr>\n",
              "      <th>1</th>\n",
              "      <td>11.01</td>\n",
              "      <td>23</td>\n",
              "      <td>913</td>\n",
              "      <td>3</td>\n",
              "      <td>1</td>\n",
              "      <td>1</td>\n",
              "      <td>-1067</td>\n",
              "      <td>6</td>\n",
              "      <td>0</td>\n",
              "      <td>0</td>\n",
              "      <td>1</td>\n",
              "      <td>1</td>\n",
              "      <td>0</td>\n",
              "      <td>1</td>\n",
              "      <td>11</td>\n",
              "      <td>0</td>\n",
              "    </tr>\n",
              "    <tr>\n",
              "      <th>2</th>\n",
              "      <td>38.85</td>\n",
              "      <td>17</td>\n",
              "      <td>809</td>\n",
              "      <td>3</td>\n",
              "      <td>0</td>\n",
              "      <td>0</td>\n",
              "      <td>5208</td>\n",
              "      <td>24</td>\n",
              "      <td>1</td>\n",
              "      <td>0</td>\n",
              "      <td>1</td>\n",
              "      <td>1</td>\n",
              "      <td>0</td>\n",
              "      <td>1</td>\n",
              "      <td>2</td>\n",
              "      <td>0</td>\n",
              "    </tr>\n",
              "    <tr>\n",
              "      <th>3</th>\n",
              "      <td>38.85</td>\n",
              "      <td>12</td>\n",
              "      <td>740</td>\n",
              "      <td>3</td>\n",
              "      <td>0</td>\n",
              "      <td>0</td>\n",
              "      <td>2454</td>\n",
              "      <td>7</td>\n",
              "      <td>0</td>\n",
              "      <td>0</td>\n",
              "      <td>1</td>\n",
              "      <td>0</td>\n",
              "      <td>0</td>\n",
              "      <td>1</td>\n",
              "      <td>2</td>\n",
              "      <td>0</td>\n",
              "    </tr>\n",
              "    <tr>\n",
              "      <th>4</th>\n",
              "      <td>38.85</td>\n",
              "      <td>17</td>\n",
              "      <td>553</td>\n",
              "      <td>3</td>\n",
              "      <td>1</td>\n",
              "      <td>1</td>\n",
              "      <td>5617</td>\n",
              "      <td>7</td>\n",
              "      <td>1</td>\n",
              "      <td>0</td>\n",
              "      <td>1</td>\n",
              "      <td>0</td>\n",
              "      <td>0</td>\n",
              "      <td>1</td>\n",
              "      <td>3</td>\n",
              "      <td>0</td>\n",
              "    </tr>\n",
              "  </tbody>\n",
              "</table>\n",
              "</div>"
            ],
            "text/plain": [
              "   amount  hour1  zip1  field1  field2  ...  flag3  flag4  flag5  frek  Class\n",
              "0   12.95      5   347       0       1  ...      1      0      1     2      0\n",
              "1   11.01     23   913       3       1  ...      1      0      1    11      0\n",
              "2   38.85     17   809       3       0  ...      1      0      1     2      0\n",
              "3   38.85     12   740       3       0  ...      0      0      1     2      0\n",
              "4   38.85     17   553       3       1  ...      0      0      1     3      0\n",
              "\n",
              "[5 rows x 16 columns]"
            ]
          },
          "metadata": {
            "tags": []
          },
          "execution_count": 61
        }
      ]
    },
    {
      "cell_type": "code",
      "metadata": {
        "id": "cqutyh0pQQ_9",
        "colab_type": "code",
        "colab": {}
      },
      "source": [
        "X_test_ = df_new.drop('Class', axis=1)\n",
        "y_test_ = df_new['Class'].copy()"
      ],
      "execution_count": 0,
      "outputs": []
    },
    {
      "cell_type": "code",
      "metadata": {
        "id": "LIx2jEC9PTeL",
        "colab_type": "code",
        "outputId": "28d6a9ad-665d-41ab-839a-d399a3a9245f",
        "colab": {
          "base_uri": "https://localhost:8080/",
          "height": 66
        }
      },
      "source": [
        "y_test_.value_counts()"
      ],
      "execution_count": 63,
      "outputs": [
        {
          "output_type": "execute_result",
          "data": {
            "text/plain": [
              "0    11917\n",
              "1      359\n",
              "Name: Class, dtype: int64"
            ]
          },
          "metadata": {
            "tags": []
          },
          "execution_count": 63
        }
      ]
    },
    {
      "cell_type": "code",
      "metadata": {
        "id": "C6_h4CrPQVCM",
        "colab_type": "code",
        "outputId": "93df7cfb-207e-495b-f5a2-71d6f547662f",
        "colab": {
          "base_uri": "https://localhost:8080/",
          "height": 105
        }
      },
      "source": [
        "result = {}\n",
        "for i in skenario_1:\n",
        "  \n",
        "    clf_skenario = skenario_1[i]\n",
        "    result[i] = validasi_testing(clf_skenario,X_test_,y_test_)\n",
        "    \n",
        "                \n",
        "df_result = pd.DataFrame()\n",
        "for i in skenario_1:\n",
        "    df_result = df_result.append(result[i])\n",
        "    \n",
        "df_result.insert(loc=0, column='No', value=list(range(df_result.shape[0])))\n",
        "df_result = df_result.set_index('No')\n",
        "\n",
        "del df_result.index.name\n",
        "\n",
        "df_result"
      ],
      "execution_count": 64,
      "outputs": [
        {
          "output_type": "execute_result",
          "data": {
            "text/html": [
              "<div>\n",
              "<style scoped>\n",
              "    .dataframe tbody tr th:only-of-type {\n",
              "        vertical-align: middle;\n",
              "    }\n",
              "\n",
              "    .dataframe tbody tr th {\n",
              "        vertical-align: top;\n",
              "    }\n",
              "\n",
              "    .dataframe thead th {\n",
              "        text-align: right;\n",
              "    }\n",
              "</style>\n",
              "<table border=\"1\" class=\"dataframe\">\n",
              "  <thead>\n",
              "    <tr style=\"text-align: right;\">\n",
              "      <th></th>\n",
              "      <th>Akurasi</th>\n",
              "      <th>Sensitivity</th>\n",
              "      <th>Specifity</th>\n",
              "      <th>precision</th>\n",
              "      <th>recall</th>\n",
              "      <th>f1_score</th>\n",
              "    </tr>\n",
              "  </thead>\n",
              "  <tbody>\n",
              "    <tr>\n",
              "      <th>0</th>\n",
              "      <td>0.977599</td>\n",
              "      <td>0.337047</td>\n",
              "      <td>0.996895</td>\n",
              "      <td>0.765823</td>\n",
              "      <td>0.337047</td>\n",
              "      <td>0.468085</td>\n",
              "    </tr>\n",
              "    <tr>\n",
              "      <th>1</th>\n",
              "      <td>0.972141</td>\n",
              "      <td>0.083565</td>\n",
              "      <td>0.998909</td>\n",
              "      <td>0.697674</td>\n",
              "      <td>0.083565</td>\n",
              "      <td>0.149254</td>\n",
              "    </tr>\n",
              "  </tbody>\n",
              "</table>\n",
              "</div>"
            ],
            "text/plain": [
              "    Akurasi  Sensitivity  Specifity  precision    recall  f1_score\n",
              "0  0.977599     0.337047   0.996895   0.765823  0.337047  0.468085\n",
              "1  0.972141     0.083565   0.998909   0.697674  0.083565  0.149254"
            ]
          },
          "metadata": {
            "tags": []
          },
          "execution_count": 64
        }
      ]
    },
    {
      "cell_type": "code",
      "metadata": {
        "id": "T6aqw9APQU_S",
        "colab_type": "code",
        "colab": {}
      },
      "source": [
        ""
      ],
      "execution_count": 0,
      "outputs": []
    },
    {
      "cell_type": "code",
      "metadata": {
        "id": "jNmG2NEW3Ocm",
        "colab_type": "code",
        "colab": {}
      },
      "source": [
        "# dot_data = StringIO()  \n",
        "# tree.export_graphviz(clf.estimators_[8], out_file=dot_data,  \n",
        "#                          feature_names=X_new.columns)  \n",
        "# graph = pydotplus.graph_from_dot_data(dot_data.getvalue())  \n",
        "# Image(graph.create_png())"
      ],
      "execution_count": 0,
      "outputs": []
    },
    {
      "cell_type": "code",
      "metadata": {
        "id": "HamwwIc_3Ocn",
        "colab_type": "code",
        "colab": {}
      },
      "source": [
        "# dot_data = StringIO()  \n",
        "# tree.export_graphviz(clf_DT,out_file=dot_data,feature_names=X_new.columns)  \n",
        "# graph = pydotplus.graph_from_dot_data(dot_data.getvalue())  \n",
        "# Image(graph.create_png())"
      ],
      "execution_count": 0,
      "outputs": []
    },
    {
      "cell_type": "code",
      "metadata": {
        "id": "J1ijvoao3Ocp",
        "colab_type": "code",
        "colab": {}
      },
      "source": [
        "# print(__doc__)\n",
        "\n",
        "# import numpy as np\n",
        "\n",
        "# from time import time\n",
        "# from scipy.stats import randint as sp_randint\n",
        "\n",
        "# from sklearn.model_selection import GridSearchCV\n",
        "# from sklearn.model_selection import RandomizedSearchCV\n",
        "# from sklearn.datasets import load_digits\n",
        "# from sklearn.ensemble import RandomForestClassifier\n",
        "\n",
        "# # get some data\n",
        "# digits = load_digits()\n",
        "# X, y = digits.data, digits.target\n",
        "\n",
        "# # build a classifier\n",
        "# clf = RandomForestClassifier(random_state=1,n_jobs=-1)\n",
        "\n",
        "\n",
        "# # Utility function to report best scores\n",
        "# def report(results, n_top=3):\n",
        "#     for i in range(1, n_top + 1):\n",
        "#         candidates = np.flatnonzero(results['rank_test_score'] == i)\n",
        "#         for candidate in candidates:\n",
        "#             print(\"Model with rank: {0}\".format(i))\n",
        "#             print(\"Mean validation score: {0:.3f} (std: {1:.3f})\".format(\n",
        "#                   results['mean_test_score'][candidate],\n",
        "#                   results['std_test_score'][candidate]))\n",
        "#             print(\"Parameters: {0}\".format(results['params'][candidate]))\n",
        "#             print(\"\")\n",
        "\n",
        "\n",
        "# # specify parameters and distributions to sample from\n",
        "# param_dist = {\"max_depth\": [5,9,11,15 ],\n",
        "#               'n_estimators' : [10,25,50,75,100],\n",
        "# #               \"max_features\": sp_randint(1, 11),\n",
        "# #               \"min_samples_split\": sp_randint(2, 11),\n",
        "# #               \"bootstrap\": [True, False],\n",
        "# #               \"criterion\": [\"gini\", \"entropy\"]\n",
        "#              }\n",
        "\n",
        "# # run randomized search\n",
        "# n_iter_search = 20\n",
        "# random_search = RandomizedSearchCV(clf, param_distributions=param_dist,\n",
        "#                                    n_iter=n_iter_search, cv=5, iid=False,random_state=1)\n",
        "\n",
        "# start = time()\n",
        "# random_search.fit(X_new, y_new)\n",
        "# print(\"RandomizedSearchCV took %.2f seconds for %d candidates\"\n",
        "#       \" parameter settings.\" % ((time() - start), n_iter_search))\n",
        "# report(random_search.cv_results_)\n",
        "\n",
        "# # use a full grid over all parameters\n",
        "# param_grid = {\"max_depth\": [5,9,11,15 ],\n",
        "#               'n_estimators' : [10,25,50,75,100],\n",
        "# #               \"max_features\": [1, 3, 10],\n",
        "# #               \"min_samples_split\": [2, 3, 10],\n",
        "# #               \"bootstrap\": [True, False],\n",
        "# #               \"criterion\": [\"gini\", \"entropy\"]\n",
        "#              }\n",
        "\n",
        "# # run grid search\n",
        "# grid_search = GridSearchCV(clf, param_grid=param_grid, cv=5, iid=False)\n",
        "# start = time()\n",
        "# grid_search.fit(X_new, y_new)\n",
        "\n",
        "# print(\"GridSearchCV took %.2f seconds for %d candidate parameter settings.\"\n",
        "#       % (time() - start, len(grid_search.cv_results_['params'])))\n",
        "# report(grid_search.cv_results_)"
      ],
      "execution_count": 0,
      "outputs": []
    },
    {
      "cell_type": "code",
      "metadata": {
        "id": "s_Ugm7bP3Ocq",
        "colab_type": "code",
        "colab": {}
      },
      "source": [
        "# print(__doc__)\n",
        "\n",
        "# import numpy as np\n",
        "\n",
        "# from time import time\n",
        "# from scipy.stats import randint as sp_randint\n",
        "\n",
        "# from sklearn.model_selection import GridSearchCV\n",
        "# from sklearn.model_selection import RandomizedSearchCV\n",
        "# from sklearn.datasets import load_digits\n",
        "# from sklearn.ensemble import RandomForestClassifier\n",
        "\n",
        "# # get some data\n",
        "# digits = load_digits()\n",
        "# X, y = digits.data, digits.target\n",
        "\n",
        "# # build a classifier\n",
        "# clf = GradientBoostingClassifier(random_state=1)\n",
        "\n",
        "\n",
        "# # Utility function to report best scores\n",
        "# def report(results, n_top=3):\n",
        "#     for i in range(1, n_top + 1):\n",
        "#         candidates = np.flatnonzero(results['rank_test_score'] == i)\n",
        "#         for candidate in candidates:\n",
        "#             print(\"Model with rank: {0}\".format(i))\n",
        "#             print(\"Mean validation score: {0:.3f} (std: {1:.3f})\".format(\n",
        "#                   results['mean_test_score'][candidate],\n",
        "#                   results['std_test_score'][candidate]))\n",
        "#             print(\"Parameters: {0}\".format(results['params'][candidate]))\n",
        "#             print(\"\")\n",
        "\n",
        "\n",
        "# # specify parameters and distributions to sample from\n",
        "# param_dist = {\"max_depth\": [3,5,9,11,15 ],\n",
        "#               'n_estimators' : [10,25,50,75,100],\n",
        "# #               \"max_features\": sp_randint(1, 11),\n",
        "# #               \"min_samples_split\": sp_randint(2, 11),\n",
        "# #               \"bootstrap\": [True, False],\n",
        "# #               \"criterion\": [\"gini\", \"entropy\"]\n",
        "#              }\n",
        "\n",
        "# # run randomized search\n",
        "# n_iter_search = 20\n",
        "# random_search = RandomizedSearchCV(clf, param_distributions=param_dist,\n",
        "#                                    n_iter=n_iter_search, cv=5, iid=False,random_state=1)\n",
        "\n",
        "# start = time()\n",
        "# random_search.fit(X_new, y_new)\n",
        "# print(\"RandomizedSearchCV took %.2f seconds for %d candidates\"\n",
        "#       \" parameter settings.\" % ((time() - start), n_iter_search))\n",
        "# report(random_search.cv_results_)\n",
        "\n",
        "# # use a full grid over all parameters\n",
        "# param_grid = {\"max_depth\": [3,5,9,11,15 ],\n",
        "#               'n_estimators' : [10,25,50,75,100],\n",
        "# #               \"max_features\": [1, 3, 10],\n",
        "# #               \"min_samples_split\": [2, 3, 10],\n",
        "# #               \"bootstrap\": [True, False],\n",
        "# #               \"criterion\": [\"gini\", \"entropy\"]\n",
        "#              }\n",
        "\n",
        "# # run grid search\n",
        "# grid_search = GridSearchCV(clf, param_grid=param_grid, cv=5, iid=False)\n",
        "# start = time()\n",
        "# grid_search.fit(X_new, y_new)\n",
        "\n",
        "# print(\"GridSearchCV took %.2f seconds for %d candidate parameter settings.\"\n",
        "#       % (time() - start, len(grid_search.cv_results_['params'])))\n",
        "# report(grid_search.cv_results_)"
      ],
      "execution_count": 0,
      "outputs": []
    },
    {
      "cell_type": "code",
      "metadata": {
        "id": "5M-OT-ba3Ocs",
        "colab_type": "code",
        "colab": {}
      },
      "source": [
        ""
      ],
      "execution_count": 0,
      "outputs": []
    },
    {
      "cell_type": "code",
      "metadata": {
        "id": "xeA_NgrS3Ocu",
        "colab_type": "code",
        "colab": {}
      },
      "source": [
        ""
      ],
      "execution_count": 0,
      "outputs": []
    },
    {
      "cell_type": "code",
      "metadata": {
        "id": "GKS_2_qv3Ocw",
        "colab_type": "code",
        "colab": {}
      },
      "source": [
        ""
      ],
      "execution_count": 0,
      "outputs": []
    },
    {
      "cell_type": "code",
      "metadata": {
        "id": "IIYg92dV3Ocx",
        "colab_type": "code",
        "colab": {}
      },
      "source": [
        ""
      ],
      "execution_count": 0,
      "outputs": []
    }
  ]
}