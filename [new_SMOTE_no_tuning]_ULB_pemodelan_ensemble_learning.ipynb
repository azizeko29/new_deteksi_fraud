{
  "nbformat": 4,
  "nbformat_minor": 0,
  "metadata": {
    "colab": {
      "name": "[new_SMOTE_no_tuning] ULB_pemodelan_ensemble_learning.ipynb",
      "version": "0.3.2",
      "provenance": [],
      "collapsed_sections": [],
      "include_colab_link": true
    },
    "language_info": {
      "codemirror_mode": {
        "name": "ipython",
        "version": 3
      },
      "file_extension": ".py",
      "mimetype": "text/x-python",
      "name": "python",
      "nbconvert_exporter": "python",
      "pygments_lexer": "ipython3",
      "version": "3.7.2"
    },
    "kernelspec": {
      "name": "python3",
      "display_name": "Python 3"
    },
    "accelerator": "GPU"
  },
  "cells": [
    {
      "cell_type": "markdown",
      "metadata": {
        "id": "view-in-github",
        "colab_type": "text"
      },
      "source": [
        "<a href=\"https://colab.research.google.com/github/azizeko29/new_deteksi_fraud/blob/master/%5Bnew_SMOTE_no_tuning%5D_ULB_pemodelan_ensemble_learning.ipynb\" target=\"_parent\"><img src=\"https://colab.research.google.com/assets/colab-badge.svg\" alt=\"Open In Colab\"/></a>"
      ]
    },
    {
      "cell_type": "code",
      "metadata": {
        "_cell_guid": "b1076dfc-b9ad-4769-8c92-a6c4dae69d19",
        "_uuid": "8f2839f25d086af736a60e9eeb907d3b93b6e0e5",
        "id": "DA-5b8e13OZn",
        "colab_type": "code",
        "colab": {}
      },
      "source": [
        "# This Python 3 environment comes with many helpful analytics libraries installed\n",
        "# It is defined by the kaggle/python docker image: https://github.com/kaggle/docker-python\n",
        "# For example, here's several helpful packages to load in \n",
        "\n",
        "import numpy as np # linear algebra\n",
        "import pandas as pd # data processing, CSV file I/O (e.g. pd.read_csv)\n",
        "# import os\n",
        "import matplotlib.pyplot as plt\n",
        "import seaborn as sns; sns.set()\n",
        "import math\n",
        "import collections\n",
        "import time\n",
        "from scipy import stats"
      ],
      "execution_count": 0,
      "outputs": []
    },
    {
      "cell_type": "code",
      "metadata": {
        "_cell_guid": "79c7e3d0-c299-4dcb-8224-4455121ee9b0",
        "_uuid": "d629ff2d2480ee46fbb7e2d37f6b5fab8052498a",
        "id": "dlNO6PTS3OZr",
        "colab_type": "code",
        "outputId": "0d9716fe-b7ed-4bc2-e2e0-8c7416fb0825",
        "colab": {
          "base_uri": "https://localhost:8080/",
          "height": 71
        }
      },
      "source": [
        "# %matplotlib inline\n",
        "# from IPython.display import display\n",
        "# from sklearn import metrics\n",
        "# from sklearn.model_selection import train_test_split\n",
        "# from sklearn.metrics import mean_squared_error\n",
        "# from statistics import stdev\n",
        "\n",
        "from sklearn import tree\n",
        "\n",
        "from IPython.display import Image  \n",
        "from sklearn.externals.six import StringIO  \n",
        "import pydotplus"
      ],
      "execution_count": 2,
      "outputs": [
        {
          "output_type": "stream",
          "text": [
            "/usr/local/lib/python3.6/dist-packages/sklearn/externals/six.py:31: DeprecationWarning: The module is deprecated in version 0.21 and will be removed in version 0.23 since we've dropped support for Python 2.7. Please rely on the official version of six (https://pypi.org/project/six/).\n",
            "  \"(https://pypi.org/project/six/).\", DeprecationWarning)\n"
          ],
          "name": "stderr"
        }
      ]
    },
    {
      "cell_type": "code",
      "metadata": {
        "id": "6nu2Fi203OZu",
        "colab_type": "code",
        "colab": {}
      },
      "source": [
        "# np.random.seed(1)"
      ],
      "execution_count": 0,
      "outputs": []
    },
    {
      "cell_type": "code",
      "metadata": {
        "id": "IXbdF63H3OZw",
        "colab_type": "code",
        "colab": {}
      },
      "source": [
        "def confussion_matrik(actual,predict):\n",
        "    TP,FP,FN,TN = 0,0,0,0\n",
        "    for i,val in enumerate(actual):\n",
        "        if val == 0:\n",
        "            if val == predict[i]:\n",
        "                TN += 1\n",
        "            else:\n",
        "                FP += 1\n",
        "        if val == 1:\n",
        "            if val == predict[i]:\n",
        "                TP += 1\n",
        "            else:\n",
        "                FN += 1\n",
        "    return TP,FP,FN,TN\n",
        " \n",
        "def acc_sens_spec(actual,predict):\n",
        "    TP,FP,FN,TN = confussion_matrik(actual,predict)\n",
        "# akurasi\n",
        "    if (TP+FP+FN+TN) == 0 :\n",
        "        accuracy = 0 \n",
        "    else :\n",
        "        accuracy = (TP+TN)/(TP+FP+FN+TN)\n",
        "        \n",
        "# sensitivity\n",
        "    if (TP+FN) == 0 :\n",
        "        sensitivity = 0\n",
        "    else :\n",
        "        sensitivity = TP/(TP+FN)\n",
        "        \n",
        "# specifity    \n",
        "    if (TN +FP) == 0 :\n",
        "        specifity = 0\n",
        "    else :\n",
        "        specifity = TN/(TN +FP)\n",
        "        \n",
        "# precision\n",
        "    if (TP+FP) == 0 :\n",
        "        precision = 0\n",
        "    else :\n",
        "        precision = TP/(TP+FP)\n",
        "\n",
        "# recall\n",
        "    recall = sensitivity\n",
        "\n",
        "# f1_score\n",
        "    if (precision+recall) == 0 :\n",
        "        f1_score = 0\n",
        "    else :\n",
        "        f1_score = 2*((precision*recall)/(precision+recall))  \n",
        "    \n",
        "    return accuracy,sensitivity,specifity,precision,recall,f1_score\n",
        "\n",
        "# Calculate accuracy percentage\n",
        "def accuracy_metric(actual, predicted):\n",
        "    #how many correct predictions?\n",
        "    correct = 0\n",
        "    #for each actual label\n",
        "    for i in range(len(actual)):\n",
        "        #if actual matches predicted label\n",
        "        if actual[i] == predicted[i]:\n",
        "            #add 1 to the correct iterator\n",
        "            correct += 1\n",
        "    #return percentage of predictions that were correct\n",
        "    return correct / float(len(actual)) * 100.0"
      ],
      "execution_count": 0,
      "outputs": []
    },
    {
      "cell_type": "code",
      "metadata": {
        "id": "PJRIgaWu3OZz",
        "colab_type": "code",
        "colab": {}
      },
      "source": [
        "# confussion_matrik(y,pred)"
      ],
      "execution_count": 0,
      "outputs": []
    },
    {
      "cell_type": "code",
      "metadata": {
        "id": "VjDccmJj3OZ3",
        "colab_type": "code",
        "colab": {}
      },
      "source": [
        "# accuracy,sensitivity,specifity = acc_sens_spec(y,pred)\n",
        "# print('acc',accuracy)\n",
        "# print('sens',sensitivity)\n",
        "# print('spec',specifity)"
      ],
      "execution_count": 0,
      "outputs": []
    },
    {
      "cell_type": "code",
      "metadata": {
        "scrolled": true,
        "id": "KJOxP5wX3OZ5",
        "colab_type": "code",
        "colab": {}
      },
      "source": [
        "# accuracy_metric(y,RF.predict(X))"
      ],
      "execution_count": 0,
      "outputs": []
    },
    {
      "cell_type": "code",
      "metadata": {
        "id": "4F9KdIWf3OZ8",
        "colab_type": "code",
        "colab": {}
      },
      "source": [
        "def cross_val_split(X,fold=2,seed=0):\n",
        "    np.random.seed(seed)\n",
        "    n_folds= fold\n",
        "    size = X.shape[0]/n_folds\n",
        "    X_idx = list(range(X.shape[0]))\n",
        "    folds_data= []\n",
        "    for i in range(n_folds):\n",
        "#         print(X_idx)\n",
        "        random_idx = list(np.random.choice(X_idx,int(size),replace=False))\n",
        "#         print(random_idx)\n",
        "        X_idx = [idx for idx in X_idx if idx not in random_idx]\n",
        "#         print(X_idx)\n",
        "\n",
        "        folds_data.append(random_idx)\n",
        "#         print(\"--\")\n",
        "    return folds_data\n",
        "\n",
        "def kfold_cross_validation(model,X,y, n_fold=2, n_seed=0):\n",
        "    folds = cross_val_split(X,fold=n_fold,seed=n_seed)\n",
        "    fold_result =[]\n",
        "    for i in range(len(folds)):\n",
        "    #     print(i)\n",
        "        train = []\n",
        "        for j in range(len(folds)):\n",
        "            if j != i:\n",
        "                train = train + folds[j]\n",
        "        test = folds[i]\n",
        "\n",
        "        X_train = X.iloc[train,:].reset_index(drop=True)\n",
        "        y_train = y[train].reset_index(drop=True)\n",
        "\n",
        "        X_test = X.iloc[test,:].reset_index(drop=True)\n",
        "        y_test = y[test].reset_index(drop=True)\n",
        "\n",
        "\n",
        "        t0 = time.time()\n",
        "        model.fit(X_train, y_train)\n",
        "        t1 = time.time()\n",
        "        waktu = t1 - t0\n",
        "\n",
        "        predict = model.predict(X_test)\n",
        "        accuracy,sensitivity,specifity,precision,recall,f1_score = acc_sens_spec(y_test,predict)\n",
        "\n",
        "        result = [accuracy,sensitivity,specifity,precision,recall,f1_score,waktu]\n",
        "        fold_result.append(result)\n",
        "        \n",
        "    return fold_result"
      ],
      "execution_count": 0,
      "outputs": []
    },
    {
      "cell_type": "code",
      "metadata": {
        "id": "ZiR9UJfnNnnm",
        "colab_type": "code",
        "colab": {}
      },
      "source": [
        "def testing(model,X_test,y_test):\n",
        "    result_ = []\n",
        "\n",
        "#       t0 = time.time()\n",
        "#       model.fit(X_train, y_train)\n",
        "#       t1 = time.time()\n",
        "#       waktu = t1 - t0\n",
        "    predict = model.predict(X_test)\n",
        "    accuracy,sensitivity,specifity,precision,recall,f1_score = acc_sens_spec(y_test,predict)\n",
        "\n",
        "    result = [accuracy,sensitivity,specifity,precision,recall,f1_score]\n",
        "        \n",
        "    result_.append(result)\n",
        "        \n",
        "    return result_"
      ],
      "execution_count": 0,
      "outputs": []
    },
    {
      "cell_type": "code",
      "metadata": {
        "id": "yXcyImFV3OZ_",
        "colab_type": "code",
        "colab": {}
      },
      "source": [
        "# from sklearn.decomposition import PCA\n",
        "# import pylab as pl\n",
        "# def plot_this(X_rs,y_rs,method):\n",
        "#   # Use principal component to condense the 10 features to 2 features\n",
        "#   pca = PCA(n_components=2).fit(X_rs)\n",
        "#   pca_2d = pca.transform(X_rs)\n",
        "#   # Assign colors\n",
        "#   for i in range(0, pca_2d.shape[0]):\n",
        "#     if y_rs[i] == 0:\n",
        "#       c1 = pl.scatter(pca_2d[i,0],pca_2d[i,1],c='r', marker='o')\n",
        "#     elif y_rs[i] == 1:\n",
        "#       c2 = pl.scatter(pca_2d[i,0],pca_2d[i,1],c='g', marker='*')  \n",
        "#   pl.legend([c1, c2], ['Class 1', 'Class 2'])\n",
        "#   pl.title(method)\n",
        "#   pl.axis([-4, 5, -4, 4])  # x axis (-4,5), y axis (-4,4)\n",
        "#   pl.show()\n",
        "    \n"
      ],
      "execution_count": 0,
      "outputs": []
    },
    {
      "cell_type": "markdown",
      "metadata": {
        "id": "EzoQL3J93OaC",
        "colab_type": "text"
      },
      "source": [
        "## ---------"
      ]
    },
    {
      "cell_type": "code",
      "metadata": {
        "id": "xgot4yfLSCvp",
        "colab_type": "code",
        "outputId": "85ae24d4-e9a1-4575-9429-be0889d86d47",
        "colab": {
          "base_uri": "https://localhost:8080/",
          "height": 122
        }
      },
      "source": [
        "from google.colab import drive\n",
        "drive.mount('/content/drive')"
      ],
      "execution_count": 10,
      "outputs": [
        {
          "output_type": "stream",
          "text": [
            "Go to this URL in a browser: https://accounts.google.com/o/oauth2/auth?client_id=947318989803-6bn6qk8qdgf4n4g3pfee6491hc0brc4i.apps.googleusercontent.com&redirect_uri=urn%3Aietf%3Awg%3Aoauth%3A2.0%3Aoob&scope=email%20https%3A%2F%2Fwww.googleapis.com%2Fauth%2Fdocs.test%20https%3A%2F%2Fwww.googleapis.com%2Fauth%2Fdrive%20https%3A%2F%2Fwww.googleapis.com%2Fauth%2Fdrive.photos.readonly%20https%3A%2F%2Fwww.googleapis.com%2Fauth%2Fpeopleapi.readonly&response_type=code\n",
            "\n",
            "Enter your authorization code:\n",
            "··········\n",
            "Mounted at /content/drive\n"
          ],
          "name": "stdout"
        }
      ]
    },
    {
      "cell_type": "code",
      "metadata": {
        "colab_type": "code",
        "id": "Q55HIz-G4zrJ",
        "colab": {}
      },
      "source": [
        "# ##read data\n",
        "\n",
        "df_train = pd.read_csv('drive/My Drive/Deteksi fraud/data/ULB_preprocessing_train.csv',sep=\";\")\n",
        "\n",
        "# read_df.head()"
      ],
      "execution_count": 0,
      "outputs": []
    },
    {
      "cell_type": "code",
      "metadata": {
        "id": "yBp5TSzr470m",
        "colab_type": "code",
        "colab": {}
      },
      "source": [
        "# ##read data\n",
        "\n",
        "df_test = pd.read_csv('drive/My Drive/Deteksi fraud/data/ULB_preprocessing_test.csv',sep=\";\")\n",
        "\n",
        "# read_df.head()"
      ],
      "execution_count": 0,
      "outputs": []
    },
    {
      "cell_type": "markdown",
      "metadata": {
        "id": "GrVBKyFv4qU2",
        "colab_type": "text"
      },
      "source": [
        "## --"
      ]
    },
    {
      "cell_type": "code",
      "metadata": {
        "id": "g-VWrfSX4xor",
        "colab_type": "code",
        "outputId": "44c52269-5bea-4be0-a137-b0dba5007676",
        "colab": {
          "base_uri": "https://localhost:8080/",
          "height": 68
        }
      },
      "source": [
        "df_train['Class'].value_counts()"
      ],
      "execution_count": 13,
      "outputs": [
        {
          "output_type": "execute_result",
          "data": {
            "text/plain": [
              "0    199020\n",
              "1       344\n",
              "Name: Class, dtype: int64"
            ]
          },
          "metadata": {
            "tags": []
          },
          "execution_count": 13
        }
      ]
    },
    {
      "cell_type": "code",
      "metadata": {
        "id": "YV9GNaQb7ocg",
        "colab_type": "code",
        "colab": {}
      },
      "source": [
        "X = df_train.drop('Class', axis=1)\n",
        "y = df_train['Class'].copy()"
      ],
      "execution_count": 0,
      "outputs": []
    },
    {
      "cell_type": "code",
      "metadata": {
        "id": "JY8nCzIG8C_Q",
        "colab_type": "code",
        "outputId": "1aa97b54-bf1e-4a64-9066-78d46fbf087e",
        "colab": {
          "base_uri": "https://localhost:8080/",
          "height": 34
        }
      },
      "source": [
        "ratio_class = dict(df_train['Class'].value_counts())\n",
        "ratio_class"
      ],
      "execution_count": 15,
      "outputs": [
        {
          "output_type": "execute_result",
          "data": {
            "text/plain": [
              "{0: 199020, 1: 344}"
            ]
          },
          "metadata": {
            "tags": []
          },
          "execution_count": 15
        }
      ]
    },
    {
      "cell_type": "code",
      "metadata": {
        "id": "qqunIXeH5v_4",
        "colab_type": "code",
        "colab": {}
      },
      "source": [
        "# from collections import Counter\n",
        "# from imblearn.under_sampling import EditedNearestNeighbours # doctest: +NORMALIZE_WHITESPACE\n",
        "\n",
        "# # RandomUnderSampler\n",
        "# sampler = EditedNearestNeighbours()\n",
        "# # sampler = EditedNearestNeighbours(ratio=ratio_class)\n",
        "\n",
        "# X_sample, y_sample = sampler.fit_sample(X, y)\n",
        "# # print('Random undersampling {}'.format(Counter(y_rs))\n",
        "\n",
        "from imblearn.over_sampling import SMOTE # doctest: +NORMALIZE_WHITESPACE\n",
        "\n",
        "sampler = SMOTE(random_state=1)\n",
        "\n",
        "X_sample, y_sample = sampler.fit_sample(X, y)\n"
      ],
      "execution_count": 0,
      "outputs": []
    },
    {
      "cell_type": "code",
      "metadata": {
        "id": "1xt1jQEvBjG8",
        "colab_type": "code",
        "colab": {}
      },
      "source": [
        "# X_sample, y_sample = sampler.fit_sample(X, y)\n",
        "# print('Random undersampling {}'.format(Counter(y_rs))"
      ],
      "execution_count": 0,
      "outputs": []
    },
    {
      "cell_type": "code",
      "metadata": {
        "id": "1OPYg0YU8eqO",
        "colab_type": "code",
        "colab": {}
      },
      "source": [
        "df_new = pd.DataFrame(X_sample,columns=df_train.columns[:-1])\n",
        "df_new['Class'] = y_sample"
      ],
      "execution_count": 0,
      "outputs": []
    },
    {
      "cell_type": "code",
      "metadata": {
        "id": "0xC8X6Z49Nqq",
        "colab_type": "code",
        "colab": {}
      },
      "source": [
        "# count = 0\n",
        "# for a in df_new.columns:\n",
        "#     if df_new[a].isnull().sum() > 0 :\n",
        "#         print(a)\n",
        "#         count+=1\n",
        "# count"
      ],
      "execution_count": 0,
      "outputs": []
    },
    {
      "cell_type": "code",
      "metadata": {
        "id": "WklXsJVo3Obn",
        "colab_type": "code",
        "outputId": "4e8d3cba-1102-4888-f6b5-96fc05094af3",
        "colab": {
          "base_uri": "https://localhost:8080/",
          "height": 429
        }
      },
      "source": [
        "plt.figure(1,figsize=(5, 5), dpi=80)\n",
        "plt.grid(color='b', linestyle='-', linewidth=0.2)\n",
        "plt.title('Class Distributions \\n (0: No Fraud || 1: Fraud)', fontsize=14)\n",
        "sns.countplot('Class', data=df_new,palette='Set2')"
      ],
      "execution_count": 20,
      "outputs": [
        {
          "output_type": "execute_result",
          "data": {
            "text/plain": [
              "<matplotlib.axes._subplots.AxesSubplot at 0x7f3d73af0c18>"
            ]
          },
          "metadata": {
            "tags": []
          },
          "execution_count": 20
        },
        {
          "output_type": "display_data",
          "data": {
            "image/png": "[encoded data removed]",
            "text/plain": [
              "<Figure size 400x400 with 1 Axes>"
            ]
          },
          "metadata": {
            "tags": []
          }
        }
      ]
    },
    {
      "cell_type": "code",
      "metadata": {
        "id": "ttcCg9el3Obv",
        "colab_type": "code",
        "colab": {}
      },
      "source": [
        "X_new = df_new.drop('Class', axis=1)\n",
        "y_new = df_new['Class'].copy()"
      ],
      "execution_count": 0,
      "outputs": []
    },
    {
      "cell_type": "code",
      "metadata": {
        "id": "dFf0Y6hk3Oby",
        "colab_type": "code",
        "outputId": "4397403c-51ac-4827-8aa5-7a9bbe82f8e8",
        "colab": {
          "base_uri": "https://localhost:8080/",
          "height": 68
        }
      },
      "source": [
        "y_new.value_counts()"
      ],
      "execution_count": 22,
      "outputs": [
        {
          "output_type": "execute_result",
          "data": {
            "text/plain": [
              "1    199020\n",
              "0    199020\n",
              "Name: Class, dtype: int64"
            ]
          },
          "metadata": {
            "tags": []
          },
          "execution_count": 22
        }
      ]
    },
    {
      "cell_type": "code",
      "metadata": {
        "id": "gvLTOgqn3Ob3",
        "colab_type": "code",
        "outputId": "047a34a1-9391-4d92-c250-fb823eae4855",
        "colab": {
          "base_uri": "https://localhost:8080/",
          "height": 85
        }
      },
      "source": [
        "X_new.columns"
      ],
      "execution_count": 23,
      "outputs": [
        {
          "output_type": "execute_result",
          "data": {
            "text/plain": [
              "Index(['Time', 'V1', 'V2', 'V3', 'V4', 'V5', 'V6', 'V7', 'V8', 'V9', 'V10',\n",
              "       'V11', 'V12', 'V13', 'V14', 'V15', 'V16', 'V17', 'V18', 'V19', 'V20',\n",
              "       'V21', 'V22', 'V23', 'V24', 'V25', 'V26', 'V27', 'V28', 'Amount'],\n",
              "      dtype='object')"
            ]
          },
          "metadata": {
            "tags": []
          },
          "execution_count": 23
        }
      ]
    },
    {
      "cell_type": "code",
      "metadata": {
        "id": "r87QvIPkShjg",
        "colab_type": "code",
        "colab": {}
      },
      "source": [
        "X_test = df_test.drop('Class', axis=1)\n",
        "y_test = df_test['Class'].copy()"
      ],
      "execution_count": 0,
      "outputs": []
    },
    {
      "cell_type": "code",
      "metadata": {
        "id": "aSGKiU-W3Ob7",
        "colab_type": "code",
        "outputId": "cf8d3a10-097d-4731-d9f3-db944ef8d437",
        "colab": {
          "base_uri": "https://localhost:8080/",
          "height": 68
        }
      },
      "source": [
        "y_test.value_counts()"
      ],
      "execution_count": 25,
      "outputs": [
        {
          "output_type": "execute_result",
          "data": {
            "text/plain": [
              "0    85295\n",
              "1      148\n",
              "Name: Class, dtype: int64"
            ]
          },
          "metadata": {
            "tags": []
          },
          "execution_count": 25
        }
      ]
    },
    {
      "cell_type": "code",
      "metadata": {
        "id": "MCagyUAT3OcA",
        "colab_type": "code",
        "colab": {}
      },
      "source": [
        ""
      ],
      "execution_count": 0,
      "outputs": []
    },
    {
      "cell_type": "markdown",
      "metadata": {
        "id": "uhfc3c9v3OcC",
        "colab_type": "text"
      },
      "source": [
        "# # k-folds\n"
      ]
    },
    {
      "cell_type": "code",
      "metadata": {
        "id": "HRTIkHWU3OcD",
        "colab_type": "code",
        "colab": {}
      },
      "source": [
        "def validasi_model (clf,X,y,kfolds):\n",
        "    CV_SKLearn = kfold_cross_validation(clf,X,y,n_fold=kfolds,n_seed=1)\n",
        "    df_result = pd.DataFrame(data= CV_SKLearn, columns=['Akurasi','Sensitivity','Specifity','precision','recall','f1_score','Waktu'])\n",
        "\n",
        "    df_result.insert(loc=0, column='No', value=list(range(1,df_result.shape[0]+1)))\n",
        "    df_result = df_result.set_index('No')\n",
        "\n",
        "    del df_result.index.name\n",
        "\n",
        "    df_result = df_result.append(df_result.describe()[1:2])\n",
        "    \n",
        "    return df_result\n",
        "# result_SKLearn = result_SKLearn.append('')"
      ],
      "execution_count": 0,
      "outputs": []
    },
    {
      "cell_type": "code",
      "metadata": {
        "id": "qsNMZt1V3OcV",
        "colab_type": "code",
        "colab": {}
      },
      "source": [
        "# Classifier Libraries\n",
        "from sklearn.ensemble import RandomForestClassifier, AdaBoostClassifier\n",
        "from sklearn.ensemble import BaggingClassifier, ExtraTreesClassifier\n",
        "from sklearn.ensemble import GradientBoostingClassifier\n",
        "\n",
        "    \n",
        "clf_RF = RandomForestClassifier(random_state=1,n_estimators=100)\n",
        "clf_AB = AdaBoostClassifier(random_state=1,n_estimators=100)\n",
        "clf_B = BaggingClassifier(random_state=1,n_estimators=100)\n",
        "clf_ET = ExtraTreesClassifier(random_state=1,n_estimators=100)\n",
        "clf_GB = GradientBoostingClassifier(random_state=1,n_estimators=100,max_depth=9)\n",
        "\n",
        "##skenario \n",
        "skenario_1 = {}\n",
        "skenario_1['1'] = clf_RF\n",
        "# skenario_1['2'] = clf_AB\n",
        "# skenario_1['3'] = clf_B\n",
        "# skenario_1['4'] = clf_ET\n",
        "skenario_1['5'] = clf_GB\n"
      ],
      "execution_count": 0,
      "outputs": []
    },
    {
      "cell_type": "code",
      "metadata": {
        "id": "OSQFMa4I8q6U",
        "colab_type": "code",
        "colab": {}
      },
      "source": [
        "# result = {}\n",
        "# for i in skenario_1:\n",
        "  \n",
        "#     clf_skenario = skenario_1[i]\n",
        "#     result[i] = validasi_model(clf_skenario,X_new,y_new,5)\n",
        "                \n",
        "\n",
        "# df_result = pd.DataFrame()\n",
        "# for i in skenario_1:\n",
        "#     df_result = df_result.append(result[i].iloc[5:,:])\n",
        "    \n",
        "# df_result.insert(loc=0, column='No', value=list(range(df_result.shape[0])))\n",
        "# df_result = df_result.set_index('No')\n",
        "\n",
        "# del df_result.index.name\n",
        "\n",
        "# df_result"
      ],
      "execution_count": 0,
      "outputs": []
    },
    {
      "cell_type": "code",
      "metadata": {
        "id": "eSkmF9NlSoxH",
        "colab_type": "code",
        "colab": {}
      },
      "source": [
        "# for i in skenario_1:\n",
        "    \n",
        "#     clf_skenario = skenario_1[i]\n",
        "# #     print('komposisi', i)\n",
        "\n",
        "    \n",
        "#     result_SKLearn = validasi_model(clf_skenario,X_new,y_new,5)\n",
        "# #     print(result_SKLearn)\n",
        "    \n",
        "#     nama_file = 'drive/My Drive/Deteksi fraud/hasil/SMOTE/ULB/k_folds/komposisi999.csv'\n",
        "#     nama_file = nama_file.replace('999',str(i))\n",
        "\n",
        "#     result_SKLearn.to_csv(nama_file, sep=';',index=False)\n",
        "                \n",
        "\n",
        "# df_result = pd.DataFrame()\n",
        "# for i in skenario_1:\n",
        "#     nama_file = 'drive/My Drive/Deteksi fraud/hasil/SMOTE/ULB/k_folds/komposisi999.csv'\n",
        "#     nama_file = nama_file.replace('999',str(i))\n",
        "#     df_komposisi = pd.read_csv(nama_file,sep=\";\")\n",
        "#     df_result = df_result.append(df_komposisi.iloc[5:,:])\n",
        "    \n",
        "# df_result.insert(loc=0, column='No', value=list(range(df_result.shape[0])))\n",
        "# df_result = df_result.set_index('No')\n",
        "\n",
        "# del df_result.index.name\n",
        "\n",
        "# df_result.to_csv('drive/My Drive/Deteksi fraud/hasil/SMOTE/ULB/k_folds/result.csv', sep=';',index=False)\n",
        "# df_result      \n"
      ],
      "execution_count": 0,
      "outputs": []
    },
    {
      "cell_type": "code",
      "metadata": {
        "id": "tY88k9oH3Oce",
        "colab_type": "code",
        "colab": {}
      },
      "source": [
        ""
      ],
      "execution_count": 0,
      "outputs": []
    },
    {
      "cell_type": "code",
      "metadata": {
        "id": "-iieHLGD3Och",
        "colab_type": "code",
        "colab": {}
      },
      "source": [
        ""
      ],
      "execution_count": 0,
      "outputs": []
    },
    {
      "cell_type": "markdown",
      "metadata": {
        "id": "IyHMPoVTPP1l",
        "colab_type": "text"
      },
      "source": [
        "----"
      ]
    },
    {
      "cell_type": "markdown",
      "metadata": {
        "id": "r5ozIM9EPPxY",
        "colab_type": "text"
      },
      "source": [
        "## Testing"
      ]
    },
    {
      "cell_type": "code",
      "metadata": {
        "id": "u0Du8-1gPTv8",
        "colab_type": "code",
        "colab": {}
      },
      "source": [
        "def validasi_testing (clf,X,y):\n",
        "    testing_result = testing(clf,X,y)\n",
        "    df_result = pd.DataFrame(data= testing_result, columns=['Akurasi','Sensitivity','Specifity','precision','recall','f1_score'])\n",
        "\n",
        "    df_result.insert(loc=0, column='No', value=list(range(1,df_result.shape[0]+1)))\n",
        "    df_result = df_result.set_index('No')\n",
        "\n",
        "    del df_result.index.name\n",
        "\n",
        "#     df_result = df_result.append(df_result.describe()[1:2])\n",
        "    \n",
        "    return df_result\n",
        "# result_SKLearn = result_SKLearn.append('')"
      ],
      "execution_count": 0,
      "outputs": []
    },
    {
      "cell_type": "code",
      "metadata": {
        "id": "byPedOS4PTtZ",
        "colab_type": "code",
        "outputId": "bd7458d7-767b-481e-812c-3f0af9c69485",
        "colab": {
          "base_uri": "https://localhost:8080/",
          "height": 136
        }
      },
      "source": [
        "from sklearn.ensemble import RandomForestClassifier\n",
        "n_tree = 100\n",
        "# clf_RF_ = RandomForestClassifier(random_state=1,n_estimators=n_tree, max_features='sqrt')\n",
        "clf_RF.fit(X_new,y_new)"
      ],
      "execution_count": 29,
      "outputs": [
        {
          "output_type": "execute_result",
          "data": {
            "text/plain": [
              "RandomForestClassifier(bootstrap=True, class_weight=None, criterion='gini',\n",
              "                       max_depth=None, max_features='auto', max_leaf_nodes=None,\n",
              "                       min_impurity_decrease=0.0, min_impurity_split=None,\n",
              "                       min_samples_leaf=1, min_samples_split=2,\n",
              "                       min_weight_fraction_leaf=0.0, n_estimators=100,\n",
              "                       n_jobs=None, oob_score=False, random_state=1, verbose=0,\n",
              "                       warm_start=False)"
            ]
          },
          "metadata": {
            "tags": []
          },
          "execution_count": 29
        }
      ]
    },
    {
      "cell_type": "code",
      "metadata": {
        "id": "Neu8gCbsPTq0",
        "colab_type": "code",
        "outputId": "83cb5832-8241-4265-b91c-8518c0d9857a",
        "colab": {
          "base_uri": "https://localhost:8080/",
          "height": 187
        }
      },
      "source": [
        "from sklearn.ensemble import GradientBoostingClassifier\n",
        "n_tree = 100\n",
        "# clf = RandomForestClassifier(random_state=1,n_estimators=n_tree, max_features='sqrt')\n",
        "# clf_GB = GradientBoostingClassifier(random_state=1,n_estimators=50)\n",
        "\n",
        "clf_GB.fit(X_new,y_new)\n",
        "\n"
      ],
      "execution_count": 30,
      "outputs": [
        {
          "output_type": "execute_result",
          "data": {
            "text/plain": [
              "GradientBoostingClassifier(criterion='friedman_mse', init=None,\n",
              "                           learning_rate=0.1, loss='deviance', max_depth=9,\n",
              "                           max_features=None, max_leaf_nodes=None,\n",
              "                           min_impurity_decrease=0.0, min_impurity_split=None,\n",
              "                           min_samples_leaf=1, min_samples_split=2,\n",
              "                           min_weight_fraction_leaf=0.0, n_estimators=100,\n",
              "                           n_iter_no_change=None, presort='auto',\n",
              "                           random_state=1, subsample=1.0, tol=0.0001,\n",
              "                           validation_fraction=0.1, verbose=0,\n",
              "                           warm_start=False)"
            ]
          },
          "metadata": {
            "tags": []
          },
          "execution_count": 30
        }
      ]
    },
    {
      "cell_type": "code",
      "metadata": {
        "id": "oV9Pyow1PTod",
        "colab_type": "code",
        "outputId": "a44734d6-fe0e-4209-c3d9-641420396aee",
        "colab": {
          "base_uri": "https://localhost:8080/",
          "height": 111
        }
      },
      "source": [
        "result = {}\n",
        "for i in skenario_1:\n",
        "  \n",
        "    clf_skenario = skenario_1[i]\n",
        "    result[i] = validasi_testing(clf_skenario,X_test,y_test)\n",
        "    \n",
        "                \n",
        "df_result = pd.DataFrame()\n",
        "for i in skenario_1:\n",
        "    df_result = df_result.append(result[i])\n",
        "    \n",
        "df_result.insert(loc=0, column='No', value=list(range(df_result.shape[0])))\n",
        "df_result = df_result.set_index('No')\n",
        "\n",
        "del df_result.index.name\n",
        "\n",
        "nama_file = 'drive/My Drive/Deteksi fraud/hasil/SMOTE/ULB/testing/result.csv'\n",
        "\n",
        "df_result.to_csv(nama_file, sep=';',index=False)\n",
        "\n",
        "df_result\n"
      ],
      "execution_count": 31,
      "outputs": [
        {
          "output_type": "execute_result",
          "data": {
            "text/html": [
              "<div>\n",
              "<style scoped>\n",
              "    .dataframe tbody tr th:only-of-type {\n",
              "        vertical-align: middle;\n",
              "    }\n",
              "\n",
              "    .dataframe tbody tr th {\n",
              "        vertical-align: top;\n",
              "    }\n",
              "\n",
              "    .dataframe thead th {\n",
              "        text-align: right;\n",
              "    }\n",
              "</style>\n",
              "<table border=\"1\" class=\"dataframe\">\n",
              "  <thead>\n",
              "    <tr style=\"text-align: right;\">\n",
              "      <th></th>\n",
              "      <th>Akurasi</th>\n",
              "      <th>Sensitivity</th>\n",
              "      <th>Specifity</th>\n",
              "      <th>precision</th>\n",
              "      <th>recall</th>\n",
              "      <th>f1_score</th>\n",
              "    </tr>\n",
              "  </thead>\n",
              "  <tbody>\n",
              "    <tr>\n",
              "      <th>0</th>\n",
              "      <td>0.999438</td>\n",
              "      <td>0.844595</td>\n",
              "      <td>0.999707</td>\n",
              "      <td>0.833333</td>\n",
              "      <td>0.844595</td>\n",
              "      <td>0.838926</td>\n",
              "    </tr>\n",
              "    <tr>\n",
              "      <th>1</th>\n",
              "      <td>0.999345</td>\n",
              "      <td>0.871622</td>\n",
              "      <td>0.999566</td>\n",
              "      <td>0.777108</td>\n",
              "      <td>0.871622</td>\n",
              "      <td>0.821656</td>\n",
              "    </tr>\n",
              "  </tbody>\n",
              "</table>\n",
              "</div>"
            ],
            "text/plain": [
              "    Akurasi  Sensitivity  Specifity  precision    recall  f1_score\n",
              "0  0.999438     0.844595   0.999707   0.833333  0.844595  0.838926\n",
              "1  0.999345     0.871622   0.999566   0.777108  0.871622  0.821656"
            ]
          },
          "metadata": {
            "tags": []
          },
          "execution_count": 31
        }
      ]
    },
    {
      "cell_type": "markdown",
      "metadata": {
        "id": "bA870uY2LplA",
        "colab_type": "text"
      },
      "source": [
        "----"
      ]
    },
    {
      "cell_type": "markdown",
      "metadata": {
        "id": "MiWwdVQiLph-",
        "colab_type": "text"
      },
      "source": [
        "testing balance data"
      ]
    },
    {
      "cell_type": "code",
      "metadata": {
        "id": "OyB0euiSPTl2",
        "colab_type": "code",
        "outputId": "ffc873df-cb63-48cc-be44-7feee414845b",
        "colab": {
          "base_uri": "https://localhost:8080/",
          "height": 68
        }
      },
      "source": [
        "y_test.value_counts()"
      ],
      "execution_count": 32,
      "outputs": [
        {
          "output_type": "execute_result",
          "data": {
            "text/plain": [
              "0    85295\n",
              "1      148\n",
              "Name: Class, dtype: int64"
            ]
          },
          "metadata": {
            "tags": []
          },
          "execution_count": 32
        }
      ]
    },
    {
      "cell_type": "code",
      "metadata": {
        "id": "buQNL5LjPTju",
        "colab_type": "code",
        "colab": {}
      },
      "source": [
        "df_test = X_test.copy()\n",
        "df_test['Class'] = y_test.copy()"
      ],
      "execution_count": 0,
      "outputs": []
    },
    {
      "cell_type": "code",
      "metadata": {
        "id": "iY5OndpePTgv",
        "colab_type": "code",
        "outputId": "f8358f8a-198f-4315-f481-5250764cd076",
        "colab": {
          "base_uri": "https://localhost:8080/",
          "height": 224
        }
      },
      "source": [
        "# Since our classes are highly skewed we should make them equivalent in order to have a normal distribution of the classes.\n",
        "\n",
        "# Lets shuffle the data before creating the subsamples\n",
        "df_copy = df_test.copy()\n",
        "# df_copy = df_copy.sample(frac=1)\n",
        "\n",
        "fraud_df = df_copy.loc[df_copy['Class'] == 1]\n",
        "non_fraud_df = df_copy.loc[df_copy['Class'] == 0].sample(n=359,random_state=1)\n",
        "\n",
        "normal_distributed_df = pd.concat([fraud_df, non_fraud_df])\n",
        "\n",
        "# Shuffle dataframe rows\n",
        "df_new = normal_distributed_df.sample(frac=1, random_state=1)\n",
        "df_new = df_new.reset_index()\n",
        "df_new = df_new.drop('index', axis=1)\n",
        "df_new.head()"
      ],
      "execution_count": 34,
      "outputs": [
        {
          "output_type": "execute_result",
          "data": {
            "text/html": [
              "<div>\n",
              "<style scoped>\n",
              "    .dataframe tbody tr th:only-of-type {\n",
              "        vertical-align: middle;\n",
              "    }\n",
              "\n",
              "    .dataframe tbody tr th {\n",
              "        vertical-align: top;\n",
              "    }\n",
              "\n",
              "    .dataframe thead th {\n",
              "        text-align: right;\n",
              "    }\n",
              "</style>\n",
              "<table border=\"1\" class=\"dataframe\">\n",
              "  <thead>\n",
              "    <tr style=\"text-align: right;\">\n",
              "      <th></th>\n",
              "      <th>Time</th>\n",
              "      <th>V1</th>\n",
              "      <th>V2</th>\n",
              "      <th>V3</th>\n",
              "      <th>V4</th>\n",
              "      <th>V5</th>\n",
              "      <th>V6</th>\n",
              "      <th>V7</th>\n",
              "      <th>V8</th>\n",
              "      <th>V9</th>\n",
              "      <th>V10</th>\n",
              "      <th>V11</th>\n",
              "      <th>V12</th>\n",
              "      <th>V13</th>\n",
              "      <th>V14</th>\n",
              "      <th>V15</th>\n",
              "      <th>V16</th>\n",
              "      <th>V17</th>\n",
              "      <th>V18</th>\n",
              "      <th>V19</th>\n",
              "      <th>V20</th>\n",
              "      <th>V21</th>\n",
              "      <th>V22</th>\n",
              "      <th>V23</th>\n",
              "      <th>V24</th>\n",
              "      <th>V25</th>\n",
              "      <th>V26</th>\n",
              "      <th>V27</th>\n",
              "      <th>V28</th>\n",
              "      <th>Amount</th>\n",
              "      <th>Class</th>\n",
              "    </tr>\n",
              "  </thead>\n",
              "  <tbody>\n",
              "    <tr>\n",
              "      <th>0</th>\n",
              "      <td>57887.0</td>\n",
              "      <td>1.033666</td>\n",
              "      <td>-1.391323</td>\n",
              "      <td>0.774184</td>\n",
              "      <td>-0.492055</td>\n",
              "      <td>-1.500711</td>\n",
              "      <td>0.211361</td>\n",
              "      <td>-1.092709</td>\n",
              "      <td>0.185016</td>\n",
              "      <td>0.055501</td>\n",
              "      <td>0.419744</td>\n",
              "      <td>-0.828392</td>\n",
              "      <td>-1.018216</td>\n",
              "      <td>-0.678040</td>\n",
              "      <td>-0.474986</td>\n",
              "      <td>0.765261</td>\n",
              "      <td>1.063267</td>\n",
              "      <td>0.520718</td>\n",
              "      <td>-1.204130</td>\n",
              "      <td>0.192846</td>\n",
              "      <td>0.312224</td>\n",
              "      <td>0.395844</td>\n",
              "      <td>0.847211</td>\n",
              "      <td>-0.245306</td>\n",
              "      <td>-0.240273</td>\n",
              "      <td>0.340715</td>\n",
              "      <td>-0.008338</td>\n",
              "      <td>0.029606</td>\n",
              "      <td>0.043997</td>\n",
              "      <td>168.00</td>\n",
              "      <td>0</td>\n",
              "    </tr>\n",
              "    <tr>\n",
              "      <th>1</th>\n",
              "      <td>37092.0</td>\n",
              "      <td>1.198636</td>\n",
              "      <td>-0.489530</td>\n",
              "      <td>-0.372524</td>\n",
              "      <td>-0.298584</td>\n",
              "      <td>1.416174</td>\n",
              "      <td>3.962836</td>\n",
              "      <td>-1.179029</td>\n",
              "      <td>1.067166</td>\n",
              "      <td>0.795929</td>\n",
              "      <td>-0.189100</td>\n",
              "      <td>-0.505129</td>\n",
              "      <td>0.269542</td>\n",
              "      <td>0.004731</td>\n",
              "      <td>-0.262102</td>\n",
              "      <td>0.389593</td>\n",
              "      <td>0.491664</td>\n",
              "      <td>-0.673748</td>\n",
              "      <td>0.212830</td>\n",
              "      <td>0.325659</td>\n",
              "      <td>0.063964</td>\n",
              "      <td>-0.132983</td>\n",
              "      <td>-0.385150</td>\n",
              "      <td>-0.021781</td>\n",
              "      <td>1.040540</td>\n",
              "      <td>0.406675</td>\n",
              "      <td>0.329932</td>\n",
              "      <td>0.015532</td>\n",
              "      <td>0.023939</td>\n",
              "      <td>28.75</td>\n",
              "      <td>0</td>\n",
              "    </tr>\n",
              "    <tr>\n",
              "      <th>2</th>\n",
              "      <td>68357.0</td>\n",
              "      <td>1.232604</td>\n",
              "      <td>-0.548931</td>\n",
              "      <td>1.087873</td>\n",
              "      <td>0.894082</td>\n",
              "      <td>-1.433055</td>\n",
              "      <td>-0.356797</td>\n",
              "      <td>-0.717492</td>\n",
              "      <td>0.003167</td>\n",
              "      <td>-0.100397</td>\n",
              "      <td>0.543187</td>\n",
              "      <td>-1.039417</td>\n",
              "      <td>0.285262</td>\n",
              "      <td>-0.206007</td>\n",
              "      <td>-0.498522</td>\n",
              "      <td>-1.064108</td>\n",
              "      <td>-2.156037</td>\n",
              "      <td>0.564761</td>\n",
              "      <td>0.837857</td>\n",
              "      <td>-0.728990</td>\n",
              "      <td>-0.576274</td>\n",
              "      <td>-0.448671</td>\n",
              "      <td>-0.517568</td>\n",
              "      <td>0.012833</td>\n",
              "      <td>0.699217</td>\n",
              "      <td>0.527258</td>\n",
              "      <td>-0.322607</td>\n",
              "      <td>0.080805</td>\n",
              "      <td>0.035427</td>\n",
              "      <td>19.59</td>\n",
              "      <td>1</td>\n",
              "    </tr>\n",
              "    <tr>\n",
              "      <th>3</th>\n",
              "      <td>48884.0</td>\n",
              "      <td>-2.139051</td>\n",
              "      <td>1.394368</td>\n",
              "      <td>-0.612035</td>\n",
              "      <td>1.049327</td>\n",
              "      <td>-1.162102</td>\n",
              "      <td>-0.768219</td>\n",
              "      <td>-1.997237</td>\n",
              "      <td>0.574997</td>\n",
              "      <td>-0.980832</td>\n",
              "      <td>-2.495619</td>\n",
              "      <td>2.555589</td>\n",
              "      <td>-3.530436</td>\n",
              "      <td>-1.016234</td>\n",
              "      <td>-3.455197</td>\n",
              "      <td>-0.056363</td>\n",
              "      <td>-2.467737</td>\n",
              "      <td>-7.140326</td>\n",
              "      <td>-1.271280</td>\n",
              "      <td>-0.001722</td>\n",
              "      <td>0.025427</td>\n",
              "      <td>0.696955</td>\n",
              "      <td>0.740003</td>\n",
              "      <td>-0.155115</td>\n",
              "      <td>-0.050607</td>\n",
              "      <td>0.268368</td>\n",
              "      <td>-0.469433</td>\n",
              "      <td>-0.405814</td>\n",
              "      <td>-0.152171</td>\n",
              "      <td>19.73</td>\n",
              "      <td>1</td>\n",
              "    </tr>\n",
              "    <tr>\n",
              "      <th>4</th>\n",
              "      <td>19856.0</td>\n",
              "      <td>-0.729174</td>\n",
              "      <td>0.351618</td>\n",
              "      <td>2.792157</td>\n",
              "      <td>-1.761828</td>\n",
              "      <td>-0.464939</td>\n",
              "      <td>-0.477117</td>\n",
              "      <td>0.284978</td>\n",
              "      <td>-0.083089</td>\n",
              "      <td>2.360039</td>\n",
              "      <td>-1.857743</td>\n",
              "      <td>2.187029</td>\n",
              "      <td>-1.662961</td>\n",
              "      <td>0.884020</td>\n",
              "      <td>1.223256</td>\n",
              "      <td>-0.697180</td>\n",
              "      <td>-0.239552</td>\n",
              "      <td>0.108211</td>\n",
              "      <td>1.009632</td>\n",
              "      <td>0.055940</td>\n",
              "      <td>-0.084789</td>\n",
              "      <td>-0.096299</td>\n",
              "      <td>0.205620</td>\n",
              "      <td>-0.347428</td>\n",
              "      <td>0.475697</td>\n",
              "      <td>0.392573</td>\n",
              "      <td>-0.870859</td>\n",
              "      <td>-0.090831</td>\n",
              "      <td>-0.160763</td>\n",
              "      <td>11.85</td>\n",
              "      <td>0</td>\n",
              "    </tr>\n",
              "  </tbody>\n",
              "</table>\n",
              "</div>"
            ],
            "text/plain": [
              "      Time        V1        V2        V3  ...       V27       V28  Amount  Class\n",
              "0  57887.0  1.033666 -1.391323  0.774184  ...  0.029606  0.043997  168.00      0\n",
              "1  37092.0  1.198636 -0.489530 -0.372524  ...  0.015532  0.023939   28.75      0\n",
              "2  68357.0  1.232604 -0.548931  1.087873  ...  0.080805  0.035427   19.59      1\n",
              "3  48884.0 -2.139051  1.394368 -0.612035  ... -0.405814 -0.152171   19.73      1\n",
              "4  19856.0 -0.729174  0.351618  2.792157  ... -0.090831 -0.160763   11.85      0\n",
              "\n",
              "[5 rows x 31 columns]"
            ]
          },
          "metadata": {
            "tags": []
          },
          "execution_count": 34
        }
      ]
    },
    {
      "cell_type": "code",
      "metadata": {
        "id": "cqutyh0pQQ_9",
        "colab_type": "code",
        "colab": {}
      },
      "source": [
        "X_test_ = df_new.drop('Class', axis=1)\n",
        "y_test_ = df_new['Class'].copy()"
      ],
      "execution_count": 0,
      "outputs": []
    },
    {
      "cell_type": "code",
      "metadata": {
        "id": "LIx2jEC9PTeL",
        "colab_type": "code",
        "outputId": "e5c24eee-3b9d-4e39-e19c-93838bc558d9",
        "colab": {
          "base_uri": "https://localhost:8080/",
          "height": 68
        }
      },
      "source": [
        "y_test_.value_counts()"
      ],
      "execution_count": 36,
      "outputs": [
        {
          "output_type": "execute_result",
          "data": {
            "text/plain": [
              "0    359\n",
              "1    148\n",
              "Name: Class, dtype: int64"
            ]
          },
          "metadata": {
            "tags": []
          },
          "execution_count": 36
        }
      ]
    },
    {
      "cell_type": "code",
      "metadata": {
        "id": "C6_h4CrPQVCM",
        "colab_type": "code",
        "outputId": "e5e0c24e-23a3-42e6-c757-243578dfc954",
        "colab": {
          "base_uri": "https://localhost:8080/",
          "height": 111
        }
      },
      "source": [
        "result = {}\n",
        "for i in skenario_1:\n",
        "  \n",
        "    clf_skenario = skenario_1[i]\n",
        "    result[i] = validasi_testing(clf_skenario,X_test_,y_test_)\n",
        "    \n",
        "                \n",
        "df_result = pd.DataFrame()\n",
        "for i in skenario_1:\n",
        "    df_result = df_result.append(result[i])\n",
        "    \n",
        "df_result.insert(loc=0, column='No', value=list(range(df_result.shape[0])))\n",
        "df_result = df_result.set_index('No')\n",
        "\n",
        "del df_result.index.name\n",
        "\n",
        "nama_file = 'drive/My Drive/Deteksi fraud/hasil/SMOTE/ULB/testing_balanced/result.csv'\n",
        "\n",
        "df_result.to_csv(nama_file, sep=';',index=False)\n",
        "\n",
        "df_result"
      ],
      "execution_count": 37,
      "outputs": [
        {
          "output_type": "execute_result",
          "data": {
            "text/html": [
              "<div>\n",
              "<style scoped>\n",
              "    .dataframe tbody tr th:only-of-type {\n",
              "        vertical-align: middle;\n",
              "    }\n",
              "\n",
              "    .dataframe tbody tr th {\n",
              "        vertical-align: top;\n",
              "    }\n",
              "\n",
              "    .dataframe thead th {\n",
              "        text-align: right;\n",
              "    }\n",
              "</style>\n",
              "<table border=\"1\" class=\"dataframe\">\n",
              "  <thead>\n",
              "    <tr style=\"text-align: right;\">\n",
              "      <th></th>\n",
              "      <th>Akurasi</th>\n",
              "      <th>Sensitivity</th>\n",
              "      <th>Specifity</th>\n",
              "      <th>precision</th>\n",
              "      <th>recall</th>\n",
              "      <th>f1_score</th>\n",
              "    </tr>\n",
              "  </thead>\n",
              "  <tbody>\n",
              "    <tr>\n",
              "      <th>0</th>\n",
              "      <td>0.954635</td>\n",
              "      <td>0.844595</td>\n",
              "      <td>1.0</td>\n",
              "      <td>1.0</td>\n",
              "      <td>0.844595</td>\n",
              "      <td>0.915751</td>\n",
              "    </tr>\n",
              "    <tr>\n",
              "      <th>1</th>\n",
              "      <td>0.962525</td>\n",
              "      <td>0.871622</td>\n",
              "      <td>1.0</td>\n",
              "      <td>1.0</td>\n",
              "      <td>0.871622</td>\n",
              "      <td>0.931408</td>\n",
              "    </tr>\n",
              "  </tbody>\n",
              "</table>\n",
              "</div>"
            ],
            "text/plain": [
              "    Akurasi  Sensitivity  Specifity  precision    recall  f1_score\n",
              "0  0.954635     0.844595        1.0        1.0  0.844595  0.915751\n",
              "1  0.962525     0.871622        1.0        1.0  0.871622  0.931408"
            ]
          },
          "metadata": {
            "tags": []
          },
          "execution_count": 37
        }
      ]
    },
    {
      "cell_type": "markdown",
      "metadata": {
        "id": "f6F1eg-2TzDx",
        "colab_type": "text"
      },
      "source": [
        "---------------"
      ]
    },
    {
      "cell_type": "markdown",
      "metadata": {
        "id": "9NOH1i_pTzA-",
        "colab_type": "text"
      },
      "source": [
        "## feature importance"
      ]
    },
    {
      "cell_type": "code",
      "metadata": {
        "id": "T6aqw9APQU_S",
        "colab_type": "code",
        "outputId": "f5f18f57-af11-4aa1-c589-6be49517a1be",
        "colab": {
          "base_uri": "https://localhost:8080/",
          "height": 527
        }
      },
      "source": [
        "# RF\n",
        "importances = clf_RF.feature_importances_\n",
        "indices = np.argsort(importances)[::-1]\n",
        "fitur_importance =[]\n",
        "for f in range(X_new.shape[1]):\n",
        "    if  importances[indices[f]] > 0 :\n",
        "        fitur_importance.append([X_new.columns[indices[f]],importances[indices[f]]])\n",
        "        print(\"%2d) %-*s %f\" % (f + 1, 30,\n",
        "        X_new.columns[indices[f]],\n",
        "        importances[indices[f]]))"
      ],
      "execution_count": 38,
      "outputs": [
        {
          "output_type": "stream",
          "text": [
            " 1) V14                            0.226301\n",
            " 2) V10                            0.119594\n",
            " 3) V17                            0.110067\n",
            " 4) V4                             0.110050\n",
            " 5) V12                            0.087679\n",
            " 6) V11                            0.073913\n",
            " 7) V16                            0.053397\n",
            " 8) V3                             0.041386\n",
            " 9) V2                             0.024673\n",
            "10) V7                             0.023994\n",
            "11) V1                             0.015680\n",
            "12) V9                             0.015149\n",
            "13) V18                            0.009915\n",
            "14) V6                             0.008858\n",
            "15) V21                            0.007933\n",
            "16) Time                           0.007398\n",
            "17) V8                             0.005945\n",
            "18) V19                            0.005935\n",
            "19) Amount                         0.005644\n",
            "20) V28                            0.005403\n",
            "21) V13                            0.004996\n",
            "22) V26                            0.004822\n",
            "23) V5                             0.004444\n",
            "24) V15                            0.004388\n",
            "25) V25                            0.004088\n",
            "26) V20                            0.003987\n",
            "27) V24                            0.003883\n",
            "28) V27                            0.003859\n",
            "29) V23                            0.003591\n",
            "30) V22                            0.003025\n"
          ],
          "name": "stdout"
        }
      ]
    },
    {
      "cell_type": "code",
      "metadata": {
        "id": "xCN6_JUJSvmK",
        "colab_type": "code",
        "colab": {}
      },
      "source": [
        "# df_FI = pd.DataFrame(data=fitur_importance,columns=['fitur','value'])\n",
        "# # np.array(df_FI['fitur'])\n",
        "# df_FI"
      ],
      "execution_count": 0,
      "outputs": []
    },
    {
      "cell_type": "code",
      "metadata": {
        "id": "zsP2on5_T8bn",
        "colab_type": "code",
        "outputId": "b1cfb632-3008-4def-de9a-5021bbf68d65",
        "colab": {
          "base_uri": "https://localhost:8080/",
          "height": 527
        }
      },
      "source": [
        "# GB\n",
        "importances = clf_GB.feature_importances_\n",
        "indices = np.argsort(importances)[::-1]\n",
        "fitur_importance =[]\n",
        "for f in range(X_new.shape[1]):\n",
        "    if  importances[indices[f]] > 0 :\n",
        "        fitur_importance.append([X_new.columns[indices[f]],importances[indices[f]]])\n",
        "        print(\"%2d) %-*s %f\" % (f + 1, 30,\n",
        "        X_new.columns[indices[f]],\n",
        "        importances[indices[f]]))"
      ],
      "execution_count": 40,
      "outputs": [
        {
          "output_type": "stream",
          "text": [
            " 1) V14                            0.797282\n",
            " 2) V4                             0.043821\n",
            " 3) V17                            0.033983\n",
            " 4) V12                            0.026255\n",
            " 5) Time                           0.010544\n",
            " 6) V11                            0.009389\n",
            " 7) V3                             0.008374\n",
            " 8) Amount                         0.006678\n",
            " 9) V16                            0.006437\n",
            "10) V10                            0.006254\n",
            "11) V19                            0.004992\n",
            "12) V1                             0.004735\n",
            "13) V25                            0.004364\n",
            "14) V18                            0.004013\n",
            "15) V26                            0.003246\n",
            "16) V7                             0.003126\n",
            "17) V13                            0.003114\n",
            "18) V8                             0.003088\n",
            "19) V6                             0.002682\n",
            "20) V24                            0.002526\n",
            "21) V15                            0.002354\n",
            "22) V21                            0.002128\n",
            "23) V20                            0.001780\n",
            "24) V2                             0.001719\n",
            "25) V22                            0.001680\n",
            "26) V23                            0.001394\n",
            "27) V9                             0.001129\n",
            "28) V27                            0.001093\n",
            "29) V28                            0.000917\n",
            "30) V5                             0.000903\n"
          ],
          "name": "stdout"
        }
      ]
    },
    {
      "cell_type": "code",
      "metadata": {
        "id": "jNmG2NEW3Ocm",
        "colab_type": "code",
        "colab": {}
      },
      "source": [
        "# dot_data = StringIO()  \n",
        "# tree.export_graphviz(clf.estimators_[8], out_file=dot_data,  \n",
        "#                          feature_names=X_new.columns)  \n",
        "# graph = pydotplus.graph_from_dot_data(dot_data.getvalue())  \n",
        "# Image(graph.create_png())"
      ],
      "execution_count": 0,
      "outputs": []
    },
    {
      "cell_type": "code",
      "metadata": {
        "id": "HamwwIc_3Ocn",
        "colab_type": "code",
        "colab": {}
      },
      "source": [
        "# dot_data = StringIO()  \n",
        "# tree.export_graphviz(clf_DT,out_file=dot_data,feature_names=X_new.columns)  \n",
        "# graph = pydotplus.graph_from_dot_data(dot_data.getvalue())  \n",
        "# Image(graph.create_png())"
      ],
      "execution_count": 0,
      "outputs": []
    },
    {
      "cell_type": "markdown",
      "metadata": {
        "id": "3LIyajjMDoTz",
        "colab_type": "text"
      },
      "source": [
        "-------"
      ]
    },
    {
      "cell_type": "markdown",
      "metadata": {
        "id": "K_THZG_WDoP7",
        "colab_type": "text"
      },
      "source": [
        "## Tuning"
      ]
    },
    {
      "cell_type": "code",
      "metadata": {
        "id": "J1ijvoao3Ocp",
        "colab_type": "code",
        "outputId": "0fdc0ed6-e9d9-4e59-d5aa-3ee129729765",
        "colab": {
          "base_uri": "https://localhost:8080/",
          "height": 666
        }
      },
      "source": [
        "# print(__doc__)\n",
        "\n",
        "# import numpy as np\n",
        "\n",
        "# from time import time\n",
        "# from scipy.stats import randint as sp_randint\n",
        "\n",
        "# from sklearn.model_selection import GridSearchCV\n",
        "# from sklearn.model_selection import RandomizedSearchCV\n",
        "# from sklearn.datasets import load_digits\n",
        "# from sklearn.ensemble import RandomForestClassifier\n",
        "\n",
        "# # get some data\n",
        "# digits = load_digits()\n",
        "# X, y = digits.data, digits.target\n",
        "\n",
        "# # build a classifier\n",
        "# clf = RandomForestClassifier(random_state=1)\n",
        "\n",
        "\n",
        "# # Utility function to report best scores\n",
        "# def report(results, n_top=3):\n",
        "#     for i in range(1, n_top + 1):\n",
        "#         candidates = np.flatnonzero(results['rank_test_score'] == i)\n",
        "#         for candidate in candidates:\n",
        "#             print(\"Model with rank: {0}\".format(i))\n",
        "#             print(\"Mean validation score: {0:.3f} (std: {1:.3f})\".format(\n",
        "#                   results['mean_test_score'][candidate],\n",
        "#                   results['std_test_score'][candidate]))\n",
        "#             print(\"Parameters: {0}\".format(results['params'][candidate]))\n",
        "#             print(\"\")\n",
        "\n",
        "\n",
        "# # specify parameters and distributions to sample from\n",
        "# param_dist = {\n",
        "# #                 \"max_depth\": [5,9,11,15 ],\n",
        "#               'n_estimators' : [10,25,50,75,100],\n",
        "#                \"max_features\": ['sqrt','log2',None],\n",
        "# #               \"min_samples_split\": sp_randint(2, 11),\n",
        "# #               \"bootstrap\": [True, False],\n",
        "# #               \"criterion\": [\"gini\", \"entropy\"]\n",
        "#              }\n",
        "\n",
        "# # run randomized search\n",
        "# n_iter_search = 20\n",
        "# random_search = RandomizedSearchCV(clf, param_distributions=param_dist,\n",
        "#                                    n_iter=n_iter_search, cv=5, iid=False,random_state=1)\n",
        "\n",
        "# start = time()\n",
        "# random_search.fit(X_new, y_new)\n",
        "# print(\"RandomizedSearchCV took %.2f seconds for %d candidates\"\n",
        "#       \" parameter settings.\" % ((time() - start), n_iter_search))\n",
        "# report(random_search.cv_results_)\n",
        "\n",
        "# # use a full grid over all parameters\n",
        "# param_grid = {\n",
        "# #                 \"max_depth\": [5,9,11,15 ],\n",
        "#               'n_estimators' : [10,25,50,75,100],\n",
        "#                \"max_features\": ['sqrt','log2',None],\n",
        "# #               \"min_samples_split\": [2, 3, 10],\n",
        "# #               \"bootstrap\": [True, False],\n",
        "# #               \"criterion\": [\"gini\", \"entropy\"]\n",
        "#              }\n",
        "\n",
        "# # run grid search\n",
        "# grid_search = GridSearchCV(clf, param_grid=param_grid, cv=5, iid=False)\n",
        "# start = time()\n",
        "# grid_search.fit(X_new, y_new)\n",
        "\n",
        "# print(\"GridSearchCV took %.2f seconds for %d candidate parameter settings.\"\n",
        "#       % (time() - start, len(grid_search.cv_results_['params'])))\n",
        "# report(grid_search.cv_results_)"
      ],
      "execution_count": 0,
      "outputs": [
        {
          "output_type": "stream",
          "text": [
            "Automatically created module for IPython interactive environment\n"
          ],
          "name": "stdout"
        },
        {
          "output_type": "stream",
          "text": [
            "/usr/local/lib/python3.6/dist-packages/sklearn/model_selection/_search.py:266: UserWarning: The total space of parameters 15 is smaller than n_iter=20. Running 15 iterations. For exhaustive searches, use GridSearchCV.\n",
            "  % (grid_size, self.n_iter, grid_size), UserWarning)\n"
          ],
          "name": "stderr"
        },
        {
          "output_type": "stream",
          "text": [
            "RandomizedSearchCV took 381.70 seconds for 20 candidates parameter settings.\n",
            "Model with rank: 1\n",
            "Mean validation score: 0.991 (std: 0.013)\n",
            "Parameters: {'n_estimators': 100, 'max_features': 'sqrt'}\n",
            "\n",
            "Model with rank: 1\n",
            "Mean validation score: 0.991 (std: 0.013)\n",
            "Parameters: {'n_estimators': 100, 'max_features': 'log2'}\n",
            "\n",
            "Model with rank: 3\n",
            "Mean validation score: 0.991 (std: 0.013)\n",
            "Parameters: {'n_estimators': 75, 'max_features': 'sqrt'}\n",
            "\n",
            "Model with rank: 3\n",
            "Mean validation score: 0.991 (std: 0.013)\n",
            "Parameters: {'n_estimators': 75, 'max_features': 'log2'}\n",
            "\n",
            "GridSearchCV took 385.58 seconds for 15 candidate parameter settings.\n",
            "Model with rank: 1\n",
            "Mean validation score: 0.991 (std: 0.013)\n",
            "Parameters: {'max_features': 'sqrt', 'n_estimators': 100}\n",
            "\n",
            "Model with rank: 1\n",
            "Mean validation score: 0.991 (std: 0.013)\n",
            "Parameters: {'max_features': 'log2', 'n_estimators': 100}\n",
            "\n",
            "Model with rank: 3\n",
            "Mean validation score: 0.991 (std: 0.013)\n",
            "Parameters: {'max_features': 'sqrt', 'n_estimators': 75}\n",
            "\n",
            "Model with rank: 3\n",
            "Mean validation score: 0.991 (std: 0.013)\n",
            "Parameters: {'max_features': 'log2', 'n_estimators': 75}\n",
            "\n"
          ],
          "name": "stdout"
        }
      ]
    },
    {
      "cell_type": "code",
      "metadata": {
        "id": "s_Ugm7bP3Ocq",
        "colab_type": "code",
        "outputId": "cf787447-3750-40fd-a66d-7957601fddf6",
        "colab": {
          "base_uri": "https://localhost:8080/",
          "height": 530
        }
      },
      "source": [
        "# print(__doc__)\n",
        "\n",
        "# import numpy as np\n",
        "\n",
        "# from time import time\n",
        "# from scipy.stats import randint as sp_randint\n",
        "\n",
        "# from sklearn.model_selection import GridSearchCV\n",
        "# from sklearn.model_selection import RandomizedSearchCV\n",
        "# from sklearn.datasets import load_digits\n",
        "# from sklearn.ensemble import RandomForestClassifier\n",
        "\n",
        "# # get some data\n",
        "# digits = load_digits()\n",
        "# X, y = digits.data, digits.target\n",
        "\n",
        "# # build a classifier\n",
        "# clf = GradientBoostingClassifier(random_state=1)\n",
        "\n",
        "\n",
        "# # Utility function to report best scores\n",
        "# def report(results, n_top=3):\n",
        "#     for i in range(1, n_top + 1):\n",
        "#         candidates = np.flatnonzero(results['rank_test_score'] == i)\n",
        "#         for candidate in candidates:\n",
        "#             print(\"Model with rank: {0}\".format(i))\n",
        "#             print(\"Mean validation score: {0:.3f} (std: {1:.3f})\".format(\n",
        "#                   results['mean_test_score'][candidate],\n",
        "#                   results['std_test_score'][candidate]))\n",
        "#             print(\"Parameters: {0}\".format(results['params'][candidate]))\n",
        "#             print(\"\")\n",
        "\n",
        "\n",
        "# # specify parameters and distributions to sample from\n",
        "# param_dist = {\"max_depth\": [3,5,9],\n",
        "#               'n_estimators' : [10,25,50,75,100],\n",
        "# #               \"max_features\": sp_randint(1, 11),\n",
        "# #               \"min_samples_split\": sp_randint(2, 11),\n",
        "# #               \"bootstrap\": [True, False],\n",
        "# #               \"criterion\": [\"gini\", \"entropy\"]\n",
        "#              }\n",
        "\n",
        "# # run randomized search\n",
        "# n_iter_search = 20\n",
        "# random_search = RandomizedSearchCV(clf, param_distributions=param_dist,\n",
        "#                                    n_iter=n_iter_search, cv=5, iid=False,random_state=1)\n",
        "\n",
        "# start = time()\n",
        "# random_search.fit(X_new, y_new)\n",
        "# print(\"RandomizedSearchCV took %.2f seconds for %d candidates\"\n",
        "#       \" parameter settings.\" % ((time() - start), n_iter_search))\n",
        "# report(random_search.cv_results_)\n",
        "\n",
        "# # use a full grid over all parameters\n",
        "# param_grid = {\"max_depth\": [3,5,9],\n",
        "#               'n_estimators' : [10,25,50,75,100],\n",
        "# #               \"max_features\": [1, 3, 10],\n",
        "# #               \"min_samples_split\": [2, 3, 10],\n",
        "# #               \"bootstrap\": [True, False],\n",
        "# #               \"criterion\": [\"gini\", \"entropy\"]\n",
        "#              }\n",
        "\n",
        "# # run grid search\n",
        "# grid_search = GridSearchCV(clf, param_grid=param_grid, cv=5, iid=False)\n",
        "# start = time()\n",
        "# grid_search.fit(X_new, y_new)\n",
        "\n",
        "# print(\"GridSearchCV took %.2f seconds for %d candidate parameter settings.\"\n",
        "#       % (time() - start, len(grid_search.cv_results_['params'])))\n",
        "# report(grid_search.cv_results_)"
      ],
      "execution_count": 0,
      "outputs": [
        {
          "output_type": "stream",
          "text": [
            "Automatically created module for IPython interactive environment\n"
          ],
          "name": "stdout"
        },
        {
          "output_type": "stream",
          "text": [
            "/usr/local/lib/python3.6/dist-packages/sklearn/model_selection/_search.py:266: UserWarning: The total space of parameters 15 is smaller than n_iter=20. Running 15 iterations. For exhaustive searches, use GridSearchCV.\n",
            "  % (grid_size, self.n_iter, grid_size), UserWarning)\n"
          ],
          "name": "stderr"
        },
        {
          "output_type": "stream",
          "text": [
            "RandomizedSearchCV took 670.09 seconds for 20 candidates parameter settings.\n",
            "Model with rank: 1\n",
            "Mean validation score: 0.990 (std: 0.016)\n",
            "Parameters: {'n_estimators': 100, 'max_depth': 9}\n",
            "\n",
            "Model with rank: 2\n",
            "Mean validation score: 0.989 (std: 0.016)\n",
            "Parameters: {'n_estimators': 75, 'max_depth': 9}\n",
            "\n",
            "Model with rank: 3\n",
            "Mean validation score: 0.987 (std: 0.015)\n",
            "Parameters: {'n_estimators': 50, 'max_depth': 9}\n",
            "\n",
            "GridSearchCV took 671.97 seconds for 15 candidate parameter settings.\n",
            "Model with rank: 1\n",
            "Mean validation score: 0.990 (std: 0.016)\n",
            "Parameters: {'max_depth': 9, 'n_estimators': 100}\n",
            "\n",
            "Model with rank: 2\n",
            "Mean validation score: 0.989 (std: 0.016)\n",
            "Parameters: {'max_depth': 9, 'n_estimators': 75}\n",
            "\n",
            "Model with rank: 3\n",
            "Mean validation score: 0.987 (std: 0.015)\n",
            "Parameters: {'max_depth': 9, 'n_estimators': 50}\n",
            "\n"
          ],
          "name": "stdout"
        }
      ]
    }
  ]
}