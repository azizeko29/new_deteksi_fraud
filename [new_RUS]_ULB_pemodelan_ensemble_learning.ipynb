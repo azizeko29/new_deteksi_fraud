{
  "nbformat": 4,
  "nbformat_minor": 0,
  "metadata": {
    "colab": {
      "name": "[new_RUS] ULB_pemodelan_ensemble_learning.ipynb",
      "version": "0.3.2",
      "provenance": [],
      "collapsed_sections": [],
      "include_colab_link": true
    },
    "language_info": {
      "codemirror_mode": {
        "name": "ipython",
        "version": 3
      },
      "file_extension": ".py",
      "mimetype": "text/x-python",
      "name": "python",
      "nbconvert_exporter": "python",
      "pygments_lexer": "ipython3",
      "version": "3.7.2"
    },
    "kernelspec": {
      "display_name": "Python 3",
      "language": "python",
      "name": "python3"
    }
  },
  "cells": [
    {
      "cell_type": "markdown",
      "metadata": {
        "id": "view-in-github",
        "colab_type": "text"
      },
      "source": [
        "<a href=\"https://colab.research.google.com/github/azizeko29/new_deteksi_fraud/blob/master/%5Bnew_RUS%5D_ULB_pemodelan_ensemble_learning.ipynb\" target=\"_parent\"><img src=\"https://colab.research.google.com/assets/colab-badge.svg\" alt=\"Open In Colab\"/></a>"
      ]
    },
    {
      "cell_type": "code",
      "metadata": {
        "_cell_guid": "b1076dfc-b9ad-4769-8c92-a6c4dae69d19",
        "_uuid": "8f2839f25d086af736a60e9eeb907d3b93b6e0e5",
        "id": "qhorwCS90pU_",
        "colab_type": "code",
        "colab": {}
      },
      "source": [
        "# This Python 3 environment comes with many helpful analytics libraries installed\n",
        "# It is defined by the kaggle/python docker image: https://github.com/kaggle/docker-python\n",
        "# For example, here's several helpful packages to load in \n",
        "\n",
        "import numpy as np # linear algebra\n",
        "import pandas as pd # data processing, CSV file I/O (e.g. pd.read_csv)\n",
        "# import os\n",
        "import matplotlib.pyplot as plt\n",
        "import seaborn as sns; sns.set()\n",
        "import math\n",
        "import collections\n",
        "import time\n",
        "from scipy import stats"
      ],
      "execution_count": 0,
      "outputs": []
    },
    {
      "cell_type": "code",
      "metadata": {
        "_cell_guid": "79c7e3d0-c299-4dcb-8224-4455121ee9b0",
        "_uuid": "d629ff2d2480ee46fbb7e2d37f6b5fab8052498a",
        "id": "JVakcQRs0pVH",
        "colab_type": "code",
        "colab": {}
      },
      "source": [
        "# %matplotlib inline\n",
        "# from IPython.display import display\n",
        "# from sklearn import metrics\n",
        "# from sklearn.model_selection import train_test_split\n",
        "# from sklearn.metrics import mean_squared_error\n",
        "# from statistics import stdev\n",
        "\n",
        "from sklearn import tree\n",
        "\n",
        "from IPython.display import Image  \n",
        "from sklearn.externals.six import StringIO  \n",
        "import pydotplus"
      ],
      "execution_count": 0,
      "outputs": []
    },
    {
      "cell_type": "code",
      "metadata": {
        "id": "Q2iQeEbs0pVP",
        "colab_type": "code",
        "colab": {}
      },
      "source": [
        "# np.random.seed(1)"
      ],
      "execution_count": 0,
      "outputs": []
    },
    {
      "cell_type": "code",
      "metadata": {
        "id": "2MfeBiCN0pVS",
        "colab_type": "code",
        "colab": {}
      },
      "source": [
        "def confussion_matrik(actual,predict):\n",
        "    TP,FP,FN,TN = 0,0,0,0\n",
        "    for i,val in enumerate(actual):\n",
        "        if val == 0:\n",
        "            if val == predict[i]:\n",
        "                TN += 1\n",
        "            else:\n",
        "                FP += 1\n",
        "        if val == 1:\n",
        "            if val == predict[i]:\n",
        "                TP += 1\n",
        "            else:\n",
        "                FN += 1\n",
        "    return TP,FP,FN,TN\n",
        " \n",
        "def acc_sens_spec(actual,predict):\n",
        "    TP,FP,FN,TN = confussion_matrik(actual,predict)\n",
        "# akurasi\n",
        "    if (TP+FP+FN+TN) == 0 :\n",
        "        accuracy = 0 \n",
        "    else :\n",
        "        accuracy = (TP+TN)/(TP+FP+FN+TN)\n",
        "        \n",
        "# sensitivity\n",
        "    if (TP+FN) == 0 :\n",
        "        sensitivity = 0\n",
        "    else :\n",
        "        sensitivity = TP/(TP+FN)\n",
        "        \n",
        "# specifity    \n",
        "    if (TN +FP) == 0 :\n",
        "        specifity = 0\n",
        "    else :\n",
        "        specifity = TN/(TN +FP)\n",
        "        \n",
        "# precision\n",
        "    if (TP+FP) == 0 :\n",
        "        precision = 0\n",
        "    else :\n",
        "        precision = TP/(TP+FP)\n",
        "\n",
        "# recall\n",
        "    recall = sensitivity\n",
        "\n",
        "# f1_score\n",
        "    if (precision+recall) == 0 :\n",
        "        f1_score = 0\n",
        "    else :\n",
        "        f1_score = 2*((precision*recall)/(precision+recall))  \n",
        "    \n",
        "    return accuracy,sensitivity,specifity,precision,recall,f1_score\n",
        "\n",
        "# Calculate accuracy percentage\n",
        "def accuracy_metric(actual, predicted):\n",
        "    #how many correct predictions?\n",
        "    correct = 0\n",
        "    #for each actual label\n",
        "    for i in range(len(actual)):\n",
        "        #if actual matches predicted label\n",
        "        if actual[i] == predicted[i]:\n",
        "            #add 1 to the correct iterator\n",
        "            correct += 1\n",
        "    #return percentage of predictions that were correct\n",
        "    return correct / float(len(actual)) * 100.0"
      ],
      "execution_count": 0,
      "outputs": []
    },
    {
      "cell_type": "code",
      "metadata": {
        "id": "Zx6bm6hU0pVV",
        "colab_type": "code",
        "colab": {}
      },
      "source": [
        "# confussion_matrik(y,pred)"
      ],
      "execution_count": 0,
      "outputs": []
    },
    {
      "cell_type": "code",
      "metadata": {
        "id": "tY_TWVIp0pVY",
        "colab_type": "code",
        "colab": {}
      },
      "source": [
        "# accuracy,sensitivity,specifity = acc_sens_spec(y,pred)\n",
        "# print('acc',accuracy)\n",
        "# print('sens',sensitivity)\n",
        "# print('spec',specifity)"
      ],
      "execution_count": 0,
      "outputs": []
    },
    {
      "cell_type": "code",
      "metadata": {
        "scrolled": true,
        "id": "F0-pV4LQ0pVb",
        "colab_type": "code",
        "colab": {}
      },
      "source": [
        "# accuracy_metric(y,RF.predict(X))"
      ],
      "execution_count": 0,
      "outputs": []
    },
    {
      "cell_type": "code",
      "metadata": {
        "id": "uGWI9BJv0pVh",
        "colab_type": "code",
        "colab": {}
      },
      "source": [
        "def cross_val_split(X,fold=2,seed=0):\n",
        "    np.random.seed(seed)\n",
        "    n_folds= fold\n",
        "    size = X.shape[0]/n_folds\n",
        "    X_idx = list(range(X.shape[0]))\n",
        "    folds_data= []\n",
        "    for i in range(n_folds):\n",
        "#         print(X_idx)\n",
        "        random_idx = list(np.random.choice(X_idx,int(size),replace=False))\n",
        "#         print(random_idx)\n",
        "        X_idx = [idx for idx in X_idx if idx not in random_idx]\n",
        "#         print(X_idx)\n",
        "\n",
        "        folds_data.append(random_idx)\n",
        "#         print(\"--\")\n",
        "    return folds_data\n",
        "\n",
        "def kfold_cross_validation(model,X,y, n_fold=2, n_seed=0):\n",
        "    folds = cross_val_split(X,fold=n_fold,seed=n_seed)\n",
        "    fold_result =[]\n",
        "    for i in range(len(folds)):\n",
        "    #     print(i)\n",
        "        train = []\n",
        "        for j in range(len(folds)):\n",
        "            if j != i:\n",
        "                train = train + folds[j]\n",
        "        test = folds[i]\n",
        "\n",
        "        X_train = X.iloc[train,:].reset_index(drop=True)\n",
        "        y_train = y[train].reset_index(drop=True)\n",
        "\n",
        "        X_test = X.iloc[test,:].reset_index(drop=True)\n",
        "        y_test = y[test].reset_index(drop=True)\n",
        "\n",
        "\n",
        "        t0 = time.time()\n",
        "        model.fit(X_train, y_train)\n",
        "        t1 = time.time()\n",
        "        waktu = t1 - t0\n",
        "\n",
        "        predict = model.predict(X_test)\n",
        "        accuracy,sensitivity,specifity,precision,recall,f1_score = acc_sens_spec(y_test,predict)\n",
        "\n",
        "        result = [accuracy,sensitivity,specifity,precision,recall,f1_score,waktu]\n",
        "        fold_result.append(result)\n",
        "        \n",
        "    return fold_result"
      ],
      "execution_count": 0,
      "outputs": []
    },
    {
      "cell_type": "code",
      "metadata": {
        "id": "Is3g1hNE2Oa9",
        "colab_type": "code",
        "colab": {}
      },
      "source": [
        "def testing(model,X_test,y_test):\n",
        "    result_ = []\n",
        "\n",
        "#       t0 = time.time()\n",
        "#       model.fit(X_train, y_train)\n",
        "#       t1 = time.time()\n",
        "#       waktu = t1 - t0\n",
        "    predict = model.predict(X_test)\n",
        "    accuracy,sensitivity,specifity,precision,recall,f1_score = acc_sens_spec(y_test,predict)\n",
        "\n",
        "    result = [accuracy,sensitivity,specifity,precision,recall,f1_score]\n",
        "        \n",
        "    result_.append(result)\n",
        "        \n",
        "    return result_"
      ],
      "execution_count": 0,
      "outputs": []
    },
    {
      "cell_type": "code",
      "metadata": {
        "id": "rUxofECh0pVm",
        "colab_type": "code",
        "colab": {}
      },
      "source": [
        "# from sklearn.decomposition import PCA\n",
        "# import pylab as pl\n",
        "# def plot_this(X_rs,y_rs,method):\n",
        "#   # Use principal component to condense the 10 features to 2 features\n",
        "#   pca = PCA(n_components=2).fit(X_rs)\n",
        "#   pca_2d = pca.transform(X_rs)\n",
        "#   # Assign colors\n",
        "#   for i in range(0, pca_2d.shape[0]):\n",
        "#     if y_rs[i] == 0:\n",
        "#       c1 = pl.scatter(pca_2d[i,0],pca_2d[i,1],c='r', marker='o')\n",
        "#     elif y_rs[i] == 1:\n",
        "#       c2 = pl.scatter(pca_2d[i,0],pca_2d[i,1],c='g', marker='*')  \n",
        "#   pl.legend([c1, c2], ['Class 1', 'Class 2'])\n",
        "#   pl.title(method)\n",
        "#   pl.axis([-4, 5, -4, 4])  # x axis (-4,5), y axis (-4,4)\n",
        "#   pl.show()\n",
        "    \n"
      ],
      "execution_count": 0,
      "outputs": []
    },
    {
      "cell_type": "markdown",
      "metadata": {
        "id": "s_KBJ2Rm0pVq",
        "colab_type": "text"
      },
      "source": [
        "## ---------"
      ]
    },
    {
      "cell_type": "code",
      "metadata": {
        "id": "iNk8CXpR0pVr",
        "colab_type": "code",
        "colab": {}
      },
      "source": [
        "# ##read data\n",
        "\n",
        "# df = pd.read_csv('data/creditcard_ulb.csv',sep=\",\")\n",
        "# # df = pd.read_csv('data/sample_data.csv',sep=\",\")\n",
        "\n",
        "# df0 = df.copy()\n",
        "# df.info()"
      ],
      "execution_count": 0,
      "outputs": []
    },
    {
      "cell_type": "code",
      "metadata": {
        "id": "2LwxuDeaAqRF",
        "colab_type": "code",
        "colab": {
          "base_uri": "https://localhost:8080/",
          "height": 118
        },
        "outputId": "19d3b836-1956-4fa2-b931-f73d080edf45"
      },
      "source": [
        "from google.colab import drive\n",
        "drive.mount('/content/drive')"
      ],
      "execution_count": 22,
      "outputs": [
        {
          "output_type": "stream",
          "text": [
            "Go to this URL in a browser: https://accounts.google.com/o/oauth2/auth?client_id=947318989803-6bn6qk8qdgf4n4g3pfee6491hc0brc4i.apps.googleusercontent.com&redirect_uri=urn%3Aietf%3Awg%3Aoauth%3A2.0%3Aoob&scope=email%20https%3A%2F%2Fwww.googleapis.com%2Fauth%2Fdocs.test%20https%3A%2F%2Fwww.googleapis.com%2Fauth%2Fdrive%20https%3A%2F%2Fwww.googleapis.com%2Fauth%2Fdrive.photos.readonly%20https%3A%2F%2Fwww.googleapis.com%2Fauth%2Fpeopleapi.readonly&response_type=code\n",
            "\n",
            "Enter your authorization code:\n",
            "··········\n",
            "Mounted at /content/drive\n"
          ],
          "name": "stdout"
        }
      ]
    },
    {
      "cell_type": "code",
      "metadata": {
        "id": "jQRHF-uwA7s3",
        "colab_type": "code",
        "colab": {}
      },
      "source": [
        "# ##read data\n",
        "\n",
        "read_df = pd.read_csv('drive/My Drive/Deteksi fraud/data/creditcard_ulb.csv',sep=\",\")\n",
        "# # df = pd.read_csv('data/sample_data.csv',sep=\",\")\n",
        "\n",
        "# df0 = df.copy()\n",
        "# df.info()"
      ],
      "execution_count": 0,
      "outputs": []
    },
    {
      "cell_type": "code",
      "metadata": {
        "id": "j2n8i4xh1jqQ",
        "colab_type": "code",
        "colab": {}
      },
      "source": [
        "# # Code to read csv file into Colaboratory:\n",
        "# !pip install -U -q PyDrive\n",
        "# from pydrive.auth import GoogleAuth\n",
        "# from pydrive.drive import GoogleDrive\n",
        "# from google.colab import auth\n",
        "# from oauth2client.client import GoogleCredentials\n",
        "# # Authenticate and create the PyDrive client.\n",
        "# auth.authenticate_user()\n",
        "# gauth = GoogleAuth()\n",
        "# gauth.credentials = GoogleCredentials.get_application_default()\n",
        "# drive = GoogleDrive(gauth)\n",
        "\n",
        "# link = 'https://drive.google.com/open?id=1PqCaaZwbyxrFdhLLPFB0TM9Z4jcP7LPo' # The shareable link\n",
        "\n",
        "# fluff, id = link.split('=')\n",
        "# print (id) # Verify that you have everything after '='\n",
        "\n",
        "# downloaded = drive.CreateFile({'id':id}) \n",
        "# downloaded.GetContentFile('creditcard_ulb.csv')  \n",
        "# read_df = pd.read_csv('creditcard_ulb.csv')\n",
        "# # Dataset is now stored in a Pandas Dataframe\n",
        "# # df.info()"
      ],
      "execution_count": 0,
      "outputs": []
    },
    {
      "cell_type": "code",
      "metadata": {
        "id": "asAMzLKA1wby",
        "colab_type": "code",
        "colab": {}
      },
      "source": [
        "df = read_df.copy()"
      ],
      "execution_count": 0,
      "outputs": []
    },
    {
      "cell_type": "code",
      "metadata": {
        "id": "b3M3tn8i0pVy",
        "colab_type": "code",
        "outputId": "3b1797c1-2d70-40f7-c73e-117ffcc29c69",
        "colab": {
          "base_uri": "https://localhost:8080/",
          "height": 211
        }
      },
      "source": [
        "df.head()"
      ],
      "execution_count": 26,
      "outputs": [
        {
          "output_type": "execute_result",
          "data": {
            "text/html": [
              "<div>\n",
              "<style scoped>\n",
              "    .dataframe tbody tr th:only-of-type {\n",
              "        vertical-align: middle;\n",
              "    }\n",
              "\n",
              "    .dataframe tbody tr th {\n",
              "        vertical-align: top;\n",
              "    }\n",
              "\n",
              "    .dataframe thead th {\n",
              "        text-align: right;\n",
              "    }\n",
              "</style>\n",
              "<table border=\"1\" class=\"dataframe\">\n",
              "  <thead>\n",
              "    <tr style=\"text-align: right;\">\n",
              "      <th></th>\n",
              "      <th>Time</th>\n",
              "      <th>V1</th>\n",
              "      <th>V2</th>\n",
              "      <th>V3</th>\n",
              "      <th>V4</th>\n",
              "      <th>V5</th>\n",
              "      <th>V6</th>\n",
              "      <th>V7</th>\n",
              "      <th>V8</th>\n",
              "      <th>V9</th>\n",
              "      <th>V10</th>\n",
              "      <th>V11</th>\n",
              "      <th>V12</th>\n",
              "      <th>V13</th>\n",
              "      <th>V14</th>\n",
              "      <th>V15</th>\n",
              "      <th>V16</th>\n",
              "      <th>V17</th>\n",
              "      <th>V18</th>\n",
              "      <th>V19</th>\n",
              "      <th>V20</th>\n",
              "      <th>V21</th>\n",
              "      <th>V22</th>\n",
              "      <th>V23</th>\n",
              "      <th>V24</th>\n",
              "      <th>V25</th>\n",
              "      <th>V26</th>\n",
              "      <th>V27</th>\n",
              "      <th>V28</th>\n",
              "      <th>Amount</th>\n",
              "      <th>Class</th>\n",
              "    </tr>\n",
              "  </thead>\n",
              "  <tbody>\n",
              "    <tr>\n",
              "      <th>0</th>\n",
              "      <td>0.0</td>\n",
              "      <td>-1.359807</td>\n",
              "      <td>-0.072781</td>\n",
              "      <td>2.536347</td>\n",
              "      <td>1.378155</td>\n",
              "      <td>-0.338321</td>\n",
              "      <td>0.462388</td>\n",
              "      <td>0.239599</td>\n",
              "      <td>0.098698</td>\n",
              "      <td>0.363787</td>\n",
              "      <td>0.090794</td>\n",
              "      <td>-0.551600</td>\n",
              "      <td>-0.617801</td>\n",
              "      <td>-0.991390</td>\n",
              "      <td>-0.311169</td>\n",
              "      <td>1.468177</td>\n",
              "      <td>-0.470401</td>\n",
              "      <td>0.207971</td>\n",
              "      <td>0.025791</td>\n",
              "      <td>0.403993</td>\n",
              "      <td>0.251412</td>\n",
              "      <td>-0.018307</td>\n",
              "      <td>0.277838</td>\n",
              "      <td>-0.110474</td>\n",
              "      <td>0.066928</td>\n",
              "      <td>0.128539</td>\n",
              "      <td>-0.189115</td>\n",
              "      <td>0.133558</td>\n",
              "      <td>-0.021053</td>\n",
              "      <td>149.62</td>\n",
              "      <td>0</td>\n",
              "    </tr>\n",
              "    <tr>\n",
              "      <th>1</th>\n",
              "      <td>0.0</td>\n",
              "      <td>1.191857</td>\n",
              "      <td>0.266151</td>\n",
              "      <td>0.166480</td>\n",
              "      <td>0.448154</td>\n",
              "      <td>0.060018</td>\n",
              "      <td>-0.082361</td>\n",
              "      <td>-0.078803</td>\n",
              "      <td>0.085102</td>\n",
              "      <td>-0.255425</td>\n",
              "      <td>-0.166974</td>\n",
              "      <td>1.612727</td>\n",
              "      <td>1.065235</td>\n",
              "      <td>0.489095</td>\n",
              "      <td>-0.143772</td>\n",
              "      <td>0.635558</td>\n",
              "      <td>0.463917</td>\n",
              "      <td>-0.114805</td>\n",
              "      <td>-0.183361</td>\n",
              "      <td>-0.145783</td>\n",
              "      <td>-0.069083</td>\n",
              "      <td>-0.225775</td>\n",
              "      <td>-0.638672</td>\n",
              "      <td>0.101288</td>\n",
              "      <td>-0.339846</td>\n",
              "      <td>0.167170</td>\n",
              "      <td>0.125895</td>\n",
              "      <td>-0.008983</td>\n",
              "      <td>0.014724</td>\n",
              "      <td>2.69</td>\n",
              "      <td>0</td>\n",
              "    </tr>\n",
              "    <tr>\n",
              "      <th>2</th>\n",
              "      <td>1.0</td>\n",
              "      <td>-1.358354</td>\n",
              "      <td>-1.340163</td>\n",
              "      <td>1.773209</td>\n",
              "      <td>0.379780</td>\n",
              "      <td>-0.503198</td>\n",
              "      <td>1.800499</td>\n",
              "      <td>0.791461</td>\n",
              "      <td>0.247676</td>\n",
              "      <td>-1.514654</td>\n",
              "      <td>0.207643</td>\n",
              "      <td>0.624501</td>\n",
              "      <td>0.066084</td>\n",
              "      <td>0.717293</td>\n",
              "      <td>-0.165946</td>\n",
              "      <td>2.345865</td>\n",
              "      <td>-2.890083</td>\n",
              "      <td>1.109969</td>\n",
              "      <td>-0.121359</td>\n",
              "      <td>-2.261857</td>\n",
              "      <td>0.524980</td>\n",
              "      <td>0.247998</td>\n",
              "      <td>0.771679</td>\n",
              "      <td>0.909412</td>\n",
              "      <td>-0.689281</td>\n",
              "      <td>-0.327642</td>\n",
              "      <td>-0.139097</td>\n",
              "      <td>-0.055353</td>\n",
              "      <td>-0.059752</td>\n",
              "      <td>378.66</td>\n",
              "      <td>0</td>\n",
              "    </tr>\n",
              "    <tr>\n",
              "      <th>3</th>\n",
              "      <td>1.0</td>\n",
              "      <td>-0.966272</td>\n",
              "      <td>-0.185226</td>\n",
              "      <td>1.792993</td>\n",
              "      <td>-0.863291</td>\n",
              "      <td>-0.010309</td>\n",
              "      <td>1.247203</td>\n",
              "      <td>0.237609</td>\n",
              "      <td>0.377436</td>\n",
              "      <td>-1.387024</td>\n",
              "      <td>-0.054952</td>\n",
              "      <td>-0.226487</td>\n",
              "      <td>0.178228</td>\n",
              "      <td>0.507757</td>\n",
              "      <td>-0.287924</td>\n",
              "      <td>-0.631418</td>\n",
              "      <td>-1.059647</td>\n",
              "      <td>-0.684093</td>\n",
              "      <td>1.965775</td>\n",
              "      <td>-1.232622</td>\n",
              "      <td>-0.208038</td>\n",
              "      <td>-0.108300</td>\n",
              "      <td>0.005274</td>\n",
              "      <td>-0.190321</td>\n",
              "      <td>-1.175575</td>\n",
              "      <td>0.647376</td>\n",
              "      <td>-0.221929</td>\n",
              "      <td>0.062723</td>\n",
              "      <td>0.061458</td>\n",
              "      <td>123.50</td>\n",
              "      <td>0</td>\n",
              "    </tr>\n",
              "    <tr>\n",
              "      <th>4</th>\n",
              "      <td>2.0</td>\n",
              "      <td>-1.158233</td>\n",
              "      <td>0.877737</td>\n",
              "      <td>1.548718</td>\n",
              "      <td>0.403034</td>\n",
              "      <td>-0.407193</td>\n",
              "      <td>0.095921</td>\n",
              "      <td>0.592941</td>\n",
              "      <td>-0.270533</td>\n",
              "      <td>0.817739</td>\n",
              "      <td>0.753074</td>\n",
              "      <td>-0.822843</td>\n",
              "      <td>0.538196</td>\n",
              "      <td>1.345852</td>\n",
              "      <td>-1.119670</td>\n",
              "      <td>0.175121</td>\n",
              "      <td>-0.451449</td>\n",
              "      <td>-0.237033</td>\n",
              "      <td>-0.038195</td>\n",
              "      <td>0.803487</td>\n",
              "      <td>0.408542</td>\n",
              "      <td>-0.009431</td>\n",
              "      <td>0.798278</td>\n",
              "      <td>-0.137458</td>\n",
              "      <td>0.141267</td>\n",
              "      <td>-0.206010</td>\n",
              "      <td>0.502292</td>\n",
              "      <td>0.219422</td>\n",
              "      <td>0.215153</td>\n",
              "      <td>69.99</td>\n",
              "      <td>0</td>\n",
              "    </tr>\n",
              "  </tbody>\n",
              "</table>\n",
              "</div>"
            ],
            "text/plain": [
              "   Time        V1        V2        V3  ...       V27       V28  Amount  Class\n",
              "0   0.0 -1.359807 -0.072781  2.536347  ...  0.133558 -0.021053  149.62      0\n",
              "1   0.0  1.191857  0.266151  0.166480  ... -0.008983  0.014724    2.69      0\n",
              "2   1.0 -1.358354 -1.340163  1.773209  ... -0.055353 -0.059752  378.66      0\n",
              "3   1.0 -0.966272 -0.185226  1.792993  ...  0.062723  0.061458  123.50      0\n",
              "4   2.0 -1.158233  0.877737  1.548718  ...  0.219422  0.215153   69.99      0\n",
              "\n",
              "[5 rows x 31 columns]"
            ]
          },
          "metadata": {
            "tags": []
          },
          "execution_count": 26
        }
      ]
    },
    {
      "cell_type": "code",
      "metadata": {
        "id": "DWjnAx8s0pV4",
        "colab_type": "code",
        "outputId": "4a2036b7-3d11-43c9-c162-9bbe16a58ddc",
        "colab": {
          "base_uri": "https://localhost:8080/",
          "height": 211
        }
      },
      "source": [
        "df.tail()"
      ],
      "execution_count": 27,
      "outputs": [
        {
          "output_type": "execute_result",
          "data": {
            "text/html": [
              "<div>\n",
              "<style scoped>\n",
              "    .dataframe tbody tr th:only-of-type {\n",
              "        vertical-align: middle;\n",
              "    }\n",
              "\n",
              "    .dataframe tbody tr th {\n",
              "        vertical-align: top;\n",
              "    }\n",
              "\n",
              "    .dataframe thead th {\n",
              "        text-align: right;\n",
              "    }\n",
              "</style>\n",
              "<table border=\"1\" class=\"dataframe\">\n",
              "  <thead>\n",
              "    <tr style=\"text-align: right;\">\n",
              "      <th></th>\n",
              "      <th>Time</th>\n",
              "      <th>V1</th>\n",
              "      <th>V2</th>\n",
              "      <th>V3</th>\n",
              "      <th>V4</th>\n",
              "      <th>V5</th>\n",
              "      <th>V6</th>\n",
              "      <th>V7</th>\n",
              "      <th>V8</th>\n",
              "      <th>V9</th>\n",
              "      <th>V10</th>\n",
              "      <th>V11</th>\n",
              "      <th>V12</th>\n",
              "      <th>V13</th>\n",
              "      <th>V14</th>\n",
              "      <th>V15</th>\n",
              "      <th>V16</th>\n",
              "      <th>V17</th>\n",
              "      <th>V18</th>\n",
              "      <th>V19</th>\n",
              "      <th>V20</th>\n",
              "      <th>V21</th>\n",
              "      <th>V22</th>\n",
              "      <th>V23</th>\n",
              "      <th>V24</th>\n",
              "      <th>V25</th>\n",
              "      <th>V26</th>\n",
              "      <th>V27</th>\n",
              "      <th>V28</th>\n",
              "      <th>Amount</th>\n",
              "      <th>Class</th>\n",
              "    </tr>\n",
              "  </thead>\n",
              "  <tbody>\n",
              "    <tr>\n",
              "      <th>284802</th>\n",
              "      <td>172786.0</td>\n",
              "      <td>-11.881118</td>\n",
              "      <td>10.071785</td>\n",
              "      <td>-9.834783</td>\n",
              "      <td>-2.066656</td>\n",
              "      <td>-5.364473</td>\n",
              "      <td>-2.606837</td>\n",
              "      <td>-4.918215</td>\n",
              "      <td>7.305334</td>\n",
              "      <td>1.914428</td>\n",
              "      <td>4.356170</td>\n",
              "      <td>-1.593105</td>\n",
              "      <td>2.711941</td>\n",
              "      <td>-0.689256</td>\n",
              "      <td>4.626942</td>\n",
              "      <td>-0.924459</td>\n",
              "      <td>1.107641</td>\n",
              "      <td>1.991691</td>\n",
              "      <td>0.510632</td>\n",
              "      <td>-0.682920</td>\n",
              "      <td>1.475829</td>\n",
              "      <td>0.213454</td>\n",
              "      <td>0.111864</td>\n",
              "      <td>1.014480</td>\n",
              "      <td>-0.509348</td>\n",
              "      <td>1.436807</td>\n",
              "      <td>0.250034</td>\n",
              "      <td>0.943651</td>\n",
              "      <td>0.823731</td>\n",
              "      <td>0.77</td>\n",
              "      <td>0</td>\n",
              "    </tr>\n",
              "    <tr>\n",
              "      <th>284803</th>\n",
              "      <td>172787.0</td>\n",
              "      <td>-0.732789</td>\n",
              "      <td>-0.055080</td>\n",
              "      <td>2.035030</td>\n",
              "      <td>-0.738589</td>\n",
              "      <td>0.868229</td>\n",
              "      <td>1.058415</td>\n",
              "      <td>0.024330</td>\n",
              "      <td>0.294869</td>\n",
              "      <td>0.584800</td>\n",
              "      <td>-0.975926</td>\n",
              "      <td>-0.150189</td>\n",
              "      <td>0.915802</td>\n",
              "      <td>1.214756</td>\n",
              "      <td>-0.675143</td>\n",
              "      <td>1.164931</td>\n",
              "      <td>-0.711757</td>\n",
              "      <td>-0.025693</td>\n",
              "      <td>-1.221179</td>\n",
              "      <td>-1.545556</td>\n",
              "      <td>0.059616</td>\n",
              "      <td>0.214205</td>\n",
              "      <td>0.924384</td>\n",
              "      <td>0.012463</td>\n",
              "      <td>-1.016226</td>\n",
              "      <td>-0.606624</td>\n",
              "      <td>-0.395255</td>\n",
              "      <td>0.068472</td>\n",
              "      <td>-0.053527</td>\n",
              "      <td>24.79</td>\n",
              "      <td>0</td>\n",
              "    </tr>\n",
              "    <tr>\n",
              "      <th>284804</th>\n",
              "      <td>172788.0</td>\n",
              "      <td>1.919565</td>\n",
              "      <td>-0.301254</td>\n",
              "      <td>-3.249640</td>\n",
              "      <td>-0.557828</td>\n",
              "      <td>2.630515</td>\n",
              "      <td>3.031260</td>\n",
              "      <td>-0.296827</td>\n",
              "      <td>0.708417</td>\n",
              "      <td>0.432454</td>\n",
              "      <td>-0.484782</td>\n",
              "      <td>0.411614</td>\n",
              "      <td>0.063119</td>\n",
              "      <td>-0.183699</td>\n",
              "      <td>-0.510602</td>\n",
              "      <td>1.329284</td>\n",
              "      <td>0.140716</td>\n",
              "      <td>0.313502</td>\n",
              "      <td>0.395652</td>\n",
              "      <td>-0.577252</td>\n",
              "      <td>0.001396</td>\n",
              "      <td>0.232045</td>\n",
              "      <td>0.578229</td>\n",
              "      <td>-0.037501</td>\n",
              "      <td>0.640134</td>\n",
              "      <td>0.265745</td>\n",
              "      <td>-0.087371</td>\n",
              "      <td>0.004455</td>\n",
              "      <td>-0.026561</td>\n",
              "      <td>67.88</td>\n",
              "      <td>0</td>\n",
              "    </tr>\n",
              "    <tr>\n",
              "      <th>284805</th>\n",
              "      <td>172788.0</td>\n",
              "      <td>-0.240440</td>\n",
              "      <td>0.530483</td>\n",
              "      <td>0.702510</td>\n",
              "      <td>0.689799</td>\n",
              "      <td>-0.377961</td>\n",
              "      <td>0.623708</td>\n",
              "      <td>-0.686180</td>\n",
              "      <td>0.679145</td>\n",
              "      <td>0.392087</td>\n",
              "      <td>-0.399126</td>\n",
              "      <td>-1.933849</td>\n",
              "      <td>-0.962886</td>\n",
              "      <td>-1.042082</td>\n",
              "      <td>0.449624</td>\n",
              "      <td>1.962563</td>\n",
              "      <td>-0.608577</td>\n",
              "      <td>0.509928</td>\n",
              "      <td>1.113981</td>\n",
              "      <td>2.897849</td>\n",
              "      <td>0.127434</td>\n",
              "      <td>0.265245</td>\n",
              "      <td>0.800049</td>\n",
              "      <td>-0.163298</td>\n",
              "      <td>0.123205</td>\n",
              "      <td>-0.569159</td>\n",
              "      <td>0.546668</td>\n",
              "      <td>0.108821</td>\n",
              "      <td>0.104533</td>\n",
              "      <td>10.00</td>\n",
              "      <td>0</td>\n",
              "    </tr>\n",
              "    <tr>\n",
              "      <th>284806</th>\n",
              "      <td>172792.0</td>\n",
              "      <td>-0.533413</td>\n",
              "      <td>-0.189733</td>\n",
              "      <td>0.703337</td>\n",
              "      <td>-0.506271</td>\n",
              "      <td>-0.012546</td>\n",
              "      <td>-0.649617</td>\n",
              "      <td>1.577006</td>\n",
              "      <td>-0.414650</td>\n",
              "      <td>0.486180</td>\n",
              "      <td>-0.915427</td>\n",
              "      <td>-1.040458</td>\n",
              "      <td>-0.031513</td>\n",
              "      <td>-0.188093</td>\n",
              "      <td>-0.084316</td>\n",
              "      <td>0.041333</td>\n",
              "      <td>-0.302620</td>\n",
              "      <td>-0.660377</td>\n",
              "      <td>0.167430</td>\n",
              "      <td>-0.256117</td>\n",
              "      <td>0.382948</td>\n",
              "      <td>0.261057</td>\n",
              "      <td>0.643078</td>\n",
              "      <td>0.376777</td>\n",
              "      <td>0.008797</td>\n",
              "      <td>-0.473649</td>\n",
              "      <td>-0.818267</td>\n",
              "      <td>-0.002415</td>\n",
              "      <td>0.013649</td>\n",
              "      <td>217.00</td>\n",
              "      <td>0</td>\n",
              "    </tr>\n",
              "  </tbody>\n",
              "</table>\n",
              "</div>"
            ],
            "text/plain": [
              "            Time         V1         V2  ...       V28  Amount  Class\n",
              "284802  172786.0 -11.881118  10.071785  ...  0.823731    0.77      0\n",
              "284803  172787.0  -0.732789  -0.055080  ... -0.053527   24.79      0\n",
              "284804  172788.0   1.919565  -0.301254  ... -0.026561   67.88      0\n",
              "284805  172788.0  -0.240440   0.530483  ...  0.104533   10.00      0\n",
              "284806  172792.0  -0.533413  -0.189733  ...  0.013649  217.00      0\n",
              "\n",
              "[5 rows x 31 columns]"
            ]
          },
          "metadata": {
            "tags": []
          },
          "execution_count": 27
        }
      ]
    },
    {
      "cell_type": "code",
      "metadata": {
        "id": "6jN6s3PK0pV-",
        "colab_type": "code",
        "outputId": "106b6d3b-7ba4-4efe-f120-c5c47659d26d",
        "colab": {
          "base_uri": "https://localhost:8080/",
          "height": 66
        }
      },
      "source": [
        "df['Class'].value_counts()"
      ],
      "execution_count": 28,
      "outputs": [
        {
          "output_type": "execute_result",
          "data": {
            "text/plain": [
              "0    284315\n",
              "1       492\n",
              "Name: Class, dtype: int64"
            ]
          },
          "metadata": {
            "tags": []
          },
          "execution_count": 28
        }
      ]
    },
    {
      "cell_type": "code",
      "metadata": {
        "id": "O1KQqHE40pWD",
        "colab_type": "code",
        "outputId": "8f0737b4-ee90-4794-e738-e45f7ec198aa",
        "colab": {
          "base_uri": "https://localhost:8080/",
          "height": 428
        }
      },
      "source": [
        "plt.figure(1,figsize=(5, 5), dpi=80)\n",
        "plt.grid(color='b', linestyle='-', linewidth=0.2)\n",
        "plt.title('Class Distributions \\n (0: No Fraud || 1: Fraud)', fontsize=14)\n",
        "sns.countplot('Class', data=df,palette='Set2')\n"
      ],
      "execution_count": 29,
      "outputs": [
        {
          "output_type": "execute_result",
          "data": {
            "text/plain": [
              "<matplotlib.axes._subplots.AxesSubplot at 0x7f14cfa42f28>"
            ]
          },
          "metadata": {
            "tags": []
          },
          "execution_count": 29
        },
        {
          "output_type": "display_data",
          "data": {
            "image/png": "[encoded data removed]",
            "text/plain": [
              "<Figure size 400x400 with 1 Axes>"
            ]
          },
          "metadata": {
            "tags": []
          }
        }
      ]
    },
    {
      "cell_type": "code",
      "metadata": {
        "id": "OqZR2kcj0pWH",
        "colab_type": "code",
        "outputId": "d1431b7d-b773-4314-f9cb-dcfc3da12d19",
        "colab": {
          "base_uri": "https://localhost:8080/",
          "height": 33
        }
      },
      "source": [
        "count = 0\n",
        "for a in df.columns[1:]:\n",
        "    if df[a].isnull().sum() > 0 :\n",
        "#         print(a)\n",
        "        count+=1\n",
        "count"
      ],
      "execution_count": 30,
      "outputs": [
        {
          "output_type": "execute_result",
          "data": {
            "text/plain": [
              "0"
            ]
          },
          "metadata": {
            "tags": []
          },
          "execution_count": 30
        }
      ]
    },
    {
      "cell_type": "code",
      "metadata": {
        "id": "ipCzb3z1SdQT",
        "colab_type": "code",
        "outputId": "5f86b874-4cbc-446e-c725-e2ee7873cf9a",
        "colab": {
          "base_uri": "https://localhost:8080/",
          "height": 66
        }
      },
      "source": [
        "df['Class'].value_counts()"
      ],
      "execution_count": 31,
      "outputs": [
        {
          "output_type": "execute_result",
          "data": {
            "text/plain": [
              "0    284315\n",
              "1       492\n",
              "Name: Class, dtype: int64"
            ]
          },
          "metadata": {
            "tags": []
          },
          "execution_count": 31
        }
      ]
    },
    {
      "cell_type": "code",
      "metadata": {
        "id": "JDtpAjOgTGCX",
        "colab_type": "code",
        "colab": {}
      },
      "source": [
        "X = df.drop('Class', axis=1)\n",
        "y = df['Class'].copy()"
      ],
      "execution_count": 0,
      "outputs": []
    },
    {
      "cell_type": "code",
      "metadata": {
        "id": "uZ0RAj-h0pWK",
        "colab_type": "code",
        "colab": {}
      },
      "source": [
        "from sklearn.model_selection import train_test_split\n",
        "X_train, X_test, y_train, y_test = train_test_split(X, y, test_size=0.3, random_state=2, stratify=y)"
      ],
      "execution_count": 0,
      "outputs": []
    },
    {
      "cell_type": "code",
      "metadata": {
        "id": "h_ShPAU4EGLv",
        "colab_type": "code",
        "outputId": "25bbb5e1-5001-4d42-be33-1d35cdbcef43",
        "colab": {
          "base_uri": "https://localhost:8080/",
          "height": 211
        }
      },
      "source": [
        "X_train.head()"
      ],
      "execution_count": 34,
      "outputs": [
        {
          "output_type": "execute_result",
          "data": {
            "text/html": [
              "<div>\n",
              "<style scoped>\n",
              "    .dataframe tbody tr th:only-of-type {\n",
              "        vertical-align: middle;\n",
              "    }\n",
              "\n",
              "    .dataframe tbody tr th {\n",
              "        vertical-align: top;\n",
              "    }\n",
              "\n",
              "    .dataframe thead th {\n",
              "        text-align: right;\n",
              "    }\n",
              "</style>\n",
              "<table border=\"1\" class=\"dataframe\">\n",
              "  <thead>\n",
              "    <tr style=\"text-align: right;\">\n",
              "      <th></th>\n",
              "      <th>Time</th>\n",
              "      <th>V1</th>\n",
              "      <th>V2</th>\n",
              "      <th>V3</th>\n",
              "      <th>V4</th>\n",
              "      <th>V5</th>\n",
              "      <th>V6</th>\n",
              "      <th>V7</th>\n",
              "      <th>V8</th>\n",
              "      <th>V9</th>\n",
              "      <th>V10</th>\n",
              "      <th>V11</th>\n",
              "      <th>V12</th>\n",
              "      <th>V13</th>\n",
              "      <th>V14</th>\n",
              "      <th>V15</th>\n",
              "      <th>V16</th>\n",
              "      <th>V17</th>\n",
              "      <th>V18</th>\n",
              "      <th>V19</th>\n",
              "      <th>V20</th>\n",
              "      <th>V21</th>\n",
              "      <th>V22</th>\n",
              "      <th>V23</th>\n",
              "      <th>V24</th>\n",
              "      <th>V25</th>\n",
              "      <th>V26</th>\n",
              "      <th>V27</th>\n",
              "      <th>V28</th>\n",
              "      <th>Amount</th>\n",
              "    </tr>\n",
              "  </thead>\n",
              "  <tbody>\n",
              "    <tr>\n",
              "      <th>67718</th>\n",
              "      <td>52669.0</td>\n",
              "      <td>-1.044875</td>\n",
              "      <td>-0.699877</td>\n",
              "      <td>2.383771</td>\n",
              "      <td>0.462870</td>\n",
              "      <td>-0.523350</td>\n",
              "      <td>-0.484606</td>\n",
              "      <td>-0.782931</td>\n",
              "      <td>0.160622</td>\n",
              "      <td>-1.059381</td>\n",
              "      <td>0.666156</td>\n",
              "      <td>-0.591895</td>\n",
              "      <td>0.378854</td>\n",
              "      <td>2.008465</td>\n",
              "      <td>-0.634986</td>\n",
              "      <td>1.418612</td>\n",
              "      <td>-1.196899</td>\n",
              "      <td>-0.341566</td>\n",
              "      <td>2.081873</td>\n",
              "      <td>-0.795839</td>\n",
              "      <td>0.267347</td>\n",
              "      <td>0.102301</td>\n",
              "      <td>0.625710</td>\n",
              "      <td>0.285710</td>\n",
              "      <td>0.390592</td>\n",
              "      <td>-0.443462</td>\n",
              "      <td>-0.238541</td>\n",
              "      <td>0.448415</td>\n",
              "      <td>0.273184</td>\n",
              "      <td>90.00</td>\n",
              "    </tr>\n",
              "    <tr>\n",
              "      <th>99134</th>\n",
              "      <td>66981.0</td>\n",
              "      <td>-0.105756</td>\n",
              "      <td>1.055263</td>\n",
              "      <td>0.219036</td>\n",
              "      <td>0.972113</td>\n",
              "      <td>0.544316</td>\n",
              "      <td>-1.205159</td>\n",
              "      <td>0.996226</td>\n",
              "      <td>-0.342528</td>\n",
              "      <td>-0.555430</td>\n",
              "      <td>0.305929</td>\n",
              "      <td>-0.402451</td>\n",
              "      <td>0.358783</td>\n",
              "      <td>0.727030</td>\n",
              "      <td>0.308077</td>\n",
              "      <td>0.605273</td>\n",
              "      <td>-0.596082</td>\n",
              "      <td>-0.201596</td>\n",
              "      <td>-0.212436</td>\n",
              "      <td>0.397815</td>\n",
              "      <td>0.061089</td>\n",
              "      <td>0.149714</td>\n",
              "      <td>0.680987</td>\n",
              "      <td>0.163366</td>\n",
              "      <td>0.412736</td>\n",
              "      <td>-0.658454</td>\n",
              "      <td>-0.424248</td>\n",
              "      <td>0.326754</td>\n",
              "      <td>0.220772</td>\n",
              "      <td>2.69</td>\n",
              "    </tr>\n",
              "    <tr>\n",
              "      <th>255988</th>\n",
              "      <td>157487.0</td>\n",
              "      <td>2.273034</td>\n",
              "      <td>-0.620167</td>\n",
              "      <td>-1.579732</td>\n",
              "      <td>-1.038778</td>\n",
              "      <td>-0.195400</td>\n",
              "      <td>-1.021584</td>\n",
              "      <td>-0.241990</td>\n",
              "      <td>-0.453477</td>\n",
              "      <td>-0.649705</td>\n",
              "      <td>0.849121</td>\n",
              "      <td>-1.056267</td>\n",
              "      <td>-0.269228</td>\n",
              "      <td>1.409078</td>\n",
              "      <td>-0.228375</td>\n",
              "      <td>0.256648</td>\n",
              "      <td>1.030782</td>\n",
              "      <td>-0.164283</td>\n",
              "      <td>-1.212026</td>\n",
              "      <td>0.675735</td>\n",
              "      <td>0.059748</td>\n",
              "      <td>0.400569</td>\n",
              "      <td>1.235467</td>\n",
              "      <td>-0.112693</td>\n",
              "      <td>-0.563243</td>\n",
              "      <td>0.332715</td>\n",
              "      <td>0.105684</td>\n",
              "      <td>-0.032988</td>\n",
              "      <td>-0.070058</td>\n",
              "      <td>15.00</td>\n",
              "    </tr>\n",
              "    <tr>\n",
              "      <th>121848</th>\n",
              "      <td>76343.0</td>\n",
              "      <td>-0.868089</td>\n",
              "      <td>-0.127889</td>\n",
              "      <td>1.473924</td>\n",
              "      <td>-1.124669</td>\n",
              "      <td>-1.904013</td>\n",
              "      <td>1.163006</td>\n",
              "      <td>-0.283742</td>\n",
              "      <td>0.746531</td>\n",
              "      <td>-0.736264</td>\n",
              "      <td>-0.175059</td>\n",
              "      <td>0.401805</td>\n",
              "      <td>-0.213943</td>\n",
              "      <td>-0.774657</td>\n",
              "      <td>-0.389873</td>\n",
              "      <td>-1.238179</td>\n",
              "      <td>0.851705</td>\n",
              "      <td>0.798677</td>\n",
              "      <td>-1.065141</td>\n",
              "      <td>1.117206</td>\n",
              "      <td>-0.052033</td>\n",
              "      <td>0.176907</td>\n",
              "      <td>0.469763</td>\n",
              "      <td>0.029259</td>\n",
              "      <td>-0.303608</td>\n",
              "      <td>-0.126885</td>\n",
              "      <td>-0.257276</td>\n",
              "      <td>-0.073542</td>\n",
              "      <td>-0.063614</td>\n",
              "      <td>189.90</td>\n",
              "    </tr>\n",
              "    <tr>\n",
              "      <th>274029</th>\n",
              "      <td>165822.0</td>\n",
              "      <td>-1.240829</td>\n",
              "      <td>-0.395491</td>\n",
              "      <td>1.958589</td>\n",
              "      <td>-0.047792</td>\n",
              "      <td>0.597116</td>\n",
              "      <td>-0.861073</td>\n",
              "      <td>-0.174849</td>\n",
              "      <td>0.156320</td>\n",
              "      <td>0.198213</td>\n",
              "      <td>-0.808267</td>\n",
              "      <td>-0.964026</td>\n",
              "      <td>-0.429859</td>\n",
              "      <td>-0.809422</td>\n",
              "      <td>0.190108</td>\n",
              "      <td>1.242464</td>\n",
              "      <td>-0.312181</td>\n",
              "      <td>0.034655</td>\n",
              "      <td>0.026180</td>\n",
              "      <td>1.173892</td>\n",
              "      <td>0.349427</td>\n",
              "      <td>-0.141820</td>\n",
              "      <td>-0.729206</td>\n",
              "      <td>0.066061</td>\n",
              "      <td>-0.130264</td>\n",
              "      <td>0.157839</td>\n",
              "      <td>-0.011302</td>\n",
              "      <td>0.015111</td>\n",
              "      <td>0.093282</td>\n",
              "      <td>39.95</td>\n",
              "    </tr>\n",
              "  </tbody>\n",
              "</table>\n",
              "</div>"
            ],
            "text/plain": [
              "            Time        V1        V2  ...       V27       V28  Amount\n",
              "67718    52669.0 -1.044875 -0.699877  ...  0.448415  0.273184   90.00\n",
              "99134    66981.0 -0.105756  1.055263  ...  0.326754  0.220772    2.69\n",
              "255988  157487.0  2.273034 -0.620167  ... -0.032988 -0.070058   15.00\n",
              "121848   76343.0 -0.868089 -0.127889  ... -0.073542 -0.063614  189.90\n",
              "274029  165822.0 -1.240829 -0.395491  ...  0.015111  0.093282   39.95\n",
              "\n",
              "[5 rows x 30 columns]"
            ]
          },
          "metadata": {
            "tags": []
          },
          "execution_count": 34
        }
      ]
    },
    {
      "cell_type": "code",
      "metadata": {
        "id": "BOTrC4YZQ0Ly",
        "colab_type": "code",
        "outputId": "9cd5c6e3-244e-4f33-aac3-8956998b57c0",
        "colab": {
          "base_uri": "https://localhost:8080/",
          "height": 33
        }
      },
      "source": [
        "y_train.shape"
      ],
      "execution_count": 35,
      "outputs": [
        {
          "output_type": "execute_result",
          "data": {
            "text/plain": [
              "(199364,)"
            ]
          },
          "metadata": {
            "tags": []
          },
          "execution_count": 35
        }
      ]
    },
    {
      "cell_type": "code",
      "metadata": {
        "id": "NDiVLjRyRA2m",
        "colab_type": "code",
        "outputId": "689de231-90fb-470e-a2be-ddcf1e427506",
        "colab": {
          "base_uri": "https://localhost:8080/",
          "height": 33
        }
      },
      "source": [
        "y_test.shape"
      ],
      "execution_count": 36,
      "outputs": [
        {
          "output_type": "execute_result",
          "data": {
            "text/plain": [
              "(85443,)"
            ]
          },
          "metadata": {
            "tags": []
          },
          "execution_count": 36
        }
      ]
    },
    {
      "cell_type": "code",
      "metadata": {
        "id": "nsf34d-VRPpO",
        "colab_type": "code",
        "outputId": "bf0f746f-60ce-4897-ef5f-9779ecda409b",
        "colab": {
          "base_uri": "https://localhost:8080/",
          "height": 66
        }
      },
      "source": [
        "y_test.value_counts()"
      ],
      "execution_count": 37,
      "outputs": [
        {
          "output_type": "execute_result",
          "data": {
            "text/plain": [
              "0    85295\n",
              "1      148\n",
              "Name: Class, dtype: int64"
            ]
          },
          "metadata": {
            "tags": []
          },
          "execution_count": 37
        }
      ]
    },
    {
      "cell_type": "code",
      "metadata": {
        "id": "TL_nFQHQRPsU",
        "colab_type": "code",
        "outputId": "7e2bedca-21fe-43c0-e8b8-974304452cf8",
        "colab": {
          "base_uri": "https://localhost:8080/",
          "height": 66
        }
      },
      "source": [
        "y_train.value_counts()"
      ],
      "execution_count": 38,
      "outputs": [
        {
          "output_type": "execute_result",
          "data": {
            "text/plain": [
              "0    199020\n",
              "1       344\n",
              "Name: Class, dtype: int64"
            ]
          },
          "metadata": {
            "tags": []
          },
          "execution_count": 38
        }
      ]
    },
    {
      "cell_type": "code",
      "metadata": {
        "id": "aJXzNnm8Tpyn",
        "colab_type": "code",
        "colab": {}
      },
      "source": [
        "df_train = X_train.copy()\n",
        "df_train['Class'] = y_train.copy()\n",
        "df_train.to_csv('drive/My Drive/Deteksi fraud/data/ULB_preprocessing_train.csv',sep=';',index=False)"
      ],
      "execution_count": 0,
      "outputs": []
    },
    {
      "cell_type": "code",
      "metadata": {
        "id": "Mh9OzBssVa-q",
        "colab_type": "code",
        "colab": {}
      },
      "source": [
        "df_test = X_test.copy()\n",
        "df_test['Class'] = y_test.copy()\n",
        "df_test.to_csv('drive/My Drive/Deteksi fraud/data/ULB_preprocessing_test.csv',sep=';',index=False)"
      ],
      "execution_count": 0,
      "outputs": []
    },
    {
      "cell_type": "code",
      "metadata": {
        "id": "SkvDxKty0pWO",
        "colab_type": "code",
        "colab": {}
      },
      "source": [
        "# # Since most of our data has already been scaled we should scale the columns that are left to scale (Amount and Time)\n",
        "# from sklearn.preprocessing import StandardScaler, RobustScaler, MinMaxScaler\n",
        "\n",
        "# # RobustScaler is less prone to outliers.\n",
        "\n",
        "# std_scaler = StandardScaler()\n",
        "# rob_scaler = RobustScaler()\n",
        "# minmax_scaler = MinMaxScaler()\n",
        "\n",
        "# # df['scaled_amount'] = rob_scaler.fit_transform(df['Amount'].values.reshape(-1,1))\n",
        "# # df['scaled_time'] = rob_scaler.fit_transform(df['Time'].values.reshape(-1,1))\n",
        "\n",
        "# df['scaled_amount'] = minmax_scaler.fit_transform(df['Amount'].values.reshape(-1,1))\n",
        "# df['scaled_time'] = minmax_scaler.fit_transform(df['Time'].values.reshape(-1,1))\n",
        "\n",
        "# df.drop(['Time','Amount'], axis=1, inplace=True)\n",
        "\n",
        "# scaled_amount = df['scaled_amount']\n",
        "# scaled_time = df['scaled_time']\n",
        "\n",
        "# df.drop(['scaled_amount', 'scaled_time'], axis=1, inplace=True)\n",
        "# df.insert(0, 'scaled_amount', scaled_amount)\n",
        "# df.insert(1, 'scaled_time', scaled_time)\n",
        "\n",
        "# # Amount and Time are Scaled!\n",
        "\n",
        "# df.head()"
      ],
      "execution_count": 0,
      "outputs": []
    },
    {
      "cell_type": "code",
      "metadata": {
        "id": "JUVZsMIB0pWR",
        "colab_type": "code",
        "outputId": "3c304244-1a17-4579-b6e0-35d291c76f8c",
        "colab": {
          "base_uri": "https://localhost:8080/",
          "height": 211
        }
      },
      "source": [
        "# Since our classes are highly skewed we should make them equivalent in order to have a normal distribution of the classes.\n",
        "\n",
        "# Lets shuffle the data before creating the subsamples\n",
        "df_copy = df_train.copy()\n",
        "# df_copy = df_copy.sample(frac=1)\n",
        "\n",
        "fraud_df = df_copy.loc[df_copy['Class'] == 1]\n",
        "# non_fraud_df = df_copy.loc[df['Class'] == 0][:344]\n",
        "non_fraud_df = df_copy.loc[df_copy['Class'] == 0].sample(n=344,random_state=1)\n",
        "\n",
        "normal_distributed_df = pd.concat([fraud_df, non_fraud_df])\n",
        "\n",
        "# Shuffle dataframe rows\n",
        "df_new = normal_distributed_df.sample(frac=1, random_state=1)\n",
        "df_new = df_new.reset_index()\n",
        "df_new = df_new.drop('index', axis=1)\n",
        "df_new.head()"
      ],
      "execution_count": 42,
      "outputs": [
        {
          "output_type": "execute_result",
          "data": {
            "text/html": [
              "<div>\n",
              "<style scoped>\n",
              "    .dataframe tbody tr th:only-of-type {\n",
              "        vertical-align: middle;\n",
              "    }\n",
              "\n",
              "    .dataframe tbody tr th {\n",
              "        vertical-align: top;\n",
              "    }\n",
              "\n",
              "    .dataframe thead th {\n",
              "        text-align: right;\n",
              "    }\n",
              "</style>\n",
              "<table border=\"1\" class=\"dataframe\">\n",
              "  <thead>\n",
              "    <tr style=\"text-align: right;\">\n",
              "      <th></th>\n",
              "      <th>Time</th>\n",
              "      <th>V1</th>\n",
              "      <th>V2</th>\n",
              "      <th>V3</th>\n",
              "      <th>V4</th>\n",
              "      <th>V5</th>\n",
              "      <th>V6</th>\n",
              "      <th>V7</th>\n",
              "      <th>V8</th>\n",
              "      <th>V9</th>\n",
              "      <th>V10</th>\n",
              "      <th>V11</th>\n",
              "      <th>V12</th>\n",
              "      <th>V13</th>\n",
              "      <th>V14</th>\n",
              "      <th>V15</th>\n",
              "      <th>V16</th>\n",
              "      <th>V17</th>\n",
              "      <th>V18</th>\n",
              "      <th>V19</th>\n",
              "      <th>V20</th>\n",
              "      <th>V21</th>\n",
              "      <th>V22</th>\n",
              "      <th>V23</th>\n",
              "      <th>V24</th>\n",
              "      <th>V25</th>\n",
              "      <th>V26</th>\n",
              "      <th>V27</th>\n",
              "      <th>V28</th>\n",
              "      <th>Amount</th>\n",
              "      <th>Class</th>\n",
              "    </tr>\n",
              "  </thead>\n",
              "  <tbody>\n",
              "    <tr>\n",
              "      <th>0</th>\n",
              "      <td>139767.0</td>\n",
              "      <td>0.467992</td>\n",
              "      <td>1.100118</td>\n",
              "      <td>-5.607145</td>\n",
              "      <td>2.204714</td>\n",
              "      <td>-0.578539</td>\n",
              "      <td>-0.174200</td>\n",
              "      <td>-3.454201</td>\n",
              "      <td>1.102823</td>\n",
              "      <td>-1.065016</td>\n",
              "      <td>-5.416037</td>\n",
              "      <td>4.497929</td>\n",
              "      <td>-5.019610</td>\n",
              "      <td>-1.019691</td>\n",
              "      <td>-7.914989</td>\n",
              "      <td>0.669648</td>\n",
              "      <td>-4.472014</td>\n",
              "      <td>-5.856998</td>\n",
              "      <td>-2.243178</td>\n",
              "      <td>-0.173814</td>\n",
              "      <td>0.589575</td>\n",
              "      <td>0.983481</td>\n",
              "      <td>0.899876</td>\n",
              "      <td>-0.285103</td>\n",
              "      <td>-1.929717</td>\n",
              "      <td>0.319869</td>\n",
              "      <td>0.170636</td>\n",
              "      <td>0.851798</td>\n",
              "      <td>0.372098</td>\n",
              "      <td>120.54</td>\n",
              "      <td>1</td>\n",
              "    </tr>\n",
              "    <tr>\n",
              "      <th>1</th>\n",
              "      <td>70536.0</td>\n",
              "      <td>-2.271755</td>\n",
              "      <td>-0.457655</td>\n",
              "      <td>-2.589055</td>\n",
              "      <td>2.230778</td>\n",
              "      <td>-4.278983</td>\n",
              "      <td>0.388610</td>\n",
              "      <td>0.102485</td>\n",
              "      <td>0.813128</td>\n",
              "      <td>-1.092921</td>\n",
              "      <td>-5.032028</td>\n",
              "      <td>3.510348</td>\n",
              "      <td>-2.227398</td>\n",
              "      <td>0.656824</td>\n",
              "      <td>-5.199186</td>\n",
              "      <td>-0.128311</td>\n",
              "      <td>-3.943521</td>\n",
              "      <td>-3.820522</td>\n",
              "      <td>-0.570821</td>\n",
              "      <td>2.783383</td>\n",
              "      <td>2.285758</td>\n",
              "      <td>1.096342</td>\n",
              "      <td>0.658399</td>\n",
              "      <td>1.711676</td>\n",
              "      <td>0.333540</td>\n",
              "      <td>0.538591</td>\n",
              "      <td>-0.193529</td>\n",
              "      <td>0.258194</td>\n",
              "      <td>0.247269</td>\n",
              "      <td>824.83</td>\n",
              "      <td>1</td>\n",
              "    </tr>\n",
              "    <tr>\n",
              "      <th>2</th>\n",
              "      <td>130349.0</td>\n",
              "      <td>1.764965</td>\n",
              "      <td>-0.640638</td>\n",
              "      <td>-0.452079</td>\n",
              "      <td>0.121273</td>\n",
              "      <td>0.242557</td>\n",
              "      <td>1.935698</td>\n",
              "      <td>-1.005408</td>\n",
              "      <td>0.671404</td>\n",
              "      <td>1.133422</td>\n",
              "      <td>-0.203693</td>\n",
              "      <td>1.474416</td>\n",
              "      <td>1.725986</td>\n",
              "      <td>0.542809</td>\n",
              "      <td>-0.005425</td>\n",
              "      <td>0.827996</td>\n",
              "      <td>-0.928667</td>\n",
              "      <td>0.309578</td>\n",
              "      <td>-1.213858</td>\n",
              "      <td>-1.379076</td>\n",
              "      <td>-0.299957</td>\n",
              "      <td>0.351390</td>\n",
              "      <td>1.411035</td>\n",
              "      <td>0.187029</td>\n",
              "      <td>-1.643892</td>\n",
              "      <td>-0.381872</td>\n",
              "      <td>-0.086202</td>\n",
              "      <td>0.112130</td>\n",
              "      <td>-0.063010</td>\n",
              "      <td>11.50</td>\n",
              "      <td>0</td>\n",
              "    </tr>\n",
              "    <tr>\n",
              "      <th>3</th>\n",
              "      <td>51155.0</td>\n",
              "      <td>-11.205461</td>\n",
              "      <td>7.914633</td>\n",
              "      <td>-13.987752</td>\n",
              "      <td>4.333341</td>\n",
              "      <td>-8.484970</td>\n",
              "      <td>-3.506561</td>\n",
              "      <td>-8.935243</td>\n",
              "      <td>7.704449</td>\n",
              "      <td>-2.336584</td>\n",
              "      <td>-5.927359</td>\n",
              "      <td>2.470401</td>\n",
              "      <td>-5.788517</td>\n",
              "      <td>-0.391939</td>\n",
              "      <td>-6.527462</td>\n",
              "      <td>0.899859</td>\n",
              "      <td>-3.847293</td>\n",
              "      <td>-6.700637</td>\n",
              "      <td>-2.492616</td>\n",
              "      <td>0.469554</td>\n",
              "      <td>0.860912</td>\n",
              "      <td>0.942593</td>\n",
              "      <td>-0.987848</td>\n",
              "      <td>-0.279446</td>\n",
              "      <td>-0.027299</td>\n",
              "      <td>0.644344</td>\n",
              "      <td>-0.263078</td>\n",
              "      <td>1.084023</td>\n",
              "      <td>0.211933</td>\n",
              "      <td>99.99</td>\n",
              "      <td>1</td>\n",
              "    </tr>\n",
              "    <tr>\n",
              "      <th>4</th>\n",
              "      <td>78668.0</td>\n",
              "      <td>1.237688</td>\n",
              "      <td>0.360344</td>\n",
              "      <td>-0.287389</td>\n",
              "      <td>0.865929</td>\n",
              "      <td>0.496825</td>\n",
              "      <td>-0.187566</td>\n",
              "      <td>0.404371</td>\n",
              "      <td>-0.101166</td>\n",
              "      <td>-0.154733</td>\n",
              "      <td>-0.046287</td>\n",
              "      <td>-0.840872</td>\n",
              "      <td>0.021235</td>\n",
              "      <td>-0.071557</td>\n",
              "      <td>0.558838</td>\n",
              "      <td>1.070609</td>\n",
              "      <td>-0.097905</td>\n",
              "      <td>-0.350690</td>\n",
              "      <td>-0.829990</td>\n",
              "      <td>-0.141321</td>\n",
              "      <td>-0.131606</td>\n",
              "      <td>-0.373471</td>\n",
              "      <td>-1.101931</td>\n",
              "      <td>0.023660</td>\n",
              "      <td>-0.829145</td>\n",
              "      <td>0.492318</td>\n",
              "      <td>-0.614306</td>\n",
              "      <td>0.011220</td>\n",
              "      <td>0.012320</td>\n",
              "      <td>21.37</td>\n",
              "      <td>0</td>\n",
              "    </tr>\n",
              "  </tbody>\n",
              "</table>\n",
              "</div>"
            ],
            "text/plain": [
              "       Time         V1        V2         V3  ...       V27       V28  Amount  Class\n",
              "0  139767.0   0.467992  1.100118  -5.607145  ...  0.851798  0.372098  120.54      1\n",
              "1   70536.0  -2.271755 -0.457655  -2.589055  ...  0.258194  0.247269  824.83      1\n",
              "2  130349.0   1.764965 -0.640638  -0.452079  ...  0.112130 -0.063010   11.50      0\n",
              "3   51155.0 -11.205461  7.914633 -13.987752  ...  1.084023  0.211933   99.99      1\n",
              "4   78668.0   1.237688  0.360344  -0.287389  ...  0.011220  0.012320   21.37      0\n",
              "\n",
              "[5 rows x 31 columns]"
            ]
          },
          "metadata": {
            "tags": []
          },
          "execution_count": 42
        }
      ]
    },
    {
      "cell_type": "code",
      "metadata": {
        "id": "lt8BRgQR0pWW",
        "colab_type": "code",
        "colab": {}
      },
      "source": [
        ""
      ],
      "execution_count": 0,
      "outputs": []
    },
    {
      "cell_type": "code",
      "metadata": {
        "id": "Hpwvc77C0pWa",
        "colab_type": "code",
        "outputId": "a46ac47f-a69d-4233-b739-e3cbe52af412",
        "colab": {
          "base_uri": "https://localhost:8080/",
          "height": 428
        }
      },
      "source": [
        "plt.figure(1,figsize=(5, 5), dpi=80)\n",
        "plt.grid(color='b', linestyle='-', linewidth=0.2)\n",
        "plt.title('Class Distributions \\n (0: No Fraud || 1: Fraud)', fontsize=14)\n",
        "sns.countplot('Class', data=df_new,palette='Set2')"
      ],
      "execution_count": 43,
      "outputs": [
        {
          "output_type": "execute_result",
          "data": {
            "text/plain": [
              "<matplotlib.axes._subplots.AxesSubplot at 0x7f14cce0f780>"
            ]
          },
          "metadata": {
            "tags": []
          },
          "execution_count": 43
        },
        {
          "output_type": "display_data",
          "data": {
            "image/png": "[encoded data removed]",
            "text/plain": [
              "<Figure size 400x400 with 1 Axes>"
            ]
          },
          "metadata": {
            "tags": []
          }
        }
      ]
    },
    {
      "cell_type": "code",
      "metadata": {
        "id": "nJwi_WXQ0pWi",
        "colab_type": "code",
        "colab": {}
      },
      "source": [
        ""
      ],
      "execution_count": 0,
      "outputs": []
    },
    {
      "cell_type": "code",
      "metadata": {
        "id": "KX3HYPhb0pWm",
        "colab_type": "code",
        "colab": {}
      },
      "source": [
        "# X = df.drop('Class', axis=1)\n",
        "# y = df['Class'].copy()"
      ],
      "execution_count": 0,
      "outputs": []
    },
    {
      "cell_type": "code",
      "metadata": {
        "id": "caCPe2iv0pWq",
        "colab_type": "code",
        "colab": {}
      },
      "source": [
        "X_new = df_new.drop('Class', axis=1)\n",
        "y_new = df_new['Class'].copy()"
      ],
      "execution_count": 0,
      "outputs": []
    },
    {
      "cell_type": "code",
      "metadata": {
        "id": "CgFBdJYI0pWy",
        "colab_type": "code",
        "outputId": "94882ec1-b9b0-42bb-ff1b-7f98790efe19",
        "colab": {
          "base_uri": "https://localhost:8080/",
          "height": 66
        }
      },
      "source": [
        "y_new.value_counts()"
      ],
      "execution_count": 46,
      "outputs": [
        {
          "output_type": "execute_result",
          "data": {
            "text/plain": [
              "1    344\n",
              "0    344\n",
              "Name: Class, dtype: int64"
            ]
          },
          "metadata": {
            "tags": []
          },
          "execution_count": 46
        }
      ]
    },
    {
      "cell_type": "code",
      "metadata": {
        "id": "lLN-D7aE0pW3",
        "colab_type": "code",
        "outputId": "0cabbb2e-4323-4aa1-bf72-9985670b89b7",
        "colab": {
          "base_uri": "https://localhost:8080/",
          "height": 82
        }
      },
      "source": [
        "X_new.columns"
      ],
      "execution_count": 47,
      "outputs": [
        {
          "output_type": "execute_result",
          "data": {
            "text/plain": [
              "Index(['Time', 'V1', 'V2', 'V3', 'V4', 'V5', 'V6', 'V7', 'V8', 'V9', 'V10',\n",
              "       'V11', 'V12', 'V13', 'V14', 'V15', 'V16', 'V17', 'V18', 'V19', 'V20',\n",
              "       'V21', 'V22', 'V23', 'V24', 'V25', 'V26', 'V27', 'V28', 'Amount'],\n",
              "      dtype='object')"
            ]
          },
          "metadata": {
            "tags": []
          },
          "execution_count": 47
        }
      ]
    },
    {
      "cell_type": "code",
      "metadata": {
        "colab_type": "code",
        "id": "s94LTp6MVet7",
        "colab": {}
      },
      "source": [
        ""
      ],
      "execution_count": 0,
      "outputs": []
    },
    {
      "cell_type": "code",
      "metadata": {
        "id": "c2w12u1g0pW-",
        "colab_type": "code",
        "colab": {}
      },
      "source": [
        ""
      ],
      "execution_count": 0,
      "outputs": []
    },
    {
      "cell_type": "markdown",
      "metadata": {
        "id": "kbJzY3gx0pXH",
        "colab_type": "text"
      },
      "source": [
        "## K-folds\n"
      ]
    },
    {
      "cell_type": "code",
      "metadata": {
        "id": "_M_uzJJ20pXY",
        "colab_type": "code",
        "colab": {}
      },
      "source": [
        "def validasi_model (clf,X,y,kfolds):\n",
        "    CV_SKLearn = kfold_cross_validation(clf,X,y,n_fold=kfolds,n_seed=1)\n",
        "    df_result = pd.DataFrame(data= CV_SKLearn, columns=['Akurasi','Sensitivity','Specifity','precision','recall','f1_score','Waktu'])\n",
        "\n",
        "    df_result.insert(loc=0, column='No', value=list(range(1,df_result.shape[0]+1)))\n",
        "    df_result = df_result.set_index('No')\n",
        "\n",
        "    del df_result.index.name\n",
        "\n",
        "    df_result = df_result.append(df_result.describe()[1:2])\n",
        "    \n",
        "    return df_result\n",
        "# result_SKLearn = result_SKLearn.append('')"
      ],
      "execution_count": 0,
      "outputs": []
    },
    {
      "cell_type": "code",
      "metadata": {
        "id": "f5CyLZdw67e7",
        "colab_type": "code",
        "colab": {}
      },
      "source": [
        ""
      ],
      "execution_count": 0,
      "outputs": []
    },
    {
      "cell_type": "code",
      "metadata": {
        "id": "orHWLKtp0pXh",
        "colab_type": "code",
        "colab": {}
      },
      "source": [
        "# Classifier Libraries\n",
        "from sklearn.ensemble import RandomForestClassifier, AdaBoostClassifier\n",
        "from sklearn.ensemble import BaggingClassifier, ExtraTreesClassifier\n",
        "from sklearn.ensemble import GradientBoostingClassifier\n",
        "\n",
        "    \n",
        "clf_RF = RandomForestClassifier(random_state=1,n_estimators=10)\n",
        "clf_AB = AdaBoostClassifier(random_state=1,n_estimators=100)\n",
        "clf_B = BaggingClassifier(random_state=1,n_estimators=100)\n",
        "clf_ET = ExtraTreesClassifier(random_state=1,n_estimators=100)\n",
        "clf_GB = GradientBoostingClassifier(random_state=1,n_estimators=50)\n",
        "\n",
        "##skenario \n",
        "skenario_1 = {}\n",
        "skenario_1['1'] = clf_RF\n",
        "# skenario_1['2'] = clf_AB\n",
        "# skenario_1['3'] = clf_B\n",
        "# skenario_1['4'] = clf_ET\n",
        "skenario_1['5'] = clf_GB\n"
      ],
      "execution_count": 0,
      "outputs": []
    },
    {
      "cell_type": "code",
      "metadata": {
        "id": "sFjtADc8Enlc",
        "colab_type": "code",
        "colab": {
          "base_uri": "https://localhost:8080/",
          "height": 105
        },
        "outputId": "861ba582-9feb-4163-84e4-aae3714fa4a8"
      },
      "source": [
        "for i in skenario_1:\n",
        "    \n",
        "    clf_skenario = skenario_1[i]\n",
        "#     print('komposisi', i)\n",
        "\n",
        "    \n",
        "    result_SKLearn = validasi_model(clf_skenario,X_new,y_new,5)\n",
        "#     print(result_SKLearn)\n",
        "    \n",
        "    nama_file = 'drive/My Drive/Deteksi fraud/hasil/RUS/ULB/k_folds/komposisi999.csv'\n",
        "    nama_file = nama_file.replace('999',str(i))\n",
        "\n",
        "    result_SKLearn.to_csv(nama_file, sep=';',index=False)\n",
        "                \n",
        "\n",
        "df_result = pd.DataFrame()\n",
        "for i in skenario_1:\n",
        "    nama_file = 'drive/My Drive/Deteksi fraud/hasil/RUS/ULB/k_folds/komposisi999.csv'\n",
        "    nama_file = nama_file.replace('999',str(i))\n",
        "    df_komposisi = pd.read_csv(nama_file,sep=\";\")\n",
        "    df_result = df_result.append(df_komposisi.iloc[5:,:])\n",
        "    \n",
        "df_result.insert(loc=0, column='No', value=list(range(df_result.shape[0])))\n",
        "df_result = df_result.set_index('No')\n",
        "\n",
        "del df_result.index.name\n",
        "\n",
        "df_result.to_csv('drive/My Drive/Deteksi fraud/hasil/RUS/ULB/k_folds/result.csv', sep=';',index=False)\n",
        "df_result      \n"
      ],
      "execution_count": 50,
      "outputs": [
        {
          "output_type": "execute_result",
          "data": {
            "text/html": [
              "<div>\n",
              "<style scoped>\n",
              "    .dataframe tbody tr th:only-of-type {\n",
              "        vertical-align: middle;\n",
              "    }\n",
              "\n",
              "    .dataframe tbody tr th {\n",
              "        vertical-align: top;\n",
              "    }\n",
              "\n",
              "    .dataframe thead th {\n",
              "        text-align: right;\n",
              "    }\n",
              "</style>\n",
              "<table border=\"1\" class=\"dataframe\">\n",
              "  <thead>\n",
              "    <tr style=\"text-align: right;\">\n",
              "      <th></th>\n",
              "      <th>Akurasi</th>\n",
              "      <th>Sensitivity</th>\n",
              "      <th>Specifity</th>\n",
              "      <th>precision</th>\n",
              "      <th>recall</th>\n",
              "      <th>f1_score</th>\n",
              "      <th>Waktu</th>\n",
              "    </tr>\n",
              "  </thead>\n",
              "  <tbody>\n",
              "    <tr>\n",
              "      <th>0</th>\n",
              "      <td>0.925547</td>\n",
              "      <td>0.882868</td>\n",
              "      <td>0.968245</td>\n",
              "      <td>0.965915</td>\n",
              "      <td>0.882868</td>\n",
              "      <td>0.921084</td>\n",
              "      <td>0.065912</td>\n",
              "    </tr>\n",
              "    <tr>\n",
              "      <th>1</th>\n",
              "      <td>0.918248</td>\n",
              "      <td>0.894878</td>\n",
              "      <td>0.941989</td>\n",
              "      <td>0.940859</td>\n",
              "      <td>0.894878</td>\n",
              "      <td>0.915622</td>\n",
              "      <td>0.118207</td>\n",
              "    </tr>\n",
              "  </tbody>\n",
              "</table>\n",
              "</div>"
            ],
            "text/plain": [
              "    Akurasi  Sensitivity  Specifity  precision    recall  f1_score     Waktu\n",
              "0  0.925547     0.882868   0.968245   0.965915  0.882868  0.921084  0.065912\n",
              "1  0.918248     0.894878   0.941989   0.940859  0.894878  0.915622  0.118207"
            ]
          },
          "metadata": {
            "tags": []
          },
          "execution_count": 50
        }
      ]
    },
    {
      "cell_type": "code",
      "metadata": {
        "id": "wMtobrSQ0pYN",
        "colab_type": "code",
        "colab": {}
      },
      "source": [
        ""
      ],
      "execution_count": 0,
      "outputs": []
    },
    {
      "cell_type": "markdown",
      "metadata": {
        "id": "NPR_NhSvERAg",
        "colab_type": "text"
      },
      "source": [
        "-----"
      ]
    },
    {
      "cell_type": "markdown",
      "metadata": {
        "id": "xxJAonkgF1Q-",
        "colab_type": "text"
      },
      "source": [
        "## Testing"
      ]
    },
    {
      "cell_type": "code",
      "metadata": {
        "id": "5PKSigBeFzxw",
        "colab_type": "code",
        "colab": {}
      },
      "source": [
        "def validasi_testing (clf,X,y):\n",
        "    testing_result = testing(clf,X,y)\n",
        "    df_result = pd.DataFrame(data= testing_result, columns=['Akurasi','Sensitivity','Specifity','precision','recall','f1_score'])\n",
        "\n",
        "    df_result.insert(loc=0, column='No', value=list(range(1,df_result.shape[0]+1)))\n",
        "    df_result = df_result.set_index('No')\n",
        "\n",
        "    del df_result.index.name\n",
        "\n",
        "#     df_result = df_result.append(df_result.describe()[1:2])\n",
        "    \n",
        "    return df_result\n",
        "# result_SKLearn = result_SKLearn.append('')"
      ],
      "execution_count": 0,
      "outputs": []
    },
    {
      "cell_type": "code",
      "metadata": {
        "id": "8rONoLKz4r-E",
        "colab_type": "code",
        "outputId": "e69a3119-ffe0-4805-bdde-99702f9dea65",
        "colab": {
          "base_uri": "https://localhost:8080/",
          "height": 131
        }
      },
      "source": [
        "from sklearn.ensemble import RandomForestClassifier\n",
        "n_tree = 100\n",
        "# clf_RF_ = RandomForestClassifier(random_state=1,n_estimators=n_tree, max_features='sqrt')\n",
        "clf_RF.fit(X_new,y_new)"
      ],
      "execution_count": 52,
      "outputs": [
        {
          "output_type": "execute_result",
          "data": {
            "text/plain": [
              "RandomForestClassifier(bootstrap=True, class_weight=None, criterion='gini',\n",
              "                       max_depth=None, max_features='auto', max_leaf_nodes=None,\n",
              "                       min_impurity_decrease=0.0, min_impurity_split=None,\n",
              "                       min_samples_leaf=1, min_samples_split=2,\n",
              "                       min_weight_fraction_leaf=0.0, n_estimators=10,\n",
              "                       n_jobs=None, oob_score=False, random_state=1, verbose=0,\n",
              "                       warm_start=False)"
            ]
          },
          "metadata": {
            "tags": []
          },
          "execution_count": 52
        }
      ]
    },
    {
      "cell_type": "code",
      "metadata": {
        "id": "LdJ8s5j-5aet",
        "colab_type": "code",
        "outputId": "f3523dd5-a96f-4c84-e098-5376befb775f",
        "colab": {
          "base_uri": "https://localhost:8080/",
          "height": 180
        }
      },
      "source": [
        "from sklearn.ensemble import GradientBoostingClassifier\n",
        "n_tree = 100\n",
        "# clf = RandomForestClassifier(random_state=1,n_estimators=n_tree, max_features='sqrt')\n",
        "# clf_GB = GradientBoostingClassifier(random_state=1,n_estimators=50)\n",
        "\n",
        "clf_GB.fit(X_new,y_new)\n",
        "\n"
      ],
      "execution_count": 53,
      "outputs": [
        {
          "output_type": "execute_result",
          "data": {
            "text/plain": [
              "GradientBoostingClassifier(criterion='friedman_mse', init=None,\n",
              "                           learning_rate=0.1, loss='deviance', max_depth=3,\n",
              "                           max_features=None, max_leaf_nodes=None,\n",
              "                           min_impurity_decrease=0.0, min_impurity_split=None,\n",
              "                           min_samples_leaf=1, min_samples_split=2,\n",
              "                           min_weight_fraction_leaf=0.0, n_estimators=50,\n",
              "                           n_iter_no_change=None, presort='auto',\n",
              "                           random_state=1, subsample=1.0, tol=0.0001,\n",
              "                           validation_fraction=0.1, verbose=0,\n",
              "                           warm_start=False)"
            ]
          },
          "metadata": {
            "tags": []
          },
          "execution_count": 53
        }
      ]
    },
    {
      "cell_type": "code",
      "metadata": {
        "id": "yGlRYuLODU33",
        "colab_type": "code",
        "outputId": "9eb7bbff-3b77-487d-d69c-daa2e2b78236",
        "colab": {
          "base_uri": "https://localhost:8080/",
          "height": 105
        }
      },
      "source": [
        "result = {}\n",
        "for i in skenario_1:\n",
        "  \n",
        "    clf_skenario = skenario_1[i]\n",
        "    result[i] = validasi_testing(clf_skenario,X_test,y_test)\n",
        "    \n",
        "                \n",
        "df_result = pd.DataFrame()\n",
        "for i in skenario_1:\n",
        "    df_result = df_result.append(result[i])\n",
        "    \n",
        "df_result.insert(loc=0, column='No', value=list(range(df_result.shape[0])))\n",
        "df_result = df_result.set_index('No')\n",
        "\n",
        "del df_result.index.name\n",
        "\n",
        "\n",
        "\n",
        "nama_file = 'drive/My Drive/Deteksi fraud/hasil/RUS/ULB/testing/result.csv'\n",
        "\n",
        "df_result.to_csv(nama_file, sep=';',index=False)\n",
        "\n",
        "df_result"
      ],
      "execution_count": 54,
      "outputs": [
        {
          "output_type": "execute_result",
          "data": {
            "text/html": [
              "<div>\n",
              "<style scoped>\n",
              "    .dataframe tbody tr th:only-of-type {\n",
              "        vertical-align: middle;\n",
              "    }\n",
              "\n",
              "    .dataframe tbody tr th {\n",
              "        vertical-align: top;\n",
              "    }\n",
              "\n",
              "    .dataframe thead th {\n",
              "        text-align: right;\n",
              "    }\n",
              "</style>\n",
              "<table border=\"1\" class=\"dataframe\">\n",
              "  <thead>\n",
              "    <tr style=\"text-align: right;\">\n",
              "      <th></th>\n",
              "      <th>Akurasi</th>\n",
              "      <th>Sensitivity</th>\n",
              "      <th>Specifity</th>\n",
              "      <th>precision</th>\n",
              "      <th>recall</th>\n",
              "      <th>f1_score</th>\n",
              "    </tr>\n",
              "  </thead>\n",
              "  <tbody>\n",
              "    <tr>\n",
              "      <th>0</th>\n",
              "      <td>0.972613</td>\n",
              "      <td>0.925676</td>\n",
              "      <td>0.972695</td>\n",
              "      <td>0.055556</td>\n",
              "      <td>0.925676</td>\n",
              "      <td>0.104820</td>\n",
              "    </tr>\n",
              "    <tr>\n",
              "      <th>1</th>\n",
              "      <td>0.955900</td>\n",
              "      <td>0.932432</td>\n",
              "      <td>0.955941</td>\n",
              "      <td>0.035421</td>\n",
              "      <td>0.932432</td>\n",
              "      <td>0.068249</td>\n",
              "    </tr>\n",
              "  </tbody>\n",
              "</table>\n",
              "</div>"
            ],
            "text/plain": [
              "    Akurasi  Sensitivity  Specifity  precision    recall  f1_score\n",
              "0  0.972613     0.925676   0.972695   0.055556  0.925676  0.104820\n",
              "1  0.955900     0.932432   0.955941   0.035421  0.932432  0.068249"
            ]
          },
          "metadata": {
            "tags": []
          },
          "execution_count": 54
        }
      ]
    },
    {
      "cell_type": "markdown",
      "metadata": {
        "id": "QphNuVUILK4Q",
        "colab_type": "text"
      },
      "source": [
        "----"
      ]
    },
    {
      "cell_type": "markdown",
      "metadata": {
        "id": "UfY-qzrMLM4C",
        "colab_type": "text"
      },
      "source": [
        "**testing balance data**"
      ]
    },
    {
      "cell_type": "code",
      "metadata": {
        "id": "LXW2-WxLC18g",
        "colab_type": "code",
        "outputId": "55a14e56-aa19-44c1-cb54-f797bb1a8a31",
        "colab": {
          "base_uri": "https://localhost:8080/",
          "height": 66
        }
      },
      "source": [
        "y_test.value_counts()"
      ],
      "execution_count": 55,
      "outputs": [
        {
          "output_type": "execute_result",
          "data": {
            "text/plain": [
              "0    85295\n",
              "1      148\n",
              "Name: Class, dtype: int64"
            ]
          },
          "metadata": {
            "tags": []
          },
          "execution_count": 55
        }
      ]
    },
    {
      "cell_type": "code",
      "metadata": {
        "id": "JA73mcnjHUoX",
        "colab_type": "code",
        "colab": {}
      },
      "source": [
        "df_test = X_test.copy()\n",
        "df_test['Class'] = y_test.copy()"
      ],
      "execution_count": 0,
      "outputs": []
    },
    {
      "cell_type": "code",
      "metadata": {
        "id": "BcvIT4GTHUre",
        "colab_type": "code",
        "outputId": "cc74d850-9340-44f3-806c-a163e571c135",
        "colab": {
          "base_uri": "https://localhost:8080/",
          "height": 211
        }
      },
      "source": [
        "# Since our classes are highly skewed we should make them equivalent in order to have a normal distribution of the classes.\n",
        "\n",
        "# Lets shuffle the data before creating the subsamples\n",
        "df_copy = df_test.copy()\n",
        "# df_copy = df_copy.sample(frac=1)\n",
        "\n",
        "fraud_df = df_copy.loc[df_copy['Class'] == 1]\n",
        "non_fraud_df = df_copy.loc[df_copy['Class'] == 0].sample(n=148,random_state=1)\n",
        "\n",
        "normal_distributed_df = pd.concat([fraud_df, non_fraud_df])\n",
        "\n",
        "# Shuffle dataframe rows\n",
        "df_new = normal_distributed_df.sample(frac=1, random_state=1)\n",
        "df_new = df_new.reset_index()\n",
        "df_new = df_new.drop('index', axis=1)\n",
        "df_new.head()"
      ],
      "execution_count": 57,
      "outputs": [
        {
          "output_type": "execute_result",
          "data": {
            "text/html": [
              "<div>\n",
              "<style scoped>\n",
              "    .dataframe tbody tr th:only-of-type {\n",
              "        vertical-align: middle;\n",
              "    }\n",
              "\n",
              "    .dataframe tbody tr th {\n",
              "        vertical-align: top;\n",
              "    }\n",
              "\n",
              "    .dataframe thead th {\n",
              "        text-align: right;\n",
              "    }\n",
              "</style>\n",
              "<table border=\"1\" class=\"dataframe\">\n",
              "  <thead>\n",
              "    <tr style=\"text-align: right;\">\n",
              "      <th></th>\n",
              "      <th>Time</th>\n",
              "      <th>V1</th>\n",
              "      <th>V2</th>\n",
              "      <th>V3</th>\n",
              "      <th>V4</th>\n",
              "      <th>V5</th>\n",
              "      <th>V6</th>\n",
              "      <th>V7</th>\n",
              "      <th>V8</th>\n",
              "      <th>V9</th>\n",
              "      <th>V10</th>\n",
              "      <th>V11</th>\n",
              "      <th>V12</th>\n",
              "      <th>V13</th>\n",
              "      <th>V14</th>\n",
              "      <th>V15</th>\n",
              "      <th>V16</th>\n",
              "      <th>V17</th>\n",
              "      <th>V18</th>\n",
              "      <th>V19</th>\n",
              "      <th>V20</th>\n",
              "      <th>V21</th>\n",
              "      <th>V22</th>\n",
              "      <th>V23</th>\n",
              "      <th>V24</th>\n",
              "      <th>V25</th>\n",
              "      <th>V26</th>\n",
              "      <th>V27</th>\n",
              "      <th>V28</th>\n",
              "      <th>Amount</th>\n",
              "      <th>Class</th>\n",
              "    </tr>\n",
              "  </thead>\n",
              "  <tbody>\n",
              "    <tr>\n",
              "      <th>0</th>\n",
              "      <td>162903.0</td>\n",
              "      <td>-0.390568</td>\n",
              "      <td>0.270001</td>\n",
              "      <td>1.085434</td>\n",
              "      <td>-0.464380</td>\n",
              "      <td>-0.279046</td>\n",
              "      <td>-0.507906</td>\n",
              "      <td>0.218688</td>\n",
              "      <td>-0.041113</td>\n",
              "      <td>0.762716</td>\n",
              "      <td>-0.446903</td>\n",
              "      <td>-1.363403</td>\n",
              "      <td>-0.449710</td>\n",
              "      <td>-0.733004</td>\n",
              "      <td>-0.280190</td>\n",
              "      <td>0.000988</td>\n",
              "      <td>0.329930</td>\n",
              "      <td>-0.570067</td>\n",
              "      <td>0.240442</td>\n",
              "      <td>-0.386314</td>\n",
              "      <td>-0.320266</td>\n",
              "      <td>0.253206</td>\n",
              "      <td>0.876503</td>\n",
              "      <td>-0.017118</td>\n",
              "      <td>0.016664</td>\n",
              "      <td>-0.422901</td>\n",
              "      <td>0.539258</td>\n",
              "      <td>-0.163523</td>\n",
              "      <td>0.026458</td>\n",
              "      <td>25.89</td>\n",
              "      <td>0</td>\n",
              "    </tr>\n",
              "    <tr>\n",
              "      <th>1</th>\n",
              "      <td>129955.0</td>\n",
              "      <td>1.884704</td>\n",
              "      <td>0.535843</td>\n",
              "      <td>-1.116821</td>\n",
              "      <td>3.498523</td>\n",
              "      <td>1.050070</td>\n",
              "      <td>0.480142</td>\n",
              "      <td>0.395467</td>\n",
              "      <td>-0.080441</td>\n",
              "      <td>-1.180259</td>\n",
              "      <td>1.412192</td>\n",
              "      <td>-1.530856</td>\n",
              "      <td>-0.049783</td>\n",
              "      <td>0.895820</td>\n",
              "      <td>0.191061</td>\n",
              "      <td>-0.510240</td>\n",
              "      <td>1.050241</td>\n",
              "      <td>-1.090546</td>\n",
              "      <td>-0.668929</td>\n",
              "      <td>-1.233169</td>\n",
              "      <td>-0.096197</td>\n",
              "      <td>-0.268442</td>\n",
              "      <td>-0.925170</td>\n",
              "      <td>0.271971</td>\n",
              "      <td>-0.042794</td>\n",
              "      <td>-0.184396</td>\n",
              "      <td>-0.358618</td>\n",
              "      <td>-0.048632</td>\n",
              "      <td>-0.032508</td>\n",
              "      <td>56.71</td>\n",
              "      <td>0</td>\n",
              "    </tr>\n",
              "    <tr>\n",
              "      <th>2</th>\n",
              "      <td>159203.0</td>\n",
              "      <td>2.230196</td>\n",
              "      <td>-1.351494</td>\n",
              "      <td>-1.011452</td>\n",
              "      <td>-1.668003</td>\n",
              "      <td>-1.011959</td>\n",
              "      <td>-0.351587</td>\n",
              "      <td>-1.053100</td>\n",
              "      <td>-0.130973</td>\n",
              "      <td>-1.650390</td>\n",
              "      <td>1.708163</td>\n",
              "      <td>0.869462</td>\n",
              "      <td>0.365784</td>\n",
              "      <td>1.240951</td>\n",
              "      <td>-0.381091</td>\n",
              "      <td>-0.980562</td>\n",
              "      <td>-0.459717</td>\n",
              "      <td>0.212848</td>\n",
              "      <td>0.254881</td>\n",
              "      <td>0.142991</td>\n",
              "      <td>-0.311319</td>\n",
              "      <td>-0.098906</td>\n",
              "      <td>0.173737</td>\n",
              "      <td>0.230330</td>\n",
              "      <td>0.772078</td>\n",
              "      <td>-0.159950</td>\n",
              "      <td>-0.221738</td>\n",
              "      <td>0.002684</td>\n",
              "      <td>-0.048924</td>\n",
              "      <td>33.39</td>\n",
              "      <td>0</td>\n",
              "    </tr>\n",
              "    <tr>\n",
              "      <th>3</th>\n",
              "      <td>139279.0</td>\n",
              "      <td>-1.652409</td>\n",
              "      <td>-2.815875</td>\n",
              "      <td>2.317561</td>\n",
              "      <td>-1.209682</td>\n",
              "      <td>0.890838</td>\n",
              "      <td>-0.635322</td>\n",
              "      <td>-1.924706</td>\n",
              "      <td>0.409848</td>\n",
              "      <td>0.421943</td>\n",
              "      <td>0.193755</td>\n",
              "      <td>-0.321328</td>\n",
              "      <td>-0.406484</td>\n",
              "      <td>-1.057505</td>\n",
              "      <td>-1.121810</td>\n",
              "      <td>-2.183406</td>\n",
              "      <td>0.986740</td>\n",
              "      <td>0.119273</td>\n",
              "      <td>-0.416791</td>\n",
              "      <td>1.177313</td>\n",
              "      <td>0.667667</td>\n",
              "      <td>0.367494</td>\n",
              "      <td>0.738055</td>\n",
              "      <td>0.243123</td>\n",
              "      <td>-0.335769</td>\n",
              "      <td>-0.373336</td>\n",
              "      <td>-0.246704</td>\n",
              "      <td>-0.051461</td>\n",
              "      <td>-0.026657</td>\n",
              "      <td>47.48</td>\n",
              "      <td>0</td>\n",
              "    </tr>\n",
              "    <tr>\n",
              "      <th>4</th>\n",
              "      <td>26553.0</td>\n",
              "      <td>-3.696718</td>\n",
              "      <td>3.343293</td>\n",
              "      <td>-1.346614</td>\n",
              "      <td>1.121609</td>\n",
              "      <td>-1.740855</td>\n",
              "      <td>-0.154529</td>\n",
              "      <td>-1.533241</td>\n",
              "      <td>2.542613</td>\n",
              "      <td>0.186620</td>\n",
              "      <td>0.579849</td>\n",
              "      <td>-1.864397</td>\n",
              "      <td>0.165121</td>\n",
              "      <td>-1.233912</td>\n",
              "      <td>1.552874</td>\n",
              "      <td>0.294423</td>\n",
              "      <td>-0.525677</td>\n",
              "      <td>1.433250</td>\n",
              "      <td>-0.278846</td>\n",
              "      <td>0.704639</td>\n",
              "      <td>0.041674</td>\n",
              "      <td>0.000941</td>\n",
              "      <td>-0.065910</td>\n",
              "      <td>0.183955</td>\n",
              "      <td>-0.327592</td>\n",
              "      <td>0.263069</td>\n",
              "      <td>-0.212225</td>\n",
              "      <td>-0.237463</td>\n",
              "      <td>-0.101546</td>\n",
              "      <td>1.00</td>\n",
              "      <td>0</td>\n",
              "    </tr>\n",
              "  </tbody>\n",
              "</table>\n",
              "</div>"
            ],
            "text/plain": [
              "       Time        V1        V2        V3  ...       V27       V28  Amount  Class\n",
              "0  162903.0 -0.390568  0.270001  1.085434  ... -0.163523  0.026458   25.89      0\n",
              "1  129955.0  1.884704  0.535843 -1.116821  ... -0.048632 -0.032508   56.71      0\n",
              "2  159203.0  2.230196 -1.351494 -1.011452  ...  0.002684 -0.048924   33.39      0\n",
              "3  139279.0 -1.652409 -2.815875  2.317561  ... -0.051461 -0.026657   47.48      0\n",
              "4   26553.0 -3.696718  3.343293 -1.346614  ... -0.237463 -0.101546    1.00      0\n",
              "\n",
              "[5 rows x 31 columns]"
            ]
          },
          "metadata": {
            "tags": []
          },
          "execution_count": 57
        }
      ]
    },
    {
      "cell_type": "code",
      "metadata": {
        "id": "UdxseegfHnL8",
        "colab_type": "code",
        "colab": {}
      },
      "source": [
        "X_test_ = df_new.drop('Class', axis=1)\n",
        "y_test_ = df_new['Class'].copy()"
      ],
      "execution_count": 0,
      "outputs": []
    },
    {
      "cell_type": "code",
      "metadata": {
        "id": "6ktpSIR_QPJt",
        "colab_type": "code",
        "outputId": "9b102d70-bbff-4acd-c0f0-f5335ff79e3d",
        "colab": {
          "base_uri": "https://localhost:8080/",
          "height": 66
        }
      },
      "source": [
        "y_test_.value_counts()"
      ],
      "execution_count": 59,
      "outputs": [
        {
          "output_type": "execute_result",
          "data": {
            "text/plain": [
              "1    148\n",
              "0    148\n",
              "Name: Class, dtype: int64"
            ]
          },
          "metadata": {
            "tags": []
          },
          "execution_count": 59
        }
      ]
    },
    {
      "cell_type": "code",
      "metadata": {
        "id": "MiDXkbxkHnJY",
        "colab_type": "code",
        "outputId": "8c47b610-bc46-4aed-cab4-33b7ccbce2c0",
        "colab": {
          "base_uri": "https://localhost:8080/",
          "height": 105
        }
      },
      "source": [
        "result = {}\n",
        "for i in skenario_1:\n",
        "  \n",
        "    clf_skenario = skenario_1[i]\n",
        "    result[i] = validasi_testing(clf_skenario,X_test_,y_test_)\n",
        "    \n",
        "                \n",
        "df_result = pd.DataFrame()\n",
        "for i in skenario_1:\n",
        "    df_result = df_result.append(result[i])\n",
        "    \n",
        "df_result.insert(loc=0, column='No', value=list(range(df_result.shape[0])))\n",
        "df_result = df_result.set_index('No')\n",
        "\n",
        "del df_result.index.name\n",
        "\n",
        "\n",
        "nama_file = 'drive/My Drive/Deteksi fraud/hasil/RUS/ULB/testing_balanced/result.csv'\n",
        "\n",
        "df_result.to_csv(nama_file, sep=';',index=False)\n",
        "\n",
        "df_result\n"
      ],
      "execution_count": 60,
      "outputs": [
        {
          "output_type": "execute_result",
          "data": {
            "text/html": [
              "<div>\n",
              "<style scoped>\n",
              "    .dataframe tbody tr th:only-of-type {\n",
              "        vertical-align: middle;\n",
              "    }\n",
              "\n",
              "    .dataframe tbody tr th {\n",
              "        vertical-align: top;\n",
              "    }\n",
              "\n",
              "    .dataframe thead th {\n",
              "        text-align: right;\n",
              "    }\n",
              "</style>\n",
              "<table border=\"1\" class=\"dataframe\">\n",
              "  <thead>\n",
              "    <tr style=\"text-align: right;\">\n",
              "      <th></th>\n",
              "      <th>Akurasi</th>\n",
              "      <th>Sensitivity</th>\n",
              "      <th>Specifity</th>\n",
              "      <th>precision</th>\n",
              "      <th>recall</th>\n",
              "      <th>f1_score</th>\n",
              "    </tr>\n",
              "  </thead>\n",
              "  <tbody>\n",
              "    <tr>\n",
              "      <th>0</th>\n",
              "      <td>0.932432</td>\n",
              "      <td>0.925676</td>\n",
              "      <td>0.939189</td>\n",
              "      <td>0.938356</td>\n",
              "      <td>0.925676</td>\n",
              "      <td>0.931973</td>\n",
              "    </tr>\n",
              "    <tr>\n",
              "      <th>1</th>\n",
              "      <td>0.942568</td>\n",
              "      <td>0.932432</td>\n",
              "      <td>0.952703</td>\n",
              "      <td>0.951724</td>\n",
              "      <td>0.932432</td>\n",
              "      <td>0.941980</td>\n",
              "    </tr>\n",
              "  </tbody>\n",
              "</table>\n",
              "</div>"
            ],
            "text/plain": [
              "    Akurasi  Sensitivity  Specifity  precision    recall  f1_score\n",
              "0  0.932432     0.925676   0.939189   0.938356  0.925676  0.931973\n",
              "1  0.942568     0.932432   0.952703   0.951724  0.932432  0.941980"
            ]
          },
          "metadata": {
            "tags": []
          },
          "execution_count": 60
        }
      ]
    },
    {
      "cell_type": "code",
      "metadata": {
        "id": "cSpHdpTbHOMI",
        "colab_type": "code",
        "colab": {}
      },
      "source": [
        ""
      ],
      "execution_count": 0,
      "outputs": []
    },
    {
      "cell_type": "markdown",
      "metadata": {
        "id": "dWjzRaCzHPAe",
        "colab_type": "text"
      },
      "source": [
        "------------------"
      ]
    },
    {
      "cell_type": "markdown",
      "metadata": {
        "id": "UlyJrFOBHTxT",
        "colab_type": "text"
      },
      "source": [
        "## feature importance"
      ]
    },
    {
      "cell_type": "code",
      "metadata": {
        "id": "vsEmQWswHnGD",
        "colab_type": "code",
        "colab": {
          "base_uri": "https://localhost:8080/",
          "height": 505
        },
        "outputId": "c6f0e2d5-96a5-42de-b0b3-b14482ccbb3a"
      },
      "source": [
        "#RF\n",
        "importances = clf_RF.feature_importances_\n",
        "indices = np.argsort(importances)[::-1]\n",
        "fitur_importance =[]\n",
        "for f in range(X_new.shape[1]):\n",
        "    if  importances[indices[f]] > 0 :\n",
        "        fitur_importance.append([X_new.columns[indices[f]],importances[indices[f]]])\n",
        "        print(\"%2d) %-*s %f\" % (f + 1, 30,\n",
        "        X_new.columns[indices[f]],\n",
        "        importances[indices[f]]))"
      ],
      "execution_count": 61,
      "outputs": [
        {
          "output_type": "stream",
          "text": [
            " 1) V14                            0.216167\n",
            " 2) V12                            0.162343\n",
            " 3) V4                             0.128359\n",
            " 4) V17                            0.123934\n",
            " 5) V11                            0.079683\n",
            " 6) V2                             0.048816\n",
            " 7) V10                            0.024321\n",
            " 8) V19                            0.021648\n",
            " 9) V20                            0.015250\n",
            "10) V3                             0.015011\n",
            "11) V8                             0.014273\n",
            "12) V15                            0.012697\n",
            "13) V27                            0.011980\n",
            "14) V16                            0.011305\n",
            "15) Time                           0.011222\n",
            "16) V5                             0.011137\n",
            "17) V26                            0.010253\n",
            "18) Amount                         0.008299\n",
            "19) V7                             0.007976\n",
            "20) V18                            0.007733\n",
            "21) V1                             0.007666\n",
            "22) V22                            0.007360\n",
            "23) V13                            0.007281\n",
            "24) V9                             0.007010\n",
            "25) V24                            0.006108\n",
            "26) V23                            0.006101\n",
            "27) V6                             0.006067\n",
            "28) V28                            0.004178\n",
            "29) V21                            0.003551\n",
            "30) V25                            0.002272\n"
          ],
          "name": "stdout"
        }
      ]
    },
    {
      "cell_type": "code",
      "metadata": {
        "id": "EBJaPGAzHc7l",
        "colab_type": "code",
        "colab": {}
      },
      "source": [
        "# df_FI = pd.DataFrame(data=fitur_importance,columns=['fitur','value'])\n",
        "# # np.array(df_FI['fitur'])\n",
        "# df_FI"
      ],
      "execution_count": 0,
      "outputs": []
    },
    {
      "cell_type": "code",
      "metadata": {
        "id": "ZETmMbLBHdJe",
        "colab_type": "code",
        "colab": {
          "base_uri": "https://localhost:8080/",
          "height": 488
        },
        "outputId": "9d89b3b8-d91f-484a-c08e-e44f90c979c3"
      },
      "source": [
        "#GB\n",
        "importances = clf_GB.feature_importances_\n",
        "indices = np.argsort(importances)[::-1]\n",
        "fitur_importance =[]\n",
        "for f in range(X_new.shape[1]):\n",
        "    if  importances[indices[f]] > 0 :\n",
        "        fitur_importance.append([X_new.columns[indices[f]],importances[indices[f]]])\n",
        "        print(\"%2d) %-*s %f\" % (f + 1, 30,\n",
        "        X_new.columns[indices[f]],\n",
        "        importances[indices[f]]))"
      ],
      "execution_count": 63,
      "outputs": [
        {
          "output_type": "stream",
          "text": [
            " 1) V14                            0.732430\n",
            " 2) V12                            0.068184\n",
            " 3) V4                             0.059858\n",
            " 4) V20                            0.019131\n",
            " 5) V3                             0.014287\n",
            " 6) V7                             0.013613\n",
            " 7) V8                             0.012290\n",
            " 8) V19                            0.011904\n",
            " 9) V11                            0.008781\n",
            "10) V18                            0.008405\n",
            "11) V9                             0.007580\n",
            "12) V22                            0.006856\n",
            "13) V15                            0.006127\n",
            "14) V17                            0.004569\n",
            "15) V26                            0.004341\n",
            "16) Amount                         0.004033\n",
            "17) V6                             0.002704\n",
            "18) V23                            0.002422\n",
            "19) V13                            0.002317\n",
            "20) V27                            0.002014\n",
            "21) V21                            0.001691\n",
            "22) V5                             0.001535\n",
            "23) V28                            0.001289\n",
            "24) V25                            0.001142\n",
            "25) V10                            0.001029\n",
            "26) V16                            0.000638\n",
            "27) V1                             0.000533\n",
            "28) V2                             0.000154\n",
            "29) Time                           0.000144\n"
          ],
          "name": "stdout"
        }
      ]
    },
    {
      "cell_type": "code",
      "metadata": {
        "id": "GIOw_LXxHdMd",
        "colab_type": "code",
        "colab": {}
      },
      "source": [
        "# df_FI = pd.DataFrame(data=fitur_importance,columns=['fitur','value'])\n",
        "# # np.array(df_FI['fitur'])\n",
        "# df_FI"
      ],
      "execution_count": 0,
      "outputs": []
    },
    {
      "cell_type": "code",
      "metadata": {
        "id": "lrEYG1rS0pYS",
        "colab_type": "code",
        "colab": {}
      },
      "source": [
        "# dot_data = StringIO()  \n",
        "# tree.export_graphviz(clf.estimators_[8], out_file=dot_data,  \n",
        "#                          feature_names=X_new.columns)  \n",
        "# graph = pydotplus.graph_from_dot_data(dot_data.getvalue())  \n",
        "# Image(graph.create_png())"
      ],
      "execution_count": 0,
      "outputs": []
    },
    {
      "cell_type": "code",
      "metadata": {
        "id": "pnK3ml2W0pYc",
        "colab_type": "code",
        "colab": {}
      },
      "source": [
        "# dot_data = StringIO()  \n",
        "# tree.export_graphviz(clf_DT,out_file=dot_data,feature_names=X_new.columns)  \n",
        "# graph = pydotplus.graph_from_dot_data(dot_data.getvalue())  \n",
        "# Image(graph.create_png())"
      ],
      "execution_count": 0,
      "outputs": []
    },
    {
      "cell_type": "code",
      "metadata": {
        "id": "VvPu11jQHKF3",
        "colab_type": "code",
        "colab": {}
      },
      "source": [
        ""
      ],
      "execution_count": 0,
      "outputs": []
    },
    {
      "cell_type": "markdown",
      "metadata": {
        "id": "5mROyAscHMQX",
        "colab_type": "text"
      },
      "source": [
        ""
      ]
    },
    {
      "cell_type": "markdown",
      "metadata": {
        "id": "BtRSEB3IDbpE",
        "colab_type": "text"
      },
      "source": [
        "-----"
      ]
    },
    {
      "cell_type": "markdown",
      "metadata": {
        "id": "iduJYQkSDfp9",
        "colab_type": "text"
      },
      "source": [
        "## Tuning"
      ]
    },
    {
      "cell_type": "code",
      "metadata": {
        "id": "uLCBXkiu0pYg",
        "colab_type": "code",
        "outputId": "5f9d5cc0-23eb-49ba-ebe0-91131b05ddf4",
        "colab": {
          "base_uri": "https://localhost:8080/",
          "height": 508
        }
      },
      "source": [
        "print(__doc__)\n",
        "\n",
        "import numpy as np\n",
        "\n",
        "from time import time\n",
        "from scipy.stats import randint as sp_randint\n",
        "\n",
        "from sklearn.model_selection import GridSearchCV\n",
        "from sklearn.model_selection import RandomizedSearchCV\n",
        "from sklearn.datasets import load_digits\n",
        "from sklearn.ensemble import RandomForestClassifier\n",
        "\n",
        "# get some data\n",
        "digits = load_digits()\n",
        "X, y = digits.data, digits.target\n",
        "\n",
        "# build a classifier\n",
        "clf = RandomForestClassifier(random_state=1,n_jobs=-1)\n",
        "\n",
        "\n",
        "# Utility function to report best scores\n",
        "def report(results, n_top=3):\n",
        "    for i in range(1, n_top + 1):\n",
        "        candidates = np.flatnonzero(results['rank_test_score'] == i)\n",
        "        for candidate in candidates:\n",
        "            print(\"Model with rank: {0}\".format(i))\n",
        "            print(\"Mean validation score: {0:.3f} (std: {1:.3f})\".format(\n",
        "                  results['mean_test_score'][candidate],\n",
        "                  results['std_test_score'][candidate]))\n",
        "            print(\"Parameters: {0}\".format(results['params'][candidate]))\n",
        "            print(\"\")\n",
        "\n",
        "\n",
        "# specify parameters and distributions to sample from\n",
        "param_dist = {\n",
        "#                 \"max_depth\": [5,9,11,15 ],\n",
        "              'n_estimators' : [10,25,50,75,100],\n",
        "              \"max_features\": ['sqrt','log2',None],\n",
        "#               \"min_samples_split\": sp_randint(2, 11),\n",
        "#               \"bootstrap\": [True, False],\n",
        "#               \"criterion\": [\"gini\", \"entropy\"]\n",
        "             }\n",
        "\n",
        "# run randomized search\n",
        "n_iter_search = 20\n",
        "random_search = RandomizedSearchCV(clf, param_distributions=param_dist,\n",
        "                                   n_iter=n_iter_search, cv=5, iid=False,random_state=1)\n",
        "\n",
        "start = time()\n",
        "random_search.fit(X_new, y_new)\n",
        "print(\"RandomizedSearchCV took %.2f seconds for %d candidates\"\n",
        "      \" parameter settings.\" % ((time() - start), n_iter_search))\n",
        "report(random_search.cv_results_)\n",
        "\n",
        "# use a full grid over all parameters\n",
        "param_grid = {\n",
        "#                 \"max_depth\": [5,9,11,15 ],\n",
        "              'n_estimators' : [10,25,50,75,100],\n",
        "              \"max_features\": ['sqrt','log2',None],\n",
        "#               \"min_samples_split\": sp_randint(2, 11),\n",
        "#               \"min_samples_split\": [2, 3, 10],\n",
        "#               \"bootstrap\": [True, False],\n",
        "#               \"criterion\": [\"gini\", \"entropy\"]\n",
        "             }\n",
        "\n",
        "# run grid search\n",
        "grid_search = GridSearchCV(clf, param_grid=param_grid, cv=5, iid=False)\n",
        "start = time()\n",
        "grid_search.fit(X_new, y_new)\n",
        "\n",
        "print(\"GridSearchCV took %.2f seconds for %d candidate parameter settings.\"\n",
        "      % (time() - start, len(grid_search.cv_results_['params'])))\n",
        "report(grid_search.cv_results_)"
      ],
      "execution_count": 67,
      "outputs": [
        {
          "output_type": "stream",
          "text": [
            "Automatically created module for IPython interactive environment\n"
          ],
          "name": "stdout"
        },
        {
          "output_type": "stream",
          "text": [
            "/usr/local/lib/python3.6/dist-packages/sklearn/model_selection/_search.py:266: UserWarning: The total space of parameters 15 is smaller than n_iter=20. Running 15 iterations. For exhaustive searches, use GridSearchCV.\n",
            "  % (grid_size, self.n_iter, grid_size), UserWarning)\n"
          ],
          "name": "stderr"
        },
        {
          "output_type": "stream",
          "text": [
            "RandomizedSearchCV took 29.75 seconds for 20 candidates parameter settings.\n",
            "Model with rank: 1\n",
            "Mean validation score: 0.932 (std: 0.015)\n",
            "Parameters: {'n_estimators': 10, 'max_features': 'sqrt'}\n",
            "\n",
            "Model with rank: 2\n",
            "Mean validation score: 0.929 (std: 0.017)\n",
            "Parameters: {'n_estimators': 75, 'max_features': 'sqrt'}\n",
            "\n",
            "Model with rank: 2\n",
            "Mean validation score: 0.929 (std: 0.020)\n",
            "Parameters: {'n_estimators': 75, 'max_features': None}\n",
            "\n",
            "GridSearchCV took 27.95 seconds for 15 candidate parameter settings.\n",
            "Model with rank: 1\n",
            "Mean validation score: 0.932 (std: 0.015)\n",
            "Parameters: {'max_features': 'sqrt', 'n_estimators': 10}\n",
            "\n",
            "Model with rank: 2\n",
            "Mean validation score: 0.929 (std: 0.017)\n",
            "Parameters: {'max_features': 'sqrt', 'n_estimators': 75}\n",
            "\n",
            "Model with rank: 2\n",
            "Mean validation score: 0.929 (std: 0.020)\n",
            "Parameters: {'max_features': None, 'n_estimators': 75}\n",
            "\n"
          ],
          "name": "stdout"
        }
      ]
    },
    {
      "cell_type": "code",
      "metadata": {
        "id": "FIRTSU6d0pZd",
        "colab_type": "code",
        "outputId": "0e81e631-6429-4236-fa70-8dd954e6b92e",
        "colab": {
          "base_uri": "https://localhost:8080/",
          "height": 508
        }
      },
      "source": [
        "print(__doc__)\n",
        "\n",
        "import numpy as np\n",
        "\n",
        "from time import time\n",
        "from scipy.stats import randint as sp_randint\n",
        "\n",
        "from sklearn.model_selection import GridSearchCV\n",
        "from sklearn.model_selection import RandomizedSearchCV\n",
        "from sklearn.datasets import load_digits\n",
        "from sklearn.ensemble import RandomForestClassifier\n",
        "\n",
        "# get some data\n",
        "digits = load_digits()\n",
        "X, y = digits.data, digits.target\n",
        "\n",
        "# build a classifier\n",
        "clf = GradientBoostingClassifier(random_state=1)\n",
        "\n",
        "\n",
        "# Utility function to report best scores\n",
        "def report(results, n_top=3):\n",
        "    for i in range(1, n_top + 1):\n",
        "        candidates = np.flatnonzero(results['rank_test_score'] == i)\n",
        "        for candidate in candidates:\n",
        "            print(\"Model with rank: {0}\".format(i))\n",
        "            print(\"Mean validation score: {0:.3f} (std: {1:.3f})\".format(\n",
        "                  results['mean_test_score'][candidate],\n",
        "                  results['std_test_score'][candidate]))\n",
        "            print(\"Parameters: {0}\".format(results['params'][candidate]))\n",
        "            print(\"\")\n",
        "\n",
        "\n",
        "# specify parameters and distributions to sample from\n",
        "param_dist = {\"max_depth\": [3,5,9],\n",
        "              'n_estimators' : [10,25,50,75,100],\n",
        "#               \"max_features\": sp_randint(1, 11),\n",
        "#               \"min_samples_split\": sp_randint(2, 11),\n",
        "#               \"bootstrap\": [True, False],\n",
        "#               \"criterion\": [\"gini\", \"entropy\"]\n",
        "             }\n",
        "\n",
        "# run randomized search\n",
        "n_iter_search = 20\n",
        "random_search = RandomizedSearchCV(clf, param_distributions=param_dist,\n",
        "                                   n_iter=n_iter_search, cv=5, iid=False,random_state=1)\n",
        "\n",
        "start = time()\n",
        "random_search.fit(X_new, y_new)\n",
        "print(\"RandomizedSearchCV took %.2f seconds for %d candidates\"\n",
        "      \" parameter settings.\" % ((time() - start), n_iter_search))\n",
        "report(random_search.cv_results_)\n",
        "\n",
        "# use a full grid over all parameters\n",
        "param_grid = {\"max_depth\": [3,5,9],\n",
        "              'n_estimators' : [10,25,50,75,100],\n",
        "#               \"max_features\": [1, 3, 10],\n",
        "#               \"min_samples_split\": [2, 3, 10],\n",
        "#               \"bootstrap\": [True, False],\n",
        "#               \"criterion\": [\"gini\", \"entropy\"]\n",
        "             }\n",
        "\n",
        "# run grid search\n",
        "grid_search = GridSearchCV(clf, param_grid=param_grid, cv=5, iid=False)\n",
        "start = time()\n",
        "grid_search.fit(X_new, y_new)\n",
        "\n",
        "print(\"GridSearchCV took %.2f seconds for %d candidate parameter settings.\"\n",
        "      % (time() - start, len(grid_search.cv_results_['params'])))\n",
        "report(grid_search.cv_results_)"
      ],
      "execution_count": 68,
      "outputs": [
        {
          "output_type": "stream",
          "text": [
            "Automatically created module for IPython interactive environment\n"
          ],
          "name": "stdout"
        },
        {
          "output_type": "stream",
          "text": [
            "/usr/local/lib/python3.6/dist-packages/sklearn/model_selection/_search.py:266: UserWarning: The total space of parameters 15 is smaller than n_iter=20. Running 15 iterations. For exhaustive searches, use GridSearchCV.\n",
            "  % (grid_size, self.n_iter, grid_size), UserWarning)\n"
          ],
          "name": "stderr"
        },
        {
          "output_type": "stream",
          "text": [
            "RandomizedSearchCV took 20.18 seconds for 20 candidates parameter settings.\n",
            "Model with rank: 1\n",
            "Mean validation score: 0.927 (std: 0.016)\n",
            "Parameters: {'n_estimators': 50, 'max_depth': 3}\n",
            "\n",
            "Model with rank: 2\n",
            "Mean validation score: 0.926 (std: 0.008)\n",
            "Parameters: {'n_estimators': 10, 'max_depth': 3}\n",
            "\n",
            "Model with rank: 3\n",
            "Mean validation score: 0.926 (std: 0.016)\n",
            "Parameters: {'n_estimators': 25, 'max_depth': 3}\n",
            "\n",
            "GridSearchCV took 20.44 seconds for 15 candidate parameter settings.\n",
            "Model with rank: 1\n",
            "Mean validation score: 0.927 (std: 0.016)\n",
            "Parameters: {'max_depth': 3, 'n_estimators': 50}\n",
            "\n",
            "Model with rank: 2\n",
            "Mean validation score: 0.926 (std: 0.008)\n",
            "Parameters: {'max_depth': 3, 'n_estimators': 10}\n",
            "\n",
            "Model with rank: 3\n",
            "Mean validation score: 0.926 (std: 0.016)\n",
            "Parameters: {'max_depth': 3, 'n_estimators': 25}\n",
            "\n"
          ],
          "name": "stdout"
        }
      ]
    },
    {
      "cell_type": "code",
      "metadata": {
        "id": "xjYemfybDjUG",
        "colab_type": "code",
        "colab": {}
      },
      "source": [
        ""
      ],
      "execution_count": 0,
      "outputs": []
    }
  ]
}