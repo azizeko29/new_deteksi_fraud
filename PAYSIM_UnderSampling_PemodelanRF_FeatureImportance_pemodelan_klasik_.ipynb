{
  "nbformat": 4,
  "nbformat_minor": 0,
  "metadata": {
    "colab": {
      "name": "PAYSIM_UnderSampling_PemodelanRF_FeatureImportance_pemodelan_klasik .ipynb",
      "version": "0.3.2",
      "provenance": [],
      "collapsed_sections": [],
      "include_colab_link": true
    },
    "language_info": {
      "codemirror_mode": {
        "name": "ipython",
        "version": 3
      },
      "file_extension": ".py",
      "mimetype": "text/x-python",
      "name": "python",
      "nbconvert_exporter": "python",
      "pygments_lexer": "ipython3",
      "version": "3.7.2"
    },
    "kernelspec": {
      "name": "python3",
      "display_name": "Python 3"
    },
    "accelerator": "GPU"
  },
  "cells": [
    {
      "cell_type": "markdown",
      "metadata": {
        "id": "view-in-github",
        "colab_type": "text"
      },
      "source": [
        "<a href=\"https://colab.research.google.com/github/azizeko29/new_deteksi_fraud/blob/master/PAYSIM_UnderSampling_PemodelanRF_FeatureImportance_pemodelan_klasik_.ipynb\" target=\"_parent\"><img src=\"https://colab.research.google.com/assets/colab-badge.svg\" alt=\"Open In Colab\"/></a>"
      ]
    },
    {
      "cell_type": "code",
      "metadata": {
        "_cell_guid": "b1076dfc-b9ad-4769-8c92-a6c4dae69d19",
        "_uuid": "8f2839f25d086af736a60e9eeb907d3b93b6e0e5",
        "id": "22FDysHu394t",
        "colab_type": "code",
        "colab": {}
      },
      "source": [
        "# This Python 3 environment comes with many helpful analytics libraries installed\n",
        "# It is defined by the kaggle/python docker image: https://github.com/kaggle/docker-python\n",
        "# For example, here's several helpful packages to load in \n",
        "\n",
        "import numpy as np # linear algebra\n",
        "import pandas as pd # data processing, CSV file I/O (e.g. pd.read_csv)\n",
        "# import os\n",
        "import matplotlib.pyplot as plt\n",
        "import seaborn as sns; sns.set()\n",
        "import math\n",
        "import collections\n",
        "import time\n",
        "from scipy import stats"
      ],
      "execution_count": 0,
      "outputs": []
    },
    {
      "cell_type": "code",
      "metadata": {
        "_cell_guid": "79c7e3d0-c299-4dcb-8224-4455121ee9b0",
        "_uuid": "d629ff2d2480ee46fbb7e2d37f6b5fab8052498a",
        "id": "tbTfL4fy3943",
        "colab_type": "code",
        "colab": {}
      },
      "source": [
        "# %matplotlib inline\n",
        "# from IPython.display import display\n",
        "# from sklearn import metrics\n",
        "# from sklearn.model_selection import train_test_split\n",
        "# from sklearn.metrics import mean_squared_error\n",
        "# from statistics import stdev\n",
        "\n",
        "from sklearn import tree\n",
        "\n",
        "from IPython.display import Image  \n",
        "from sklearn.externals.six import StringIO  \n",
        "import pydotplus"
      ],
      "execution_count": 0,
      "outputs": []
    },
    {
      "cell_type": "code",
      "metadata": {
        "id": "zMphm3tmtXQ1",
        "colab_type": "code",
        "colab": {}
      },
      "source": [
        "import pandas as pd\n",
        "import numpy as np\n",
        "%matplotlib inline\n",
        "import matplotlib.pyplot as plt\n",
        "import matplotlib.lines as mlines\n",
        "from mpl_toolkits.mplot3d import Axes3D\n",
        "import seaborn as sns\n",
        "from sklearn.model_selection import train_test_split, learning_curve\n",
        "from sklearn.metrics import average_precision_score\n",
        "from xgboost.sklearn import XGBClassifier\n",
        "from xgboost import plot_importance, to_graphviz"
      ],
      "execution_count": 0,
      "outputs": []
    },
    {
      "cell_type": "code",
      "metadata": {
        "id": "MAkbZM4v395F",
        "colab_type": "code",
        "colab": {}
      },
      "source": [
        "np.random.seed(1)"
      ],
      "execution_count": 0,
      "outputs": []
    },
    {
      "cell_type": "code",
      "metadata": {
        "id": "c5HYDZW8395L",
        "colab_type": "code",
        "colab": {}
      },
      "source": [
        "def confussion_matrik(actual,predict):\n",
        "    TP,FP,FN,TN = 0,0,0,0\n",
        "    for i,val in enumerate(actual):\n",
        "        if val == 0:\n",
        "            if val == predict[i]:\n",
        "                TN += 1\n",
        "            else:\n",
        "                FP += 1\n",
        "        if val == 1:\n",
        "            if val == predict[i]:\n",
        "                TP += 1\n",
        "            else:\n",
        "                FN += 1\n",
        "    return TP,FP,FN,TN\n",
        " \n",
        "def acc_sens_spec(actual,predict):\n",
        "    TP,FP,FN,TN = confussion_matrik(actual,predict)\n",
        "# akurasi\n",
        "    if (TP+FP+FN+TN) == 0 :\n",
        "        accuracy = 0 \n",
        "    else :\n",
        "        accuracy = (TP+TN)/(TP+FP+FN+TN)\n",
        "        \n",
        "# sensitivity\n",
        "    if (TP+FN) == 0 :\n",
        "        sensitivity = 0\n",
        "    else :\n",
        "        sensitivity = TP/(TP+FN)\n",
        "        \n",
        "# specifity    \n",
        "    if (TN +FP) == 0 :\n",
        "        specifity = 0\n",
        "    else :\n",
        "        specifity = TN/(TN +FP)\n",
        "        \n",
        "# precision\n",
        "    if (TP+FP) == 0 :\n",
        "        precision = 0\n",
        "    else :\n",
        "        precision = TP/(TP+FP)\n",
        "\n",
        "# recall\n",
        "    recall = sensitivity\n",
        "\n",
        "# f1_score\n",
        "    if (precision+recall) == 0 :\n",
        "        f1_score = 0\n",
        "    else :\n",
        "        f1_score = 2*((precision*recall)/(precision+recall))  \n",
        "    \n",
        "    return accuracy,sensitivity,specifity,precision,recall,f1_score\n",
        "\n",
        "# Calculate accuracy percentage\n",
        "def accuracy_metric(actual, predicted):\n",
        "    #how many correct predictions?\n",
        "    correct = 0\n",
        "    #for each actual label\n",
        "    for i in range(len(actual)):\n",
        "        #if actual matches predicted label\n",
        "        if actual[i] == predicted[i]:\n",
        "            #add 1 to the correct iterator\n",
        "            correct += 1\n",
        "    #return percentage of predictions that were correct\n",
        "    return correct / float(len(actual)) * 100.0"
      ],
      "execution_count": 0,
      "outputs": []
    },
    {
      "cell_type": "code",
      "metadata": {
        "id": "uz3ekzZA395P",
        "colab_type": "code",
        "colab": {}
      },
      "source": [
        "# confussion_matrik(y,pred)"
      ],
      "execution_count": 0,
      "outputs": []
    },
    {
      "cell_type": "code",
      "metadata": {
        "id": "Z-NPyupE395U",
        "colab_type": "code",
        "colab": {}
      },
      "source": [
        "# accuracy,sensitivity,specifity = acc_sens_spec(y,pred)\n",
        "# print('acc',accuracy)\n",
        "# print('sens',sensitivity)\n",
        "# print('spec',specifity)"
      ],
      "execution_count": 0,
      "outputs": []
    },
    {
      "cell_type": "code",
      "metadata": {
        "scrolled": true,
        "id": "r_rwSOHL395Z",
        "colab_type": "code",
        "colab": {}
      },
      "source": [
        "# accuracy_metric(y,RF.predict(X))"
      ],
      "execution_count": 0,
      "outputs": []
    },
    {
      "cell_type": "code",
      "metadata": {
        "id": "V8lUgYsn395e",
        "colab_type": "code",
        "colab": {}
      },
      "source": [
        "def cross_val_split(X,fold=2,seed=0):\n",
        "    np.random.seed(seed)\n",
        "    n_folds= fold\n",
        "    size = X.shape[0]/n_folds\n",
        "    X_idx = list(range(X.shape[0]))\n",
        "    folds_data= []\n",
        "    for i in range(n_folds):\n",
        "#         print(X_idx)\n",
        "        random_idx = list(np.random.choice(X_idx,int(size),replace=False))\n",
        "#         print(random_idx)\n",
        "        X_idx = [idx for idx in X_idx if idx not in random_idx]\n",
        "#         print(X_idx)\n",
        "\n",
        "        folds_data.append(random_idx)\n",
        "#         print(\"--\")\n",
        "    return folds_data\n",
        "\n",
        "def kfold_cross_validation(model,X,y, n_fold=2, n_seed=0):\n",
        "    folds = cross_val_split(X,fold=n_fold,seed=n_seed)\n",
        "    fold_result =[]\n",
        "    for i in range(len(folds)):\n",
        "    #     print(i)\n",
        "        train = []\n",
        "        for j in range(len(folds)):\n",
        "            if j != i:\n",
        "                train = train + folds[j]\n",
        "        test = folds[i]\n",
        "\n",
        "        X_train = X.iloc[train,:].reset_index(drop=True)\n",
        "        y_train = y[train].reset_index(drop=True)\n",
        "\n",
        "        X_test = X.iloc[test,:].reset_index(drop=True)\n",
        "        y_test = y[test].reset_index(drop=True)\n",
        "\n",
        "\n",
        "        t0 = time.time()\n",
        "        model.fit(X_train, y_train)\n",
        "        t1 = time.time()\n",
        "        waktu = t1 - t0\n",
        "\n",
        "        predict = model.predict(X_test)\n",
        "        accuracy,sensitivity,specifity,precision,recall,f1_score = acc_sens_spec(y_test,predict)\n",
        "\n",
        "        result = [accuracy,sensitivity,specifity,precision,recall,f1_score,waktu]\n",
        "        fold_result.append(result)\n",
        "        \n",
        "    return fold_result"
      ],
      "execution_count": 0,
      "outputs": []
    },
    {
      "cell_type": "code",
      "metadata": {
        "id": "v9PVS2Z-395k",
        "colab_type": "code",
        "colab": {}
      },
      "source": [
        "from sklearn.decomposition import PCA\n",
        "import pylab as pl\n",
        "def plot_this(X_rs,y_rs,method):\n",
        "  # Use principal component to condense the 10 features to 2 features\n",
        "  pca = PCA(n_components=2).fit(X_rs)\n",
        "  pca_2d = pca.transform(X_rs)\n",
        "  # Assign colors\n",
        "  for i in range(0, pca_2d.shape[0]):\n",
        "    if y_rs[i] == 0:\n",
        "      c1 = pl.scatter(pca_2d[i,0],pca_2d[i,1],c='r', marker='o')\n",
        "    elif y_rs[i] == 1:\n",
        "      c2 = pl.scatter(pca_2d[i,0],pca_2d[i,1],c='g', marker='*')  \n",
        "  pl.legend([c1, c2], ['Class 1', 'Class 2'])\n",
        "  pl.title(method)\n",
        "  pl.axis([-4, 5, -4, 4])  # x axis (-4,5), y axis (-4,4)\n",
        "  pl.show()\n",
        "    \n"
      ],
      "execution_count": 0,
      "outputs": []
    },
    {
      "cell_type": "markdown",
      "metadata": {
        "id": "FCAnjxbX395s",
        "colab_type": "text"
      },
      "source": [
        "## ---------"
      ]
    },
    {
      "cell_type": "code",
      "metadata": {
        "id": "E_CCe_Lg6ZdE",
        "colab_type": "code",
        "colab": {}
      },
      "source": [
        "# Code to read csv file into Colaboratory:\n",
        "!pip install -U -q PyDrive\n",
        "from pydrive.auth import GoogleAuth\n",
        "from pydrive.drive import GoogleDrive\n",
        "from google.colab import auth\n",
        "from oauth2client.client import GoogleCredentials\n",
        "# Authenticate and create the PyDrive client.\n",
        "auth.authenticate_user()\n",
        "gauth = GoogleAuth()\n",
        "gauth.credentials = GoogleCredentials.get_application_default()\n",
        "drive = GoogleDrive(gauth)"
      ],
      "execution_count": 0,
      "outputs": []
    },
    {
      "cell_type": "code",
      "metadata": {
        "id": "LAvPtllz6ZXz",
        "colab_type": "code",
        "outputId": "c6f0eccf-dbe8-4884-9bc0-3ccfd1407d56",
        "colab": {
          "base_uri": "https://localhost:8080/",
          "height": 34
        }
      },
      "source": [
        "link = 'https://drive.google.com/open?id=1wdm61XLjzHJTfIKjRMoZfheww2HLAR0I' # The shareable link\n",
        "\n",
        "fluff, id = link.split('=')\n",
        "print (id) # Verify that you have everything after '='"
      ],
      "execution_count": 104,
      "outputs": [
        {
          "output_type": "stream",
          "text": [
            "1wdm61XLjzHJTfIKjRMoZfheww2HLAR0I\n"
          ],
          "name": "stdout"
        }
      ]
    },
    {
      "cell_type": "code",
      "metadata": {
        "id": "NgzAW6UF6vdt",
        "colab_type": "code",
        "colab": {}
      },
      "source": [
        "downloaded = drive.CreateFile({'id':id}) \n",
        "downloaded.GetContentFile('paysim.csv')  \n",
        "read_df = pd.read_csv('paysim.csv')\n",
        "# Dataset is now stored in a Pandas Dataframe\n",
        "# df.info()"
      ],
      "execution_count": 0,
      "outputs": []
    },
    {
      "cell_type": "code",
      "metadata": {
        "id": "dBC8yAEd3954",
        "colab_type": "code",
        "colab": {}
      },
      "source": [
        "df = read_df.copy()\n",
        "df['Class'] = read_df['isFraud']\n",
        "df = df.drop(['isFraud'], axis=1)"
      ],
      "execution_count": 0,
      "outputs": []
    },
    {
      "cell_type": "code",
      "metadata": {
        "id": "gl55E3qX396A",
        "colab_type": "code",
        "outputId": "9447e853-687b-4c42-f11b-b1556aea8c1a",
        "colab": {
          "base_uri": "https://localhost:8080/",
          "height": 34
        }
      },
      "source": [
        "df.shape"
      ],
      "execution_count": 107,
      "outputs": [
        {
          "output_type": "execute_result",
          "data": {
            "text/plain": [
              "(6362620, 11)"
            ]
          },
          "metadata": {
            "tags": []
          },
          "execution_count": 107
        }
      ]
    },
    {
      "cell_type": "code",
      "metadata": {
        "scrolled": true,
        "id": "TgGWtIER396Y",
        "colab_type": "code",
        "outputId": "b3706321-42b7-46ba-96bc-a2e65cc262b8",
        "colab": {
          "base_uri": "https://localhost:8080/",
          "height": 289
        }
      },
      "source": [
        "df.info()"
      ],
      "execution_count": 108,
      "outputs": [
        {
          "output_type": "stream",
          "text": [
            "<class 'pandas.core.frame.DataFrame'>\n",
            "RangeIndex: 6362620 entries, 0 to 6362619\n",
            "Data columns (total 11 columns):\n",
            "step              int64\n",
            "type              object\n",
            "amount            float64\n",
            "nameOrig          object\n",
            "oldbalanceOrg     float64\n",
            "newbalanceOrig    float64\n",
            "nameDest          object\n",
            "oldbalanceDest    float64\n",
            "newbalanceDest    float64\n",
            "isFlaggedFraud    int64\n",
            "Class             int64\n",
            "dtypes: float64(5), int64(3), object(3)\n",
            "memory usage: 534.0+ MB\n"
          ],
          "name": "stdout"
        }
      ]
    },
    {
      "cell_type": "code",
      "metadata": {
        "id": "yexsmrNA396g",
        "colab_type": "code",
        "outputId": "4ecf4ec3-f8b7-4bd9-d99b-3c6346e3f2af",
        "colab": {
          "base_uri": "https://localhost:8080/",
          "height": 68
        }
      },
      "source": [
        "df['Class'].value_counts()"
      ],
      "execution_count": 109,
      "outputs": [
        {
          "output_type": "execute_result",
          "data": {
            "text/plain": [
              "0    6354407\n",
              "1       8213\n",
              "Name: Class, dtype: int64"
            ]
          },
          "metadata": {
            "tags": []
          },
          "execution_count": 109
        }
      ]
    },
    {
      "cell_type": "code",
      "metadata": {
        "id": "QAZze2R5396q",
        "colab_type": "code",
        "outputId": "a00b506c-2b4b-45dd-853d-7659d47638d5",
        "colab": {
          "base_uri": "https://localhost:8080/",
          "height": 429
        }
      },
      "source": [
        "plt.figure(1,figsize=(5, 5), dpi=80)\n",
        "plt.grid(color='b', linestyle='-', linewidth=0.2)\n",
        "plt.title('Class Distributions \\n (0: No Fraud || 1: Fraud)', fontsize=14)\n",
        "sns.countplot('Class', data=df,palette='Set2')\n"
      ],
      "execution_count": 110,
      "outputs": [
        {
          "output_type": "execute_result",
          "data": {
            "text/plain": [
              "<matplotlib.axes._subplots.AxesSubplot at 0x7fe171ad29b0>"
            ]
          },
          "metadata": {
            "tags": []
          },
          "execution_count": 110
        },
        {
          "output_type": "display_data",
          "data": {
            "image/png": "[encoded data removed]",
            "text/plain": [
              "<Figure size 400x400 with 1 Axes>"
            ]
          },
          "metadata": {
            "tags": []
          }
        }
      ]
    },
    {
      "cell_type": "code",
      "metadata": {
        "id": "UKC6IDWt3962",
        "colab_type": "code",
        "outputId": "36ecf1a9-84d9-4a13-d6d4-678fb325adcf",
        "colab": {
          "base_uri": "https://localhost:8080/",
          "height": 34
        }
      },
      "source": [
        "count = 0\n",
        "for a in df.columns:\n",
        "    if df[a].isnull().sum() > 0 :\n",
        "        print(a)\n",
        "        count+=1\n",
        "count"
      ],
      "execution_count": 111,
      "outputs": [
        {
          "output_type": "execute_result",
          "data": {
            "text/plain": [
              "0"
            ]
          },
          "metadata": {
            "tags": []
          },
          "execution_count": 111
        }
      ]
    },
    {
      "cell_type": "code",
      "metadata": {
        "id": "0Z7udCLl397c",
        "colab_type": "code",
        "outputId": "79c0b661-f581-4a04-9e3d-fc3d775325f6",
        "colab": {
          "base_uri": "https://localhost:8080/",
          "height": 34
        }
      },
      "source": [
        "len(df.columns)"
      ],
      "execution_count": 112,
      "outputs": [
        {
          "output_type": "execute_result",
          "data": {
            "text/plain": [
              "11"
            ]
          },
          "metadata": {
            "tags": []
          },
          "execution_count": 112
        }
      ]
    },
    {
      "cell_type": "code",
      "metadata": {
        "id": "4N_0YeQ2397p",
        "colab_type": "code",
        "colab": {}
      },
      "source": [
        "df = df.rename(columns={'oldbalanceOrg':'oldBalanceOrig', 'newbalanceOrig':'newBalanceOrig',\n",
        "                        'oldbalanceDest':'oldBalanceDest', 'newbalanceDest':'newBalanceDest'})"
      ],
      "execution_count": 0,
      "outputs": []
    },
    {
      "cell_type": "code",
      "metadata": {
        "id": "pVnvdUNA397u",
        "colab_type": "code",
        "outputId": "1c352c47-b9cd-4c1e-b187-7e0ebdb9f2da",
        "colab": {
          "base_uri": "https://localhost:8080/",
          "height": 34
        }
      },
      "source": [
        "df.isnull().values.any()"
      ],
      "execution_count": 114,
      "outputs": [
        {
          "output_type": "execute_result",
          "data": {
            "text/plain": [
              "False"
            ]
          },
          "metadata": {
            "tags": []
          },
          "execution_count": 114
        }
      ]
    },
    {
      "cell_type": "markdown",
      "metadata": {
        "id": "uh9J6nJhEK72",
        "colab_type": "text"
      },
      "source": [
        "----------------------------------"
      ]
    },
    {
      "cell_type": "markdown",
      "metadata": {
        "id": "qOkRFKnJEEMJ",
        "colab_type": "text"
      },
      "source": [
        "2.1. Which types of transactions are fraudulent?\n",
        "We find that of the five types of transactions, fraud occurs only in two of them (see also kernels by Net, Philipp Schmidt and Ibe_Noriaki): 'TRANSFER' where money is sent to a customer / fraudster and 'CASH_OUT' where money is sent to a merchant who pays the customer / fraudster in cash. Remarkably, the number of fraudulent TRANSFERs almost equals the number of fraudulent CASH_OUTs (see the right half of the plot in section 5.1). These observations appear, at first, to bear out the description provided on Kaggle for the modus operandi of fraudulent transactions in this dataset, namely, fraud is committed by first transferring out funds to another account which subsequently cashes it out. We will return to this issue later in section 2.4"
      ]
    },
    {
      "cell_type": "code",
      "metadata": {
        "id": "KD_TlEgGDhD6",
        "colab_type": "code",
        "outputId": "f8c1f1ae-8712-4719-dba0-88385a23ebd2",
        "colab": {
          "base_uri": "https://localhost:8080/",
          "height": 119
        }
      },
      "source": [
        "print('\\n The types of fraudulent transactions are {}'.format(\\\n",
        "list(df.loc[df.Class == 1].type.drop_duplicates().values))) # only 'CASH_OUT' \n",
        "                                                             # & 'TRANSFER'\n",
        "\n",
        "dfFraudTransfer = df.loc[(df.Class == 1) & (df.type == 'TRANSFER')]\n",
        "dfFraudCashout = df.loc[(df.Class == 1) & (df.type == 'CASH_OUT')]\n",
        "\n",
        "print ('\\n The number of fraudulent TRANSFERs = {}'.\\\n",
        "       format(len(dfFraudTransfer))) # 4097\n",
        "\n",
        "print ('\\n The number of fraudulent CASH_OUTs = {}'.\\\n",
        "       format(len(dfFraudCashout))) # 4116"
      ],
      "execution_count": 115,
      "outputs": [
        {
          "output_type": "stream",
          "text": [
            "\n",
            " The types of fraudulent transactions are ['TRANSFER', 'CASH_OUT']\n",
            "\n",
            " The number of fraudulent TRANSFERs = 4097\n",
            "\n",
            " The number of fraudulent CASH_OUTs = 4116\n"
          ],
          "name": "stdout"
        }
      ]
    },
    {
      "cell_type": "code",
      "metadata": {
        "id": "2RtKlVwwhIrX",
        "colab_type": "code",
        "outputId": "4c2088d1-035b-4d19-bd0e-00d0575cd659",
        "colab": {
          "base_uri": "https://localhost:8080/",
          "height": 119
        }
      },
      "source": [
        "df['type'].value_counts()"
      ],
      "execution_count": 116,
      "outputs": [
        {
          "output_type": "execute_result",
          "data": {
            "text/plain": [
              "CASH_OUT    2237500\n",
              "PAYMENT     2151495\n",
              "CASH_IN     1399284\n",
              "TRANSFER     532909\n",
              "DEBIT         41432\n",
              "Name: type, dtype: int64"
            ]
          },
          "metadata": {
            "tags": []
          },
          "execution_count": 116
        }
      ]
    },
    {
      "cell_type": "code",
      "metadata": {
        "id": "MuzLSX29hpCn",
        "colab_type": "code",
        "outputId": "229aa0f5-45df-403e-caf6-58404ffb1ad3",
        "colab": {
          "base_uri": "https://localhost:8080/",
          "height": 68
        }
      },
      "source": [
        "df['Class'].value_counts()"
      ],
      "execution_count": 117,
      "outputs": [
        {
          "output_type": "execute_result",
          "data": {
            "text/plain": [
              "0    6354407\n",
              "1       8213\n",
              "Name: Class, dtype: int64"
            ]
          },
          "metadata": {
            "tags": []
          },
          "execution_count": 117
        }
      ]
    },
    {
      "cell_type": "code",
      "metadata": {
        "id": "QY5DPo9IYjxa",
        "colab_type": "code",
        "colab": {}
      },
      "source": [
        "X = df.loc[(df.type == 'TRANSFER') | (df.type == 'CASH_OUT')]\n",
        "\n",
        "randomState = 5\n",
        "np.random.seed(randomState)\n",
        "\n",
        "#X = X.loc[np.random.choice(X.index, 100000, replace = False)]\n",
        "\n",
        "Y = X['Class']\n",
        "del X['Class']\n",
        "\n",
        "# Eliminate columns shown to be irrelevant for analysis in the EDA\n",
        "X = X.drop(['nameOrig', 'nameDest', 'isFlaggedFraud'], axis = 1)\n",
        "\n",
        "# Binary-encoding of labelled data in 'type'\n",
        "X.loc[X.type == 'TRANSFER', 'type'] = 0\n",
        "X.loc[X.type == 'CASH_OUT', 'type'] = 1\n",
        "X.type = X.type.astype(int) # convert dtype('O') to dtype(int)"
      ],
      "execution_count": 0,
      "outputs": []
    },
    {
      "cell_type": "code",
      "metadata": {
        "id": "TYuV-DpaYmA6",
        "colab_type": "code",
        "colab": {
          "base_uri": "https://localhost:8080/",
          "height": 85
        },
        "outputId": "84e9ba61-97a0-4b40-f096-9c0cfa73be84"
      },
      "source": [
        "Xfraud = X.loc[Y == 1]\n",
        "XnonFraud = X.loc[Y == 0]\n",
        "print('\\nThe fraction of fraudulent transactions with \\'oldBalanceDest\\' = \\\n",
        "\\'newBalanceDest\\' = 0 although the transacted \\'amount\\' is non-zero is: {}'.\\\n",
        "format(len(Xfraud.loc[(Xfraud.oldBalanceDest == 0) & \\\n",
        "(Xfraud.newBalanceDest == 0) & (Xfraud.amount)]) / (1.0 * len(Xfraud))))\n",
        "\n",
        "print('\\nThe fraction of genuine transactions with \\'oldBalanceDest\\' = \\\n",
        "newBalanceDest\\' = 0 although the transacted \\'amount\\' is non-zero is: {}'.\\\n",
        "format(len(XnonFraud.loc[(XnonFraud.oldBalanceDest == 0) & \\\n",
        "(XnonFraud.newBalanceDest == 0) & (XnonFraud.amount)]) / (1.0 * len(XnonFraud))))"
      ],
      "execution_count": 119,
      "outputs": [
        {
          "output_type": "stream",
          "text": [
            "\n",
            "The fraction of fraudulent transactions with 'oldBalanceDest' = 'newBalanceDest' = 0 although the transacted 'amount' is non-zero is: 0.4955558261293072\n",
            "\n",
            "The fraction of genuine transactions with 'oldBalanceDest' = newBalanceDest' = 0 although the transacted 'amount' is non-zero is: 0.0006176245277308345\n"
          ],
          "name": "stdout"
        }
      ]
    },
    {
      "cell_type": "markdown",
      "metadata": {
        "id": "oKhJ2LRzTehQ",
        "colab_type": "text"
      },
      "source": [
        "Since the destination account balances being zero is a strong indicator of fraud, we do not impute the account balance (before the transaction is made) with a statistic or from a distribution with a subsequent adjustment for the amount transacted. Doing so would mask this indicator of fraud and make fraudulent transactions appear genuine. Instead, below we replace the value of 0 with -1 which will be more useful to a suitable machine-learning (ML) algorithm detecting fraud."
      ]
    },
    {
      "cell_type": "code",
      "metadata": {
        "id": "UWaulndOrVFl",
        "colab_type": "code",
        "colab": {}
      },
      "source": [
        "X.loc[(X.oldBalanceOrig == 0) & (X.newBalanceOrig == 0) & (X.amount != 0), \\\n",
        "      ['oldBalanceOrig', 'newBalanceOrig']] = np.nan"
      ],
      "execution_count": 0,
      "outputs": []
    },
    {
      "cell_type": "code",
      "metadata": {
        "id": "fqXj6mAPk7gb",
        "colab_type": "code",
        "colab": {}
      },
      "source": [
        "X.loc[(X.oldBalanceDest == 0) & (X.newBalanceDest == 0) & (X.amount != 0), \\\n",
        "      ['oldBalanceDest', 'newBalanceDest']] = - 1"
      ],
      "execution_count": 0,
      "outputs": []
    },
    {
      "cell_type": "code",
      "metadata": {
        "id": "juF6JMNOof-q",
        "colab_type": "code",
        "colab": {}
      },
      "source": [
        "X['errorBalanceOrig'] = X.newBalanceOrig + X.amount - X.oldBalanceOrig\n",
        "X['errorBalanceDest'] = X.oldBalanceDest + X.amount - X.newBalanceDest"
      ],
      "execution_count": 0,
      "outputs": []
    },
    {
      "cell_type": "code",
      "metadata": {
        "id": "1Fqxyucj398h",
        "colab_type": "code",
        "colab": {
          "base_uri": "https://localhost:8080/",
          "height": 204
        },
        "outputId": "6990706c-8c78-49d3-bf65-b8bd8029431b"
      },
      "source": [
        "df = df.reset_index(drop=True)\n",
        "df.tail()"
      ],
      "execution_count": 123,
      "outputs": [
        {
          "output_type": "execute_result",
          "data": {
            "text/html": [
              "<div>\n",
              "<style scoped>\n",
              "    .dataframe tbody tr th:only-of-type {\n",
              "        vertical-align: middle;\n",
              "    }\n",
              "\n",
              "    .dataframe tbody tr th {\n",
              "        vertical-align: top;\n",
              "    }\n",
              "\n",
              "    .dataframe thead th {\n",
              "        text-align: right;\n",
              "    }\n",
              "</style>\n",
              "<table border=\"1\" class=\"dataframe\">\n",
              "  <thead>\n",
              "    <tr style=\"text-align: right;\">\n",
              "      <th></th>\n",
              "      <th>step</th>\n",
              "      <th>type</th>\n",
              "      <th>amount</th>\n",
              "      <th>nameOrig</th>\n",
              "      <th>oldBalanceOrig</th>\n",
              "      <th>newBalanceOrig</th>\n",
              "      <th>nameDest</th>\n",
              "      <th>oldBalanceDest</th>\n",
              "      <th>newBalanceDest</th>\n",
              "      <th>isFlaggedFraud</th>\n",
              "      <th>Class</th>\n",
              "    </tr>\n",
              "  </thead>\n",
              "  <tbody>\n",
              "    <tr>\n",
              "      <th>6362615</th>\n",
              "      <td>743</td>\n",
              "      <td>CASH_OUT</td>\n",
              "      <td>339682.13</td>\n",
              "      <td>C786484425</td>\n",
              "      <td>339682.13</td>\n",
              "      <td>0.0</td>\n",
              "      <td>C776919290</td>\n",
              "      <td>0.00</td>\n",
              "      <td>339682.13</td>\n",
              "      <td>0</td>\n",
              "      <td>1</td>\n",
              "    </tr>\n",
              "    <tr>\n",
              "      <th>6362616</th>\n",
              "      <td>743</td>\n",
              "      <td>TRANSFER</td>\n",
              "      <td>6311409.28</td>\n",
              "      <td>C1529008245</td>\n",
              "      <td>6311409.28</td>\n",
              "      <td>0.0</td>\n",
              "      <td>C1881841831</td>\n",
              "      <td>0.00</td>\n",
              "      <td>0.00</td>\n",
              "      <td>0</td>\n",
              "      <td>1</td>\n",
              "    </tr>\n",
              "    <tr>\n",
              "      <th>6362617</th>\n",
              "      <td>743</td>\n",
              "      <td>CASH_OUT</td>\n",
              "      <td>6311409.28</td>\n",
              "      <td>C1162922333</td>\n",
              "      <td>6311409.28</td>\n",
              "      <td>0.0</td>\n",
              "      <td>C1365125890</td>\n",
              "      <td>68488.84</td>\n",
              "      <td>6379898.11</td>\n",
              "      <td>0</td>\n",
              "      <td>1</td>\n",
              "    </tr>\n",
              "    <tr>\n",
              "      <th>6362618</th>\n",
              "      <td>743</td>\n",
              "      <td>TRANSFER</td>\n",
              "      <td>850002.52</td>\n",
              "      <td>C1685995037</td>\n",
              "      <td>850002.52</td>\n",
              "      <td>0.0</td>\n",
              "      <td>C2080388513</td>\n",
              "      <td>0.00</td>\n",
              "      <td>0.00</td>\n",
              "      <td>0</td>\n",
              "      <td>1</td>\n",
              "    </tr>\n",
              "    <tr>\n",
              "      <th>6362619</th>\n",
              "      <td>743</td>\n",
              "      <td>CASH_OUT</td>\n",
              "      <td>850002.52</td>\n",
              "      <td>C1280323807</td>\n",
              "      <td>850002.52</td>\n",
              "      <td>0.0</td>\n",
              "      <td>C873221189</td>\n",
              "      <td>6510099.11</td>\n",
              "      <td>7360101.63</td>\n",
              "      <td>0</td>\n",
              "      <td>1</td>\n",
              "    </tr>\n",
              "  </tbody>\n",
              "</table>\n",
              "</div>"
            ],
            "text/plain": [
              "         step      type      amount  ... newBalanceDest  isFlaggedFraud  Class\n",
              "6362615   743  CASH_OUT   339682.13  ...      339682.13               0      1\n",
              "6362616   743  TRANSFER  6311409.28  ...           0.00               0      1\n",
              "6362617   743  CASH_OUT  6311409.28  ...     6379898.11               0      1\n",
              "6362618   743  TRANSFER   850002.52  ...           0.00               0      1\n",
              "6362619   743  CASH_OUT   850002.52  ...     7360101.63               0      1\n",
              "\n",
              "[5 rows x 11 columns]"
            ]
          },
          "metadata": {
            "tags": []
          },
          "execution_count": 123
        }
      ]
    },
    {
      "cell_type": "code",
      "metadata": {
        "id": "LLOAU2KA398m",
        "colab_type": "code",
        "colab": {
          "base_uri": "https://localhost:8080/",
          "height": 68
        },
        "outputId": "daadebda-a016-4b34-f6fc-2de0545edbd7"
      },
      "source": [
        "df['Class'].value_counts()"
      ],
      "execution_count": 124,
      "outputs": [
        {
          "output_type": "execute_result",
          "data": {
            "text/plain": [
              "0    6354407\n",
              "1       8213\n",
              "Name: Class, dtype: int64"
            ]
          },
          "metadata": {
            "tags": []
          },
          "execution_count": 124
        }
      ]
    },
    {
      "cell_type": "code",
      "metadata": {
        "id": "aMVNk7JCtw4l",
        "colab_type": "code",
        "colab": {
          "base_uri": "https://localhost:8080/",
          "height": 85
        },
        "outputId": "110ebdd8-0052-4fa8-ab5f-a0bcd229668b"
      },
      "source": [
        "df.columns"
      ],
      "execution_count": 125,
      "outputs": [
        {
          "output_type": "execute_result",
          "data": {
            "text/plain": [
              "Index(['step', 'type', 'amount', 'nameOrig', 'oldBalanceOrig',\n",
              "       'newBalanceOrig', 'nameDest', 'oldBalanceDest', 'newBalanceDest',\n",
              "       'isFlaggedFraud', 'Class'],\n",
              "      dtype='object')"
            ]
          },
          "metadata": {
            "tags": []
          },
          "execution_count": 125
        }
      ]
    },
    {
      "cell_type": "code",
      "metadata": {
        "id": "hb7-UGV8x-RK",
        "colab_type": "code",
        "colab": {}
      },
      "source": [
        "df_ = df.copy()"
      ],
      "execution_count": 0,
      "outputs": []
    },
    {
      "cell_type": "code",
      "metadata": {
        "id": "XBwckOOd398w",
        "colab_type": "code",
        "colab": {}
      },
      "source": [
        "# df['type'].unique()"
      ],
      "execution_count": 0,
      "outputs": []
    },
    {
      "cell_type": "code",
      "metadata": {
        "id": "ZwPljWNgv3Zu",
        "colab_type": "code",
        "colab": {}
      },
      "source": [
        "a = {}\n",
        "i = 1\n",
        "for m in df_['type'].unique():\n",
        "  if m not in a :\n",
        "    a[m] = i\n",
        "    i +=1\n",
        "    \n",
        "df_['type'] = df_['type'].map(a)\n",
        "# a"
      ],
      "execution_count": 0,
      "outputs": []
    },
    {
      "cell_type": "code",
      "metadata": {
        "id": "m7Q41GZR1wtz",
        "colab_type": "code",
        "colab": {}
      },
      "source": [
        "a = {}\n",
        "i = 1\n",
        "for m in df_['nameOrig'].unique():\n",
        "  if m not in a :\n",
        "    a[m] = i\n",
        "    i +=1\n",
        "    \n",
        "df_['nameOrig'] = df_['nameOrig'].map(a)"
      ],
      "execution_count": 0,
      "outputs": []
    },
    {
      "cell_type": "code",
      "metadata": {
        "id": "vPpacNcv12Bk",
        "colab_type": "code",
        "colab": {}
      },
      "source": [
        "a = {}\n",
        "i = 1\n",
        "for m in df_['nameDest'].unique():\n",
        "  if m not in a :\n",
        "    a[m] = i\n",
        "    i +=1\n",
        "    \n",
        "df_['nameDest'] = df_['nameDest'].map(a)"
      ],
      "execution_count": 0,
      "outputs": []
    },
    {
      "cell_type": "code",
      "metadata": {
        "id": "JrOOo4FVwfCl",
        "colab_type": "code",
        "colab": {
          "base_uri": "https://localhost:8080/",
          "height": 204
        },
        "outputId": "b1656630-8a88-4cc7-ced4-83d9bcac1245"
      },
      "source": [
        "df_.tail()"
      ],
      "execution_count": 131,
      "outputs": [
        {
          "output_type": "execute_result",
          "data": {
            "text/html": [
              "<div>\n",
              "<style scoped>\n",
              "    .dataframe tbody tr th:only-of-type {\n",
              "        vertical-align: middle;\n",
              "    }\n",
              "\n",
              "    .dataframe tbody tr th {\n",
              "        vertical-align: top;\n",
              "    }\n",
              "\n",
              "    .dataframe thead th {\n",
              "        text-align: right;\n",
              "    }\n",
              "</style>\n",
              "<table border=\"1\" class=\"dataframe\">\n",
              "  <thead>\n",
              "    <tr style=\"text-align: right;\">\n",
              "      <th></th>\n",
              "      <th>step</th>\n",
              "      <th>type</th>\n",
              "      <th>amount</th>\n",
              "      <th>nameOrig</th>\n",
              "      <th>oldBalanceOrig</th>\n",
              "      <th>newBalanceOrig</th>\n",
              "      <th>nameDest</th>\n",
              "      <th>oldBalanceDest</th>\n",
              "      <th>newBalanceDest</th>\n",
              "      <th>isFlaggedFraud</th>\n",
              "      <th>Class</th>\n",
              "    </tr>\n",
              "  </thead>\n",
              "  <tbody>\n",
              "    <tr>\n",
              "      <th>6362615</th>\n",
              "      <td>743</td>\n",
              "      <td>3</td>\n",
              "      <td>339682.13</td>\n",
              "      <td>6353303</td>\n",
              "      <td>339682.13</td>\n",
              "      <td>0.0</td>\n",
              "      <td>1586561</td>\n",
              "      <td>0.00</td>\n",
              "      <td>339682.13</td>\n",
              "      <td>0</td>\n",
              "      <td>1</td>\n",
              "    </tr>\n",
              "    <tr>\n",
              "      <th>6362616</th>\n",
              "      <td>743</td>\n",
              "      <td>2</td>\n",
              "      <td>6311409.28</td>\n",
              "      <td>6353304</td>\n",
              "      <td>6311409.28</td>\n",
              "      <td>0.0</td>\n",
              "      <td>2722361</td>\n",
              "      <td>0.00</td>\n",
              "      <td>0.00</td>\n",
              "      <td>0</td>\n",
              "      <td>1</td>\n",
              "    </tr>\n",
              "    <tr>\n",
              "      <th>6362617</th>\n",
              "      <td>743</td>\n",
              "      <td>3</td>\n",
              "      <td>6311409.28</td>\n",
              "      <td>6353305</td>\n",
              "      <td>6311409.28</td>\n",
              "      <td>0.0</td>\n",
              "      <td>1077995</td>\n",
              "      <td>68488.84</td>\n",
              "      <td>6379898.11</td>\n",
              "      <td>0</td>\n",
              "      <td>1</td>\n",
              "    </tr>\n",
              "    <tr>\n",
              "      <th>6362618</th>\n",
              "      <td>743</td>\n",
              "      <td>2</td>\n",
              "      <td>850002.52</td>\n",
              "      <td>6353306</td>\n",
              "      <td>850002.52</td>\n",
              "      <td>0.0</td>\n",
              "      <td>2722362</td>\n",
              "      <td>0.00</td>\n",
              "      <td>0.00</td>\n",
              "      <td>0</td>\n",
              "      <td>1</td>\n",
              "    </tr>\n",
              "    <tr>\n",
              "      <th>6362619</th>\n",
              "      <td>743</td>\n",
              "      <td>3</td>\n",
              "      <td>850002.52</td>\n",
              "      <td>6353307</td>\n",
              "      <td>850002.52</td>\n",
              "      <td>0.0</td>\n",
              "      <td>269442</td>\n",
              "      <td>6510099.11</td>\n",
              "      <td>7360101.63</td>\n",
              "      <td>0</td>\n",
              "      <td>1</td>\n",
              "    </tr>\n",
              "  </tbody>\n",
              "</table>\n",
              "</div>"
            ],
            "text/plain": [
              "         step  type      amount  ...  newBalanceDest  isFlaggedFraud  Class\n",
              "6362615   743     3   339682.13  ...       339682.13               0      1\n",
              "6362616   743     2  6311409.28  ...            0.00               0      1\n",
              "6362617   743     3  6311409.28  ...      6379898.11               0      1\n",
              "6362618   743     2   850002.52  ...            0.00               0      1\n",
              "6362619   743     3   850002.52  ...      7360101.63               0      1\n",
              "\n",
              "[5 rows x 11 columns]"
            ]
          },
          "metadata": {
            "tags": []
          },
          "execution_count": 131
        }
      ]
    },
    {
      "cell_type": "code",
      "metadata": {
        "id": "tNGCqC743982",
        "colab_type": "code",
        "colab": {}
      },
      "source": [
        "# # Since most of our data has already been scaled we should scale the columns that are left to scale (Amount and Time)\n",
        "# from sklearn.preprocessing import StandardScaler, RobustScaler, MinMaxScaler\n",
        "\n",
        "# # RobustScaler is less prone to outliers.\n",
        "\n",
        "# std_scaler = StandardScaler()\n",
        "# rob_scaler = RobustScaler()\n",
        "# minmax_scaler = MinMaxScaler()\n",
        "\n",
        "# # df['scaled_amount'] = rob_scaler.fit_transform(df['Amount'].values.reshape(-1,1))\n",
        "# # df['scaled_time'] = rob_scaler.fit_transform(df['Time'].values.reshape(-1,1))\n",
        "\n",
        "# df['scaled_amount'] = minmax_scaler.fit_transform(df['Amount'].values.reshape(-1,1))\n",
        "# df['scaled_time'] = minmax_scaler.fit_transform(df['Time'].values.reshape(-1,1))\n",
        "\n",
        "# df.drop(['Time','Amount'], axis=1, inplace=True)\n",
        "\n",
        "# scaled_amount = df['scaled_amount']\n",
        "# scaled_time = df['scaled_time']\n",
        "\n",
        "# df.drop(['scaled_amount', 'scaled_time'], axis=1, inplace=True)\n",
        "# df.insert(0, 'scaled_amount', scaled_amount)\n",
        "# df.insert(1, 'scaled_time', scaled_time)\n",
        "\n",
        "# # Amount and Time are Scaled!\n",
        "\n",
        "# df.head()"
      ],
      "execution_count": 0,
      "outputs": []
    },
    {
      "cell_type": "code",
      "metadata": {
        "id": "-SOCak9t3988",
        "colab_type": "code",
        "colab": {
          "base_uri": "https://localhost:8080/",
          "height": 204
        },
        "outputId": "3a4e11c4-ba7e-4850-dd74-ae49f9b3c427"
      },
      "source": [
        "# Since our classes are highly skewed we should make them equivalent in order to have a normal distribution of the classes.\n",
        "\n",
        "# Lets shuffle the data before creating the subsamples\n",
        "df_copy = df_.copy()\n",
        "# df_copy = df_copy.sample(frac=1)\n",
        "\n",
        "# amount of fraud classes 492 rows.\n",
        "fraud_df = df_copy.loc[df_copy['Class'] == 1]\n",
        "# non_fraud_df = df_copy.loc[df['Class'] == 0][:8213]\n",
        "non_fraud_df = df_copy.loc[df_copy['Class'] == 0].sample(n=8213,random_state=1)\n",
        "\n",
        "normal_distributed_df = pd.concat([fraud_df, non_fraud_df])\n",
        "\n",
        "# Shuffle dataframe rows\n",
        "df_new = normal_distributed_df.sample(frac=1, random_state=1)\n",
        "df_new = df_new.reset_index()\n",
        "df_new = df_new.drop('index', axis=1)\n",
        "df_new.head()"
      ],
      "execution_count": 133,
      "outputs": [
        {
          "output_type": "execute_result",
          "data": {
            "text/html": [
              "<div>\n",
              "<style scoped>\n",
              "    .dataframe tbody tr th:only-of-type {\n",
              "        vertical-align: middle;\n",
              "    }\n",
              "\n",
              "    .dataframe tbody tr th {\n",
              "        vertical-align: top;\n",
              "    }\n",
              "\n",
              "    .dataframe thead th {\n",
              "        text-align: right;\n",
              "    }\n",
              "</style>\n",
              "<table border=\"1\" class=\"dataframe\">\n",
              "  <thead>\n",
              "    <tr style=\"text-align: right;\">\n",
              "      <th></th>\n",
              "      <th>step</th>\n",
              "      <th>type</th>\n",
              "      <th>amount</th>\n",
              "      <th>nameOrig</th>\n",
              "      <th>oldBalanceOrig</th>\n",
              "      <th>newBalanceOrig</th>\n",
              "      <th>nameDest</th>\n",
              "      <th>oldBalanceDest</th>\n",
              "      <th>newBalanceDest</th>\n",
              "      <th>isFlaggedFraud</th>\n",
              "      <th>Class</th>\n",
              "    </tr>\n",
              "  </thead>\n",
              "  <tbody>\n",
              "    <tr>\n",
              "      <th>0</th>\n",
              "      <td>118</td>\n",
              "      <td>3</td>\n",
              "      <td>167963.64</td>\n",
              "      <td>1059445</td>\n",
              "      <td>167963.64</td>\n",
              "      <td>0.00</td>\n",
              "      <td>100611</td>\n",
              "      <td>0.00</td>\n",
              "      <td>167963.64</td>\n",
              "      <td>0</td>\n",
              "      <td>1</td>\n",
              "    </tr>\n",
              "    <tr>\n",
              "      <th>1</th>\n",
              "      <td>714</td>\n",
              "      <td>3</td>\n",
              "      <td>390763.24</td>\n",
              "      <td>6349309</td>\n",
              "      <td>390763.24</td>\n",
              "      <td>0.00</td>\n",
              "      <td>687641</td>\n",
              "      <td>1422500.77</td>\n",
              "      <td>1813264.01</td>\n",
              "      <td>0</td>\n",
              "      <td>1</td>\n",
              "    </tr>\n",
              "    <tr>\n",
              "      <th>2</th>\n",
              "      <td>40</td>\n",
              "      <td>5</td>\n",
              "      <td>144403.82</td>\n",
              "      <td>821719</td>\n",
              "      <td>14948244.86</td>\n",
              "      <td>15092648.68</td>\n",
              "      <td>350126</td>\n",
              "      <td>190175.64</td>\n",
              "      <td>46693.00</td>\n",
              "      <td>0</td>\n",
              "      <td>0</td>\n",
              "    </tr>\n",
              "    <tr>\n",
              "      <th>3</th>\n",
              "      <td>281</td>\n",
              "      <td>2</td>\n",
              "      <td>556720.82</td>\n",
              "      <td>3816556</td>\n",
              "      <td>556720.82</td>\n",
              "      <td>0.00</td>\n",
              "      <td>1629495</td>\n",
              "      <td>0.00</td>\n",
              "      <td>0.00</td>\n",
              "      <td>0</td>\n",
              "      <td>1</td>\n",
              "    </tr>\n",
              "    <tr>\n",
              "      <th>4</th>\n",
              "      <td>267</td>\n",
              "      <td>3</td>\n",
              "      <td>1654055.02</td>\n",
              "      <td>3607824</td>\n",
              "      <td>1654055.02</td>\n",
              "      <td>0.00</td>\n",
              "      <td>196141</td>\n",
              "      <td>2165407.21</td>\n",
              "      <td>3819462.24</td>\n",
              "      <td>0</td>\n",
              "      <td>1</td>\n",
              "    </tr>\n",
              "  </tbody>\n",
              "</table>\n",
              "</div>"
            ],
            "text/plain": [
              "   step  type      amount  ...  newBalanceDest  isFlaggedFraud  Class\n",
              "0   118     3   167963.64  ...       167963.64               0      1\n",
              "1   714     3   390763.24  ...      1813264.01               0      1\n",
              "2    40     5   144403.82  ...        46693.00               0      0\n",
              "3   281     2   556720.82  ...            0.00               0      1\n",
              "4   267     3  1654055.02  ...      3819462.24               0      1\n",
              "\n",
              "[5 rows x 11 columns]"
            ]
          },
          "metadata": {
            "tags": []
          },
          "execution_count": 133
        }
      ]
    },
    {
      "cell_type": "code",
      "metadata": {
        "id": "QWspdBIo399M",
        "colab_type": "code",
        "colab": {
          "base_uri": "https://localhost:8080/",
          "height": 429
        },
        "outputId": "466a34f8-dfeb-4e65-a883-2cd4fe81fd03"
      },
      "source": [
        "plt.figure(1,figsize=(5, 5), dpi=80)\n",
        "plt.grid(color='b', linestyle='-', linewidth=0.2)\n",
        "plt.title('Class Distributions \\n (0: No Fraud || 1: Fraud)', fontsize=14)\n",
        "sns.countplot('Class', data=df_new,palette='Set2')"
      ],
      "execution_count": 134,
      "outputs": [
        {
          "output_type": "execute_result",
          "data": {
            "text/plain": [
              "<matplotlib.axes._subplots.AxesSubplot at 0x7fe171ae10b8>"
            ]
          },
          "metadata": {
            "tags": []
          },
          "execution_count": 134
        },
        {
          "output_type": "display_data",
          "data": {
            "image/png": "[encoded data removed]",
            "text/plain": [
              "<Figure size 400x400 with 1 Axes>"
            ]
          },
          "metadata": {
            "tags": []
          }
        }
      ]
    },
    {
      "cell_type": "code",
      "metadata": {
        "id": "0vO4OIrV399R",
        "colab_type": "code",
        "colab": {}
      },
      "source": [
        ""
      ],
      "execution_count": 0,
      "outputs": []
    },
    {
      "cell_type": "code",
      "metadata": {
        "id": "rTb3ztmq399Z",
        "colab_type": "code",
        "colab": {}
      },
      "source": [
        "# X = df.drop('Class', axis=1)\n",
        "# y = df['Class'].copy()"
      ],
      "execution_count": 0,
      "outputs": []
    },
    {
      "cell_type": "code",
      "metadata": {
        "id": "PtmcmqoB399g",
        "colab_type": "code",
        "colab": {}
      },
      "source": [
        "X_new = df_new.drop('Class', axis=1)\n",
        "y_new = df_new['Class'].copy()"
      ],
      "execution_count": 0,
      "outputs": []
    },
    {
      "cell_type": "code",
      "metadata": {
        "id": "VcBousJh399o",
        "colab_type": "code",
        "colab": {}
      },
      "source": [
        "# y_new.value_counts()"
      ],
      "execution_count": 0,
      "outputs": []
    },
    {
      "cell_type": "code",
      "metadata": {
        "id": "GSf1Eq1V399t",
        "colab_type": "code",
        "colab": {
          "base_uri": "https://localhost:8080/",
          "height": 979
        },
        "outputId": "c8596439-93ec-4a05-ea36-856d183bf824"
      },
      "source": [
        "X_new.tail(30)"
      ],
      "execution_count": 138,
      "outputs": [
        {
          "output_type": "execute_result",
          "data": {
            "text/html": [
              "<div>\n",
              "<style scoped>\n",
              "    .dataframe tbody tr th:only-of-type {\n",
              "        vertical-align: middle;\n",
              "    }\n",
              "\n",
              "    .dataframe tbody tr th {\n",
              "        vertical-align: top;\n",
              "    }\n",
              "\n",
              "    .dataframe thead th {\n",
              "        text-align: right;\n",
              "    }\n",
              "</style>\n",
              "<table border=\"1\" class=\"dataframe\">\n",
              "  <thead>\n",
              "    <tr style=\"text-align: right;\">\n",
              "      <th></th>\n",
              "      <th>step</th>\n",
              "      <th>type</th>\n",
              "      <th>amount</th>\n",
              "      <th>nameOrig</th>\n",
              "      <th>oldBalanceOrig</th>\n",
              "      <th>newBalanceOrig</th>\n",
              "      <th>nameDest</th>\n",
              "      <th>oldBalanceDest</th>\n",
              "      <th>newBalanceDest</th>\n",
              "      <th>isFlaggedFraud</th>\n",
              "    </tr>\n",
              "  </thead>\n",
              "  <tbody>\n",
              "    <tr>\n",
              "      <th>16396</th>\n",
              "      <td>36</td>\n",
              "      <td>3</td>\n",
              "      <td>145350.42</td>\n",
              "      <td>675650</td>\n",
              "      <td>29534.00</td>\n",
              "      <td>0.00</td>\n",
              "      <td>150563</td>\n",
              "      <td>1004856.09</td>\n",
              "      <td>1150206.51</td>\n",
              "      <td>0</td>\n",
              "    </tr>\n",
              "    <tr>\n",
              "      <th>16397</th>\n",
              "      <td>128</td>\n",
              "      <td>2</td>\n",
              "      <td>3062506.58</td>\n",
              "      <td>1069909</td>\n",
              "      <td>3062506.58</td>\n",
              "      <td>0.00</td>\n",
              "      <td>462542</td>\n",
              "      <td>0.00</td>\n",
              "      <td>0.00</td>\n",
              "      <td>0</td>\n",
              "    </tr>\n",
              "    <tr>\n",
              "      <th>16398</th>\n",
              "      <td>253</td>\n",
              "      <td>1</td>\n",
              "      <td>31007.67</td>\n",
              "      <td>3348970</td>\n",
              "      <td>50309.00</td>\n",
              "      <td>19301.33</td>\n",
              "      <td>1427584</td>\n",
              "      <td>0.00</td>\n",
              "      <td>0.00</td>\n",
              "      <td>0</td>\n",
              "    </tr>\n",
              "    <tr>\n",
              "      <th>16399</th>\n",
              "      <td>385</td>\n",
              "      <td>5</td>\n",
              "      <td>38848.12</td>\n",
              "      <td>5555804</td>\n",
              "      <td>5510605.05</td>\n",
              "      <td>5549453.18</td>\n",
              "      <td>2114682</td>\n",
              "      <td>312166.01</td>\n",
              "      <td>273317.89</td>\n",
              "      <td>0</td>\n",
              "    </tr>\n",
              "    <tr>\n",
              "      <th>16400</th>\n",
              "      <td>164</td>\n",
              "      <td>3</td>\n",
              "      <td>281409.38</td>\n",
              "      <td>1854949</td>\n",
              "      <td>0.00</td>\n",
              "      <td>0.00</td>\n",
              "      <td>22664</td>\n",
              "      <td>7755795.56</td>\n",
              "      <td>8037204.95</td>\n",
              "      <td>0</td>\n",
              "    </tr>\n",
              "    <tr>\n",
              "      <th>16401</th>\n",
              "      <td>365</td>\n",
              "      <td>3</td>\n",
              "      <td>4841332.26</td>\n",
              "      <td>5181741</td>\n",
              "      <td>4841332.26</td>\n",
              "      <td>0.00</td>\n",
              "      <td>390174</td>\n",
              "      <td>12806.80</td>\n",
              "      <td>4854139.07</td>\n",
              "      <td>0</td>\n",
              "    </tr>\n",
              "    <tr>\n",
              "      <th>16402</th>\n",
              "      <td>38</td>\n",
              "      <td>3</td>\n",
              "      <td>448004.86</td>\n",
              "      <td>739175</td>\n",
              "      <td>448004.86</td>\n",
              "      <td>0.00</td>\n",
              "      <td>317335</td>\n",
              "      <td>147828.66</td>\n",
              "      <td>595833.52</td>\n",
              "      <td>0</td>\n",
              "    </tr>\n",
              "    <tr>\n",
              "      <th>16403</th>\n",
              "      <td>614</td>\n",
              "      <td>2</td>\n",
              "      <td>309061.50</td>\n",
              "      <td>6256073</td>\n",
              "      <td>309061.50</td>\n",
              "      <td>0.00</td>\n",
              "      <td>2679155</td>\n",
              "      <td>0.00</td>\n",
              "      <td>0.00</td>\n",
              "      <td>0</td>\n",
              "    </tr>\n",
              "    <tr>\n",
              "      <th>16404</th>\n",
              "      <td>228</td>\n",
              "      <td>2</td>\n",
              "      <td>10000000.00</td>\n",
              "      <td>2895559</td>\n",
              "      <td>10497526.17</td>\n",
              "      <td>497526.17</td>\n",
              "      <td>1234618</td>\n",
              "      <td>0.00</td>\n",
              "      <td>0.00</td>\n",
              "      <td>0</td>\n",
              "    </tr>\n",
              "    <tr>\n",
              "      <th>16405</th>\n",
              "      <td>401</td>\n",
              "      <td>3</td>\n",
              "      <td>136162.78</td>\n",
              "      <td>5783423</td>\n",
              "      <td>8059.00</td>\n",
              "      <td>0.00</td>\n",
              "      <td>149337</td>\n",
              "      <td>5135474.44</td>\n",
              "      <td>5271637.22</td>\n",
              "      <td>0</td>\n",
              "    </tr>\n",
              "    <tr>\n",
              "      <th>16406</th>\n",
              "      <td>320</td>\n",
              "      <td>3</td>\n",
              "      <td>148305.30</td>\n",
              "      <td>4384311</td>\n",
              "      <td>148305.30</td>\n",
              "      <td>0.00</td>\n",
              "      <td>1874484</td>\n",
              "      <td>0.00</td>\n",
              "      <td>148305.30</td>\n",
              "      <td>0</td>\n",
              "    </tr>\n",
              "    <tr>\n",
              "      <th>16407</th>\n",
              "      <td>397</td>\n",
              "      <td>2</td>\n",
              "      <td>52689.13</td>\n",
              "      <td>5667907</td>\n",
              "      <td>52689.13</td>\n",
              "      <td>0.00</td>\n",
              "      <td>2421878</td>\n",
              "      <td>0.00</td>\n",
              "      <td>0.00</td>\n",
              "      <td>0</td>\n",
              "    </tr>\n",
              "    <tr>\n",
              "      <th>16408</th>\n",
              "      <td>85</td>\n",
              "      <td>3</td>\n",
              "      <td>1440705.58</td>\n",
              "      <td>1030453</td>\n",
              "      <td>1440705.58</td>\n",
              "      <td>0.00</td>\n",
              "      <td>440071</td>\n",
              "      <td>0.00</td>\n",
              "      <td>1440705.58</td>\n",
              "      <td>0</td>\n",
              "    </tr>\n",
              "    <tr>\n",
              "      <th>16409</th>\n",
              "      <td>568</td>\n",
              "      <td>2</td>\n",
              "      <td>32521.24</td>\n",
              "      <td>6177965</td>\n",
              "      <td>32521.24</td>\n",
              "      <td>0.00</td>\n",
              "      <td>2644089</td>\n",
              "      <td>0.00</td>\n",
              "      <td>0.00</td>\n",
              "      <td>0</td>\n",
              "    </tr>\n",
              "    <tr>\n",
              "      <th>16410</th>\n",
              "      <td>93</td>\n",
              "      <td>2</td>\n",
              "      <td>4120.14</td>\n",
              "      <td>1032058</td>\n",
              "      <td>4120.14</td>\n",
              "      <td>0.00</td>\n",
              "      <td>440844</td>\n",
              "      <td>0.00</td>\n",
              "      <td>0.00</td>\n",
              "      <td>0</td>\n",
              "    </tr>\n",
              "    <tr>\n",
              "      <th>16411</th>\n",
              "      <td>213</td>\n",
              "      <td>3</td>\n",
              "      <td>18674.74</td>\n",
              "      <td>2768779</td>\n",
              "      <td>5556.00</td>\n",
              "      <td>0.00</td>\n",
              "      <td>1176986</td>\n",
              "      <td>0.00</td>\n",
              "      <td>18674.74</td>\n",
              "      <td>0</td>\n",
              "    </tr>\n",
              "    <tr>\n",
              "      <th>16412</th>\n",
              "      <td>422</td>\n",
              "      <td>3</td>\n",
              "      <td>87381.78</td>\n",
              "      <td>5987261</td>\n",
              "      <td>87381.78</td>\n",
              "      <td>0.00</td>\n",
              "      <td>1904405</td>\n",
              "      <td>474312.15</td>\n",
              "      <td>561693.93</td>\n",
              "      <td>0</td>\n",
              "    </tr>\n",
              "    <tr>\n",
              "      <th>16413</th>\n",
              "      <td>188</td>\n",
              "      <td>1</td>\n",
              "      <td>9257.73</td>\n",
              "      <td>2317040</td>\n",
              "      <td>791712.25</td>\n",
              "      <td>782454.52</td>\n",
              "      <td>980381</td>\n",
              "      <td>0.00</td>\n",
              "      <td>0.00</td>\n",
              "      <td>0</td>\n",
              "    </tr>\n",
              "    <tr>\n",
              "      <th>16414</th>\n",
              "      <td>262</td>\n",
              "      <td>3</td>\n",
              "      <td>639680.32</td>\n",
              "      <td>3591026</td>\n",
              "      <td>639680.32</td>\n",
              "      <td>0.00</td>\n",
              "      <td>774630</td>\n",
              "      <td>221209.81</td>\n",
              "      <td>860890.13</td>\n",
              "      <td>0</td>\n",
              "    </tr>\n",
              "    <tr>\n",
              "      <th>16415</th>\n",
              "      <td>10</td>\n",
              "      <td>1</td>\n",
              "      <td>15960.78</td>\n",
              "      <td>100747</td>\n",
              "      <td>144818.00</td>\n",
              "      <td>128857.22</td>\n",
              "      <td>51877</td>\n",
              "      <td>0.00</td>\n",
              "      <td>0.00</td>\n",
              "      <td>0</td>\n",
              "    </tr>\n",
              "    <tr>\n",
              "      <th>16416</th>\n",
              "      <td>307</td>\n",
              "      <td>3</td>\n",
              "      <td>222735.34</td>\n",
              "      <td>4265321</td>\n",
              "      <td>222735.34</td>\n",
              "      <td>0.00</td>\n",
              "      <td>1501948</td>\n",
              "      <td>0.00</td>\n",
              "      <td>222735.34</td>\n",
              "      <td>0</td>\n",
              "    </tr>\n",
              "    <tr>\n",
              "      <th>16417</th>\n",
              "      <td>33</td>\n",
              "      <td>5</td>\n",
              "      <td>297229.34</td>\n",
              "      <td>593146</td>\n",
              "      <td>10284320.32</td>\n",
              "      <td>10581549.67</td>\n",
              "      <td>56043</td>\n",
              "      <td>2903699.99</td>\n",
              "      <td>2606470.65</td>\n",
              "      <td>0</td>\n",
              "    </tr>\n",
              "    <tr>\n",
              "      <th>16418</th>\n",
              "      <td>702</td>\n",
              "      <td>2</td>\n",
              "      <td>308778.37</td>\n",
              "      <td>6341942</td>\n",
              "      <td>308778.37</td>\n",
              "      <td>0.00</td>\n",
              "      <td>2716832</td>\n",
              "      <td>0.00</td>\n",
              "      <td>0.00</td>\n",
              "      <td>0</td>\n",
              "    </tr>\n",
              "    <tr>\n",
              "      <th>16419</th>\n",
              "      <td>401</td>\n",
              "      <td>3</td>\n",
              "      <td>307480.92</td>\n",
              "      <td>5811209</td>\n",
              "      <td>160829.00</td>\n",
              "      <td>0.00</td>\n",
              "      <td>857068</td>\n",
              "      <td>0.00</td>\n",
              "      <td>307480.92</td>\n",
              "      <td>0</td>\n",
              "    </tr>\n",
              "    <tr>\n",
              "      <th>16420</th>\n",
              "      <td>13</td>\n",
              "      <td>3</td>\n",
              "      <td>48375.02</td>\n",
              "      <td>193764</td>\n",
              "      <td>48375.02</td>\n",
              "      <td>0.00</td>\n",
              "      <td>38869</td>\n",
              "      <td>374803.26</td>\n",
              "      <td>658520.33</td>\n",
              "      <td>0</td>\n",
              "    </tr>\n",
              "    <tr>\n",
              "      <th>16421</th>\n",
              "      <td>709</td>\n",
              "      <td>2</td>\n",
              "      <td>14148.64</td>\n",
              "      <td>6346877</td>\n",
              "      <td>14148.64</td>\n",
              "      <td>0.00</td>\n",
              "      <td>2718946</td>\n",
              "      <td>0.00</td>\n",
              "      <td>0.00</td>\n",
              "      <td>0</td>\n",
              "    </tr>\n",
              "    <tr>\n",
              "      <th>16422</th>\n",
              "      <td>281</td>\n",
              "      <td>5</td>\n",
              "      <td>165085.63</td>\n",
              "      <td>3803885</td>\n",
              "      <td>62768.00</td>\n",
              "      <td>227853.63</td>\n",
              "      <td>1101325</td>\n",
              "      <td>352317.98</td>\n",
              "      <td>408216.90</td>\n",
              "      <td>0</td>\n",
              "    </tr>\n",
              "    <tr>\n",
              "      <th>16423</th>\n",
              "      <td>463</td>\n",
              "      <td>3</td>\n",
              "      <td>1968008.53</td>\n",
              "      <td>6011965</td>\n",
              "      <td>1968008.53</td>\n",
              "      <td>0.00</td>\n",
              "      <td>1149277</td>\n",
              "      <td>615855.00</td>\n",
              "      <td>2583863.54</td>\n",
              "      <td>0</td>\n",
              "    </tr>\n",
              "    <tr>\n",
              "      <th>16424</th>\n",
              "      <td>250</td>\n",
              "      <td>1</td>\n",
              "      <td>4250.97</td>\n",
              "      <td>3222456</td>\n",
              "      <td>0.00</td>\n",
              "      <td>0.00</td>\n",
              "      <td>1375043</td>\n",
              "      <td>0.00</td>\n",
              "      <td>0.00</td>\n",
              "      <td>0</td>\n",
              "    </tr>\n",
              "    <tr>\n",
              "      <th>16425</th>\n",
              "      <td>21</td>\n",
              "      <td>2</td>\n",
              "      <td>785323.00</td>\n",
              "      <td>537905</td>\n",
              "      <td>785323.00</td>\n",
              "      <td>0.00</td>\n",
              "      <td>230554</td>\n",
              "      <td>0.00</td>\n",
              "      <td>0.00</td>\n",
              "      <td>0</td>\n",
              "    </tr>\n",
              "  </tbody>\n",
              "</table>\n",
              "</div>"
            ],
            "text/plain": [
              "       step  type       amount  ...  oldBalanceDest  newBalanceDest  isFlaggedFraud\n",
              "16396    36     3    145350.42  ...      1004856.09      1150206.51               0\n",
              "16397   128     2   3062506.58  ...            0.00            0.00               0\n",
              "16398   253     1     31007.67  ...            0.00            0.00               0\n",
              "16399   385     5     38848.12  ...       312166.01       273317.89               0\n",
              "16400   164     3    281409.38  ...      7755795.56      8037204.95               0\n",
              "16401   365     3   4841332.26  ...        12806.80      4854139.07               0\n",
              "16402    38     3    448004.86  ...       147828.66       595833.52               0\n",
              "16403   614     2    309061.50  ...            0.00            0.00               0\n",
              "16404   228     2  10000000.00  ...            0.00            0.00               0\n",
              "16405   401     3    136162.78  ...      5135474.44      5271637.22               0\n",
              "16406   320     3    148305.30  ...            0.00       148305.30               0\n",
              "16407   397     2     52689.13  ...            0.00            0.00               0\n",
              "16408    85     3   1440705.58  ...            0.00      1440705.58               0\n",
              "16409   568     2     32521.24  ...            0.00            0.00               0\n",
              "16410    93     2      4120.14  ...            0.00            0.00               0\n",
              "16411   213     3     18674.74  ...            0.00        18674.74               0\n",
              "16412   422     3     87381.78  ...       474312.15       561693.93               0\n",
              "16413   188     1      9257.73  ...            0.00            0.00               0\n",
              "16414   262     3    639680.32  ...       221209.81       860890.13               0\n",
              "16415    10     1     15960.78  ...            0.00            0.00               0\n",
              "16416   307     3    222735.34  ...            0.00       222735.34               0\n",
              "16417    33     5    297229.34  ...      2903699.99      2606470.65               0\n",
              "16418   702     2    308778.37  ...            0.00            0.00               0\n",
              "16419   401     3    307480.92  ...            0.00       307480.92               0\n",
              "16420    13     3     48375.02  ...       374803.26       658520.33               0\n",
              "16421   709     2     14148.64  ...            0.00            0.00               0\n",
              "16422   281     5    165085.63  ...       352317.98       408216.90               0\n",
              "16423   463     3   1968008.53  ...       615855.00      2583863.54               0\n",
              "16424   250     1      4250.97  ...            0.00            0.00               0\n",
              "16425    21     2    785323.00  ...            0.00            0.00               0\n",
              "\n",
              "[30 rows x 10 columns]"
            ]
          },
          "metadata": {
            "tags": []
          },
          "execution_count": 138
        }
      ]
    },
    {
      "cell_type": "code",
      "metadata": {
        "id": "XaNvV7pJ3994",
        "colab_type": "code",
        "colab": {}
      },
      "source": [
        "# from sklearn.preprocessing import StandardScaler, RobustScaler, MinMaxScaler\n",
        "\n",
        "# # RobustScaler is less prone to outliers.\n",
        "\n",
        "# std_scaler = StandardScaler()\n",
        "# rob_scaler = RobustScaler()\n",
        "# minmax_scaler = MinMaxScaler()\n",
        "\n",
        "# X_neww = minmax_scaler.fit_transform(X_new)\n",
        "# X_new = pd.DataFrame(X_neww, columns=X_new.columns)\n",
        "# X_new.tail()"
      ],
      "execution_count": 0,
      "outputs": []
    },
    {
      "cell_type": "code",
      "metadata": {
        "id": "yNzN7dJh39-F",
        "colab_type": "code",
        "colab": {}
      },
      "source": [
        ""
      ],
      "execution_count": 0,
      "outputs": []
    },
    {
      "cell_type": "markdown",
      "metadata": {
        "id": "6oupZQug39-O",
        "colab_type": "text"
      },
      "source": [
        "# # SKLearn\n"
      ]
    },
    {
      "cell_type": "code",
      "metadata": {
        "id": "NKrRb8Yb39-R",
        "colab_type": "code",
        "colab": {
          "base_uri": "https://localhost:8080/",
          "height": 136
        },
        "outputId": "f380c6e0-55ba-4ed4-80f9-2aeb83fd58e7"
      },
      "source": [
        "from sklearn.ensemble import RandomForestClassifier\n",
        "n_tree = 10\n",
        "clf = RandomForestClassifier(random_state=1,n_estimators=n_tree, max_features='sqrt')\n",
        "clf.fit(X_new,y_new)"
      ],
      "execution_count": 140,
      "outputs": [
        {
          "output_type": "execute_result",
          "data": {
            "text/plain": [
              "RandomForestClassifier(bootstrap=True, class_weight=None, criterion='gini',\n",
              "                       max_depth=None, max_features='sqrt', max_leaf_nodes=None,\n",
              "                       min_impurity_decrease=0.0, min_impurity_split=None,\n",
              "                       min_samples_leaf=1, min_samples_split=2,\n",
              "                       min_weight_fraction_leaf=0.0, n_estimators=10,\n",
              "                       n_jobs=None, oob_score=False, random_state=1, verbose=0,\n",
              "                       warm_start=False)"
            ]
          },
          "metadata": {
            "tags": []
          },
          "execution_count": 140
        }
      ]
    },
    {
      "cell_type": "code",
      "metadata": {
        "id": "3e7Zsium39-Y",
        "colab_type": "code",
        "colab": {
          "base_uri": "https://localhost:8080/",
          "height": 119
        },
        "outputId": "9a7a1910-16b7-402e-e7a8-a71e1b49b2d8"
      },
      "source": [
        "from sklearn.tree import DecisionTreeClassifier\n",
        "clf_DT = DecisionTreeClassifier(random_state=1)\n",
        "clf_DT.fit(X_new,y_new)"
      ],
      "execution_count": 141,
      "outputs": [
        {
          "output_type": "execute_result",
          "data": {
            "text/plain": [
              "DecisionTreeClassifier(class_weight=None, criterion='gini', max_depth=None,\n",
              "                       max_features=None, max_leaf_nodes=None,\n",
              "                       min_impurity_decrease=0.0, min_impurity_split=None,\n",
              "                       min_samples_leaf=1, min_samples_split=2,\n",
              "                       min_weight_fraction_leaf=0.0, presort=False,\n",
              "                       random_state=1, splitter='best')"
            ]
          },
          "metadata": {
            "tags": []
          },
          "execution_count": 141
        }
      ]
    },
    {
      "cell_type": "code",
      "metadata": {
        "id": "lSswULjY39-h",
        "colab_type": "code",
        "colab": {}
      },
      "source": [
        "\n"
      ],
      "execution_count": 0,
      "outputs": []
    },
    {
      "cell_type": "code",
      "metadata": {
        "id": "2ysyYmJg39-q",
        "colab_type": "code",
        "colab": {}
      },
      "source": [
        "def run_skenarion_1 (clf,X,y,kfolds):\n",
        "    CV_SKLearn = kfold_cross_validation(clf,X,y,n_fold=kfolds,n_seed=1)\n",
        "    df_result = pd.DataFrame(data= CV_SKLearn, columns=['Akurasi','Sensitivity','Specifity','precision','recall','f1_score','Waktu'])\n",
        "\n",
        "    df_result.insert(loc=0, column='No', value=list(range(1,df_result.shape[0]+1)))\n",
        "    df_result = df_result.set_index('No')\n",
        "\n",
        "    del df_result.index.name\n",
        "\n",
        "    df_result = df_result.append(df_result.describe()[1:2])\n",
        "    \n",
        "    return df_result\n",
        "# result_SKLearn = result_SKLearn.append('')"
      ],
      "execution_count": 0,
      "outputs": []
    },
    {
      "cell_type": "code",
      "metadata": {
        "id": "PBfkK9vD39-u",
        "colab_type": "code",
        "colab": {
          "base_uri": "https://localhost:8080/",
          "height": 235
        },
        "outputId": "15753fbf-bf2b-489d-c0ad-2d1caf318b2a"
      },
      "source": [
        "result_SKLearn = run_skenarion_1(clf,X_new,y_new,5)\n",
        "result_SKLearn"
      ],
      "execution_count": 143,
      "outputs": [
        {
          "output_type": "execute_result",
          "data": {
            "text/html": [
              "<div>\n",
              "<style scoped>\n",
              "    .dataframe tbody tr th:only-of-type {\n",
              "        vertical-align: middle;\n",
              "    }\n",
              "\n",
              "    .dataframe tbody tr th {\n",
              "        vertical-align: top;\n",
              "    }\n",
              "\n",
              "    .dataframe thead th {\n",
              "        text-align: right;\n",
              "    }\n",
              "</style>\n",
              "<table border=\"1\" class=\"dataframe\">\n",
              "  <thead>\n",
              "    <tr style=\"text-align: right;\">\n",
              "      <th></th>\n",
              "      <th>Akurasi</th>\n",
              "      <th>Sensitivity</th>\n",
              "      <th>Specifity</th>\n",
              "      <th>precision</th>\n",
              "      <th>recall</th>\n",
              "      <th>f1_score</th>\n",
              "      <th>Waktu</th>\n",
              "    </tr>\n",
              "  </thead>\n",
              "  <tbody>\n",
              "    <tr>\n",
              "      <th>1</th>\n",
              "      <td>0.989954</td>\n",
              "      <td>0.993998</td>\n",
              "      <td>0.985794</td>\n",
              "      <td>0.986301</td>\n",
              "      <td>0.993998</td>\n",
              "      <td>0.990135</td>\n",
              "      <td>0.165318</td>\n",
              "    </tr>\n",
              "    <tr>\n",
              "      <th>2</th>\n",
              "      <td>0.989954</td>\n",
              "      <td>0.992220</td>\n",
              "      <td>0.987608</td>\n",
              "      <td>0.988081</td>\n",
              "      <td>0.992220</td>\n",
              "      <td>0.990146</td>\n",
              "      <td>0.165937</td>\n",
              "    </tr>\n",
              "    <tr>\n",
              "      <th>3</th>\n",
              "      <td>0.990259</td>\n",
              "      <td>0.993699</td>\n",
              "      <td>0.987044</td>\n",
              "      <td>0.986241</td>\n",
              "      <td>0.993699</td>\n",
              "      <td>0.989956</td>\n",
              "      <td>0.163177</td>\n",
              "    </tr>\n",
              "    <tr>\n",
              "      <th>4</th>\n",
              "      <td>0.989954</td>\n",
              "      <td>0.992611</td>\n",
              "      <td>0.987357</td>\n",
              "      <td>0.987140</td>\n",
              "      <td>0.992611</td>\n",
              "      <td>0.989868</td>\n",
              "      <td>0.163442</td>\n",
              "    </tr>\n",
              "    <tr>\n",
              "      <th>5</th>\n",
              "      <td>0.989346</td>\n",
              "      <td>0.992793</td>\n",
              "      <td>0.985802</td>\n",
              "      <td>0.986277</td>\n",
              "      <td>0.992793</td>\n",
              "      <td>0.989524</td>\n",
              "      <td>0.166686</td>\n",
              "    </tr>\n",
              "    <tr>\n",
              "      <th>mean</th>\n",
              "      <td>0.989893</td>\n",
              "      <td>0.993064</td>\n",
              "      <td>0.986721</td>\n",
              "      <td>0.986808</td>\n",
              "      <td>0.993064</td>\n",
              "      <td>0.989926</td>\n",
              "      <td>0.164912</td>\n",
              "    </tr>\n",
              "  </tbody>\n",
              "</table>\n",
              "</div>"
            ],
            "text/plain": [
              "       Akurasi  Sensitivity  Specifity  precision    recall  f1_score     Waktu\n",
              "1     0.989954     0.993998   0.985794   0.986301  0.993998  0.990135  0.165318\n",
              "2     0.989954     0.992220   0.987608   0.988081  0.992220  0.990146  0.165937\n",
              "3     0.990259     0.993699   0.987044   0.986241  0.993699  0.989956  0.163177\n",
              "4     0.989954     0.992611   0.987357   0.987140  0.992611  0.989868  0.163442\n",
              "5     0.989346     0.992793   0.985802   0.986277  0.992793  0.989524  0.166686\n",
              "mean  0.989893     0.993064   0.986721   0.986808  0.993064  0.989926  0.164912"
            ]
          },
          "metadata": {
            "tags": []
          },
          "execution_count": 143
        }
      ]
    },
    {
      "cell_type": "code",
      "metadata": {
        "id": "3-nPvfNG39-7",
        "colab_type": "code",
        "colab": {
          "base_uri": "https://localhost:8080/",
          "height": 235
        },
        "outputId": "5c1bc244-f4eb-47bf-98ea-e63d6617e184"
      },
      "source": [
        "result_SKLearn = run_skenarion_1(clf_DT,X_new,y_new,5)\n",
        "result_SKLearn"
      ],
      "execution_count": 144,
      "outputs": [
        {
          "output_type": "execute_result",
          "data": {
            "text/html": [
              "<div>\n",
              "<style scoped>\n",
              "    .dataframe tbody tr th:only-of-type {\n",
              "        vertical-align: middle;\n",
              "    }\n",
              "\n",
              "    .dataframe tbody tr th {\n",
              "        vertical-align: top;\n",
              "    }\n",
              "\n",
              "    .dataframe thead th {\n",
              "        text-align: right;\n",
              "    }\n",
              "</style>\n",
              "<table border=\"1\" class=\"dataframe\">\n",
              "  <thead>\n",
              "    <tr style=\"text-align: right;\">\n",
              "      <th></th>\n",
              "      <th>Akurasi</th>\n",
              "      <th>Sensitivity</th>\n",
              "      <th>Specifity</th>\n",
              "      <th>precision</th>\n",
              "      <th>recall</th>\n",
              "      <th>f1_score</th>\n",
              "      <th>Waktu</th>\n",
              "    </tr>\n",
              "  </thead>\n",
              "  <tbody>\n",
              "    <tr>\n",
              "      <th>1</th>\n",
              "      <td>0.989954</td>\n",
              "      <td>0.992797</td>\n",
              "      <td>0.987029</td>\n",
              "      <td>0.987463</td>\n",
              "      <td>0.992797</td>\n",
              "      <td>0.990123</td>\n",
              "      <td>0.075266</td>\n",
              "    </tr>\n",
              "    <tr>\n",
              "      <th>2</th>\n",
              "      <td>0.988432</td>\n",
              "      <td>0.987433</td>\n",
              "      <td>0.989467</td>\n",
              "      <td>0.989802</td>\n",
              "      <td>0.987433</td>\n",
              "      <td>0.988616</td>\n",
              "      <td>0.073371</td>\n",
              "    </tr>\n",
              "    <tr>\n",
              "      <th>3</th>\n",
              "      <td>0.990563</td>\n",
              "      <td>0.993699</td>\n",
              "      <td>0.987633</td>\n",
              "      <td>0.986859</td>\n",
              "      <td>0.993699</td>\n",
              "      <td>0.990267</td>\n",
              "      <td>0.066653</td>\n",
              "    </tr>\n",
              "    <tr>\n",
              "      <th>4</th>\n",
              "      <td>0.989346</td>\n",
              "      <td>0.990148</td>\n",
              "      <td>0.988561</td>\n",
              "      <td>0.988322</td>\n",
              "      <td>0.990148</td>\n",
              "      <td>0.989234</td>\n",
              "      <td>0.068725</td>\n",
              "    </tr>\n",
              "    <tr>\n",
              "      <th>5</th>\n",
              "      <td>0.986910</td>\n",
              "      <td>0.994595</td>\n",
              "      <td>0.979012</td>\n",
              "      <td>0.979882</td>\n",
              "      <td>0.994595</td>\n",
              "      <td>0.987183</td>\n",
              "      <td>0.074863</td>\n",
              "    </tr>\n",
              "    <tr>\n",
              "      <th>mean</th>\n",
              "      <td>0.989041</td>\n",
              "      <td>0.991734</td>\n",
              "      <td>0.986340</td>\n",
              "      <td>0.986465</td>\n",
              "      <td>0.991734</td>\n",
              "      <td>0.989085</td>\n",
              "      <td>0.071776</td>\n",
              "    </tr>\n",
              "  </tbody>\n",
              "</table>\n",
              "</div>"
            ],
            "text/plain": [
              "       Akurasi  Sensitivity  Specifity  precision    recall  f1_score     Waktu\n",
              "1     0.989954     0.992797   0.987029   0.987463  0.992797  0.990123  0.075266\n",
              "2     0.988432     0.987433   0.989467   0.989802  0.987433  0.988616  0.073371\n",
              "3     0.990563     0.993699   0.987633   0.986859  0.993699  0.990267  0.066653\n",
              "4     0.989346     0.990148   0.988561   0.988322  0.990148  0.989234  0.068725\n",
              "5     0.986910     0.994595   0.979012   0.979882  0.994595  0.987183  0.074863\n",
              "mean  0.989041     0.991734   0.986340   0.986465  0.991734  0.989085  0.071776"
            ]
          },
          "metadata": {
            "tags": []
          },
          "execution_count": 144
        }
      ]
    },
    {
      "cell_type": "code",
      "metadata": {
        "id": "YktpcKCs39_D",
        "colab_type": "code",
        "colab": {}
      },
      "source": [
        "# Classifier Libraries\n",
        "from sklearn.linear_model import LogisticRegression\n",
        "from sklearn.svm import SVC\n",
        "from sklearn.neighbors import KNeighborsClassifier\n",
        "from sklearn.tree import DecisionTreeClassifier\n",
        "from sklearn.ensemble import RandomForestClassifier\n",
        "from sklearn.naive_bayes import GaussianNB\n",
        "\n",
        "clf_LR = LogisticRegression()\n",
        "clf_KNN = KNeighborsClassifier()\n",
        "clf_SVM = SVC()\n",
        "clf_NB = GaussianNB()\n",
        "clf_DT_ = DecisionTreeClassifier(random_state=1)\n",
        "clf_RF = RandomForestClassifier(random_state=1,n_estimators=10)\n",
        "##skenario \n",
        "skenario_1 = {}\n",
        "skenario_1['1'] = clf_LR\n",
        "skenario_1['2'] = clf_KNN\n",
        "skenario_1['3'] = clf_SVM\n",
        "skenario_1['4'] = clf_NB\n",
        "skenario_1['5'] = clf_DT_\n",
        "skenario_1['6'] = clf_RF"
      ],
      "execution_count": 0,
      "outputs": []
    },
    {
      "cell_type": "code",
      "metadata": {
        "id": "4O8DBYTw3B66",
        "colab_type": "code",
        "colab": {}
      },
      "source": [
        "# from google.colab import drive\n",
        "# drive.mount('drive')"
      ],
      "execution_count": 0,
      "outputs": []
    },
    {
      "cell_type": "code",
      "metadata": {
        "id": "5sxORFci39_H",
        "colab_type": "code",
        "colab": {
          "base_uri": "https://localhost:8080/",
          "height": 377
        },
        "outputId": "3da6d422-8e65-414a-f496-8afe3297e7b9"
      },
      "source": [
        "result = {}\n",
        "for i in skenario_1:\n",
        "#     print('komposisi', skenario_1[i])\n",
        "  \n",
        "    clf_skenario = skenario_1[i]\n",
        "\n",
        "#     result_SKLearn = run_skenarion_1(clf_skenario,X_new,y_new,5)\n",
        "#     print(result_SKLearn)\n",
        "\n",
        "    result[i] = run_skenarion_1(clf_skenario,X_new,y_new,5)\n",
        "    \n",
        "#     nama_file = 'komposisi999.csv'\n",
        "#     nama_file = nama_file.replace('999',str(i))\n",
        "\n",
        "#     result_SKLearn.to_csv(nama_file, sep=';',index=False)\n",
        "#     !cp komposisi1.csv drive/My\\ Drive/\n",
        "                \n"
      ],
      "execution_count": 147,
      "outputs": [
        {
          "output_type": "stream",
          "text": [
            "/usr/local/lib/python3.6/dist-packages/sklearn/linear_model/logistic.py:432: FutureWarning: Default solver will be changed to 'lbfgs' in 0.22. Specify a solver to silence this warning.\n",
            "  FutureWarning)\n",
            "/usr/local/lib/python3.6/dist-packages/sklearn/linear_model/logistic.py:432: FutureWarning: Default solver will be changed to 'lbfgs' in 0.22. Specify a solver to silence this warning.\n",
            "  FutureWarning)\n",
            "/usr/local/lib/python3.6/dist-packages/sklearn/linear_model/logistic.py:432: FutureWarning: Default solver will be changed to 'lbfgs' in 0.22. Specify a solver to silence this warning.\n",
            "  FutureWarning)\n",
            "/usr/local/lib/python3.6/dist-packages/sklearn/linear_model/logistic.py:432: FutureWarning: Default solver will be changed to 'lbfgs' in 0.22. Specify a solver to silence this warning.\n",
            "  FutureWarning)\n",
            "/usr/local/lib/python3.6/dist-packages/sklearn/linear_model/logistic.py:432: FutureWarning: Default solver will be changed to 'lbfgs' in 0.22. Specify a solver to silence this warning.\n",
            "  FutureWarning)\n",
            "/usr/local/lib/python3.6/dist-packages/sklearn/svm/base.py:193: FutureWarning: The default value of gamma will change from 'auto' to 'scale' in version 0.22 to account better for unscaled features. Set gamma explicitly to 'auto' or 'scale' to avoid this warning.\n",
            "  \"avoid this warning.\", FutureWarning)\n",
            "/usr/local/lib/python3.6/dist-packages/sklearn/svm/base.py:193: FutureWarning: The default value of gamma will change from 'auto' to 'scale' in version 0.22 to account better for unscaled features. Set gamma explicitly to 'auto' or 'scale' to avoid this warning.\n",
            "  \"avoid this warning.\", FutureWarning)\n",
            "/usr/local/lib/python3.6/dist-packages/sklearn/svm/base.py:193: FutureWarning: The default value of gamma will change from 'auto' to 'scale' in version 0.22 to account better for unscaled features. Set gamma explicitly to 'auto' or 'scale' to avoid this warning.\n",
            "  \"avoid this warning.\", FutureWarning)\n",
            "/usr/local/lib/python3.6/dist-packages/sklearn/svm/base.py:193: FutureWarning: The default value of gamma will change from 'auto' to 'scale' in version 0.22 to account better for unscaled features. Set gamma explicitly to 'auto' or 'scale' to avoid this warning.\n",
            "  \"avoid this warning.\", FutureWarning)\n",
            "/usr/local/lib/python3.6/dist-packages/sklearn/svm/base.py:193: FutureWarning: The default value of gamma will change from 'auto' to 'scale' in version 0.22 to account better for unscaled features. Set gamma explicitly to 'auto' or 'scale' to avoid this warning.\n",
            "  \"avoid this warning.\", FutureWarning)\n"
          ],
          "name": "stderr"
        }
      ]
    },
    {
      "cell_type": "code",
      "metadata": {
        "id": "PQR-1_E20XhE",
        "colab_type": "code",
        "colab": {}
      },
      "source": [
        "# df_result = pd.DataFrame()\n",
        "# for i in skenario_1:\n",
        "#     nama_file = 'hasil/skenario2/random/komposisi999.csv'\n",
        "#     nama_file = nama_file.replace('999',str(i))\n",
        "#     df_komposisi = pd.read_csv(nama_file,sep=\";\")\n",
        "#     df_result = df_result.append(df_komposisi.iloc[5:,:])\n",
        "    \n",
        "# df_result.insert(loc=0, column='No', value=list(range(df_result.shape[0])))\n",
        "# df_result = df_result.set_index('No')\n",
        "\n",
        "# del df_result.index.name\n",
        "\n",
        "# df_result.to_csv('hasil/skenario2/random/result.csv', sep=';',index=False)\n",
        "# df_result"
      ],
      "execution_count": 0,
      "outputs": []
    },
    {
      "cell_type": "code",
      "metadata": {
        "id": "yQnSObZd6QCT",
        "colab_type": "code",
        "colab": {
          "base_uri": "https://localhost:8080/",
          "height": 235
        },
        "outputId": "54d99c4d-862b-4e3f-c9eb-4f0b397c522d"
      },
      "source": [
        "df_result = pd.DataFrame()\n",
        "for i in skenario_1:\n",
        "    df_result = df_result.append(result[i].iloc[5:,:])\n",
        "    \n",
        "df_result.insert(loc=0, column='No', value=list(range(df_result.shape[0])))\n",
        "df_result = df_result.set_index('No')\n",
        "\n",
        "del df_result.index.name\n",
        "\n",
        "df_result"
      ],
      "execution_count": 149,
      "outputs": [
        {
          "output_type": "execute_result",
          "data": {
            "text/html": [
              "<div>\n",
              "<style scoped>\n",
              "    .dataframe tbody tr th:only-of-type {\n",
              "        vertical-align: middle;\n",
              "    }\n",
              "\n",
              "    .dataframe tbody tr th {\n",
              "        vertical-align: top;\n",
              "    }\n",
              "\n",
              "    .dataframe thead th {\n",
              "        text-align: right;\n",
              "    }\n",
              "</style>\n",
              "<table border=\"1\" class=\"dataframe\">\n",
              "  <thead>\n",
              "    <tr style=\"text-align: right;\">\n",
              "      <th></th>\n",
              "      <th>Akurasi</th>\n",
              "      <th>Sensitivity</th>\n",
              "      <th>Specifity</th>\n",
              "      <th>precision</th>\n",
              "      <th>recall</th>\n",
              "      <th>f1_score</th>\n",
              "      <th>Waktu</th>\n",
              "    </tr>\n",
              "  </thead>\n",
              "  <tbody>\n",
              "    <tr>\n",
              "      <th>0</th>\n",
              "      <td>0.906971</td>\n",
              "      <td>0.892627</td>\n",
              "      <td>0.921382</td>\n",
              "      <td>0.918988</td>\n",
              "      <td>0.892627</td>\n",
              "      <td>0.905567</td>\n",
              "      <td>0.099043</td>\n",
              "    </tr>\n",
              "    <tr>\n",
              "      <th>1</th>\n",
              "      <td>0.906971</td>\n",
              "      <td>0.892791</td>\n",
              "      <td>0.921351</td>\n",
              "      <td>0.919033</td>\n",
              "      <td>0.892791</td>\n",
              "      <td>0.905662</td>\n",
              "      <td>0.020188</td>\n",
              "    </tr>\n",
              "    <tr>\n",
              "      <th>2</th>\n",
              "      <td>0.491446</td>\n",
              "      <td>0.400960</td>\n",
              "      <td>0.600000</td>\n",
              "      <td>0.795495</td>\n",
              "      <td>0.400960</td>\n",
              "      <td>0.264541</td>\n",
              "      <td>13.001440</td>\n",
              "    </tr>\n",
              "    <tr>\n",
              "      <th>3</th>\n",
              "      <td>0.738630</td>\n",
              "      <td>0.610706</td>\n",
              "      <td>0.866471</td>\n",
              "      <td>0.824436</td>\n",
              "      <td>0.610706</td>\n",
              "      <td>0.699946</td>\n",
              "      <td>0.004966</td>\n",
              "    </tr>\n",
              "    <tr>\n",
              "      <th>4</th>\n",
              "      <td>0.989041</td>\n",
              "      <td>0.991734</td>\n",
              "      <td>0.986340</td>\n",
              "      <td>0.986465</td>\n",
              "      <td>0.991734</td>\n",
              "      <td>0.989085</td>\n",
              "      <td>0.072068</td>\n",
              "    </tr>\n",
              "    <tr>\n",
              "      <th>5</th>\n",
              "      <td>0.989893</td>\n",
              "      <td>0.993064</td>\n",
              "      <td>0.986721</td>\n",
              "      <td>0.986808</td>\n",
              "      <td>0.993064</td>\n",
              "      <td>0.989926</td>\n",
              "      <td>0.164058</td>\n",
              "    </tr>\n",
              "  </tbody>\n",
              "</table>\n",
              "</div>"
            ],
            "text/plain": [
              "    Akurasi  Sensitivity  Specifity  precision    recall  f1_score      Waktu\n",
              "0  0.906971     0.892627   0.921382   0.918988  0.892627  0.905567   0.099043\n",
              "1  0.906971     0.892791   0.921351   0.919033  0.892791  0.905662   0.020188\n",
              "2  0.491446     0.400960   0.600000   0.795495  0.400960  0.264541  13.001440\n",
              "3  0.738630     0.610706   0.866471   0.824436  0.610706  0.699946   0.004966\n",
              "4  0.989041     0.991734   0.986340   0.986465  0.991734  0.989085   0.072068\n",
              "5  0.989893     0.993064   0.986721   0.986808  0.993064  0.989926   0.164058"
            ]
          },
          "metadata": {
            "tags": []
          },
          "execution_count": 149
        }
      ]
    },
    {
      "cell_type": "code",
      "metadata": {
        "id": "lKruW3Wc39_S",
        "colab_type": "code",
        "colab": {}
      },
      "source": [
        ""
      ],
      "execution_count": 0,
      "outputs": []
    },
    {
      "cell_type": "code",
      "metadata": {
        "id": "UYu4n1Va39_Y",
        "colab_type": "code",
        "colab": {
          "base_uri": "https://localhost:8080/",
          "height": 187
        },
        "outputId": "985ef821-d8d7-4581-e8b6-e27f159ff795"
      },
      "source": [
        "importances = clf.feature_importances_\n",
        "indices = np.argsort(importances)[::-1]\n",
        "fitur_importance =[]\n",
        "for f in range(X_new.shape[1]):\n",
        "    if  importances[indices[f]] > 0 :\n",
        "        fitur_importance.append([X_new.columns[indices[f]],importances[indices[f]]])\n",
        "        print(\"%2d) %-*s %f\" % (f + 1, 30,\n",
        "        X_new.columns[indices[f]],\n",
        "        importances[indices[f]]))"
      ],
      "execution_count": 150,
      "outputs": [
        {
          "output_type": "stream",
          "text": [
            " 1) oldBalanceOrig                 0.316370\n",
            " 2) amount                         0.196088\n",
            " 3) newBalanceOrig                 0.178454\n",
            " 4) type                           0.134572\n",
            " 5) step                           0.049421\n",
            " 6) nameOrig                       0.047474\n",
            " 7) newBalanceDest                 0.042975\n",
            " 8) oldBalanceDest                 0.026403\n",
            " 9) nameDest                       0.008069\n",
            "10) isFlaggedFraud                 0.000174\n"
          ],
          "name": "stdout"
        }
      ]
    },
    {
      "cell_type": "code",
      "metadata": {
        "id": "5y5Fgcg_39_d",
        "colab_type": "code",
        "colab": {
          "base_uri": "https://localhost:8080/",
          "height": 359
        },
        "outputId": "7603d6d4-cd0e-4509-b233-742fdb54e9df"
      },
      "source": [
        "df_FI = pd.DataFrame(data=fitur_importance,columns=['fitur','value'])\n",
        "# np.array(df_FI['fitur'])\n",
        "df_FI"
      ],
      "execution_count": 151,
      "outputs": [
        {
          "output_type": "execute_result",
          "data": {
            "text/html": [
              "<div>\n",
              "<style scoped>\n",
              "    .dataframe tbody tr th:only-of-type {\n",
              "        vertical-align: middle;\n",
              "    }\n",
              "\n",
              "    .dataframe tbody tr th {\n",
              "        vertical-align: top;\n",
              "    }\n",
              "\n",
              "    .dataframe thead th {\n",
              "        text-align: right;\n",
              "    }\n",
              "</style>\n",
              "<table border=\"1\" class=\"dataframe\">\n",
              "  <thead>\n",
              "    <tr style=\"text-align: right;\">\n",
              "      <th></th>\n",
              "      <th>fitur</th>\n",
              "      <th>value</th>\n",
              "    </tr>\n",
              "  </thead>\n",
              "  <tbody>\n",
              "    <tr>\n",
              "      <th>0</th>\n",
              "      <td>oldBalanceOrig</td>\n",
              "      <td>0.316370</td>\n",
              "    </tr>\n",
              "    <tr>\n",
              "      <th>1</th>\n",
              "      <td>amount</td>\n",
              "      <td>0.196088</td>\n",
              "    </tr>\n",
              "    <tr>\n",
              "      <th>2</th>\n",
              "      <td>newBalanceOrig</td>\n",
              "      <td>0.178454</td>\n",
              "    </tr>\n",
              "    <tr>\n",
              "      <th>3</th>\n",
              "      <td>type</td>\n",
              "      <td>0.134572</td>\n",
              "    </tr>\n",
              "    <tr>\n",
              "      <th>4</th>\n",
              "      <td>step</td>\n",
              "      <td>0.049421</td>\n",
              "    </tr>\n",
              "    <tr>\n",
              "      <th>5</th>\n",
              "      <td>nameOrig</td>\n",
              "      <td>0.047474</td>\n",
              "    </tr>\n",
              "    <tr>\n",
              "      <th>6</th>\n",
              "      <td>newBalanceDest</td>\n",
              "      <td>0.042975</td>\n",
              "    </tr>\n",
              "    <tr>\n",
              "      <th>7</th>\n",
              "      <td>oldBalanceDest</td>\n",
              "      <td>0.026403</td>\n",
              "    </tr>\n",
              "    <tr>\n",
              "      <th>8</th>\n",
              "      <td>nameDest</td>\n",
              "      <td>0.008069</td>\n",
              "    </tr>\n",
              "    <tr>\n",
              "      <th>9</th>\n",
              "      <td>isFlaggedFraud</td>\n",
              "      <td>0.000174</td>\n",
              "    </tr>\n",
              "  </tbody>\n",
              "</table>\n",
              "</div>"
            ],
            "text/plain": [
              "            fitur     value\n",
              "0  oldBalanceOrig  0.316370\n",
              "1          amount  0.196088\n",
              "2  newBalanceOrig  0.178454\n",
              "3            type  0.134572\n",
              "4            step  0.049421\n",
              "5        nameOrig  0.047474\n",
              "6  newBalanceDest  0.042975\n",
              "7  oldBalanceDest  0.026403\n",
              "8        nameDest  0.008069\n",
              "9  isFlaggedFraud  0.000174"
            ]
          },
          "metadata": {
            "tags": []
          },
          "execution_count": 151
        }
      ]
    },
    {
      "cell_type": "code",
      "metadata": {
        "id": "1AXt3y4239_n",
        "colab_type": "code",
        "colab": {}
      },
      "source": [
        "# dot_data = StringIO()  \n",
        "# tree.export_graphviz(clf.estimators_[8], out_file=dot_data,  \n",
        "#                          feature_names=X_new.columns)  \n",
        "# graph = pydotplus.graph_from_dot_data(dot_data.getvalue())  \n",
        "# Image(graph.create_png())"
      ],
      "execution_count": 0,
      "outputs": []
    },
    {
      "cell_type": "code",
      "metadata": {
        "id": "NkfvUYwT39_r",
        "colab_type": "code",
        "colab": {}
      },
      "source": [
        "# dot_data = StringIO()  \n",
        "# tree.export_graphviz(clf_DT,out_file=dot_data,feature_names=X_new.columns)  \n",
        "# graph = pydotplus.graph_from_dot_data(dot_data.getvalue())  \n",
        "# Image(graph.create_png())"
      ],
      "execution_count": 0,
      "outputs": []
    },
    {
      "cell_type": "code",
      "metadata": {
        "id": "9F4Dd31C39_u",
        "colab_type": "code",
        "colab": {
          "base_uri": "https://localhost:8080/",
          "height": 34
        },
        "outputId": "a192a5ea-1c30-49be-ae4f-c69e34bc5cd5"
      },
      "source": [
        "df.shape"
      ],
      "execution_count": 154,
      "outputs": [
        {
          "output_type": "execute_result",
          "data": {
            "text/plain": [
              "(6362620, 11)"
            ]
          },
          "metadata": {
            "tags": []
          },
          "execution_count": 154
        }
      ]
    },
    {
      "cell_type": "code",
      "metadata": {
        "id": "ZcpDRTz2uTet",
        "colab_type": "code",
        "colab": {}
      },
      "source": [
        ""
      ],
      "execution_count": 0,
      "outputs": []
    }
  ]
}